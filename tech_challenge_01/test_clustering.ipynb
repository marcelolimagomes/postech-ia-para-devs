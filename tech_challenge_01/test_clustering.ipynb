{
 "cells": [
  {
   "cell_type": "code",
   "execution_count": 1,
   "metadata": {},
   "outputs": [],
   "source": [
    "import pandas as pd\n",
    "import numpy as np\n",
    "\n",
    "from pycaret.clustering import ClusteringExperiment\n",
    "\n",
    "\n",
    "data_dir = \"./data/\""
   ]
  },
  {
   "cell_type": "code",
   "execution_count": 2,
   "metadata": {},
   "outputs": [
    {
     "name": "stdout",
     "output_type": "stream",
     "text": [
      "<class 'pandas.core.frame.DataFrame'>\n",
      "RangeIndex: 1338 entries, 0 to 1337\n",
      "Data columns (total 7 columns):\n",
      " #   Column    Non-Null Count  Dtype  \n",
      "---  ------    --------------  -----  \n",
      " 0   age       1338 non-null   int64  \n",
      " 1   sex       1338 non-null   object \n",
      " 2   bmi       1338 non-null   float64\n",
      " 3   children  1338 non-null   int64  \n",
      " 4   smoker    1338 non-null   object \n",
      " 5   region    1338 non-null   object \n",
      " 6   charges   1338 non-null   float64\n",
      "dtypes: float64(2), int64(2), object(3)\n",
      "memory usage: 73.3+ KB\n"
     ]
    }
   ],
   "source": [
    "df_insurance = pd.read_csv(f\"{data_dir}insurance.csv\")\n",
    "df_insurance.info()"
   ]
  },
  {
   "cell_type": "code",
   "execution_count": 3,
   "metadata": {},
   "outputs": [
    {
     "data": {
      "text/html": [
       "<div>\n",
       "<style scoped>\n",
       "    .dataframe tbody tr th:only-of-type {\n",
       "        vertical-align: middle;\n",
       "    }\n",
       "\n",
       "    .dataframe tbody tr th {\n",
       "        vertical-align: top;\n",
       "    }\n",
       "\n",
       "    .dataframe thead th {\n",
       "        text-align: right;\n",
       "    }\n",
       "</style>\n",
       "<table border=\"1\" class=\"dataframe\">\n",
       "  <thead>\n",
       "    <tr style=\"text-align: right;\">\n",
       "      <th></th>\n",
       "      <th>age</th>\n",
       "      <th>bmi</th>\n",
       "      <th>children</th>\n",
       "      <th>charges</th>\n",
       "      <th>born_year</th>\n",
       "      <th>has_children</th>\n",
       "      <th>sex_male</th>\n",
       "      <th>smoker_yes</th>\n",
       "      <th>region_northwest</th>\n",
       "      <th>region_southeast</th>\n",
       "      <th>region_southwest</th>\n",
       "    </tr>\n",
       "  </thead>\n",
       "  <tbody>\n",
       "    <tr>\n",
       "      <th>0</th>\n",
       "      <td>19</td>\n",
       "      <td>27.900</td>\n",
       "      <td>0</td>\n",
       "      <td>16884.92400</td>\n",
       "      <td>2005</td>\n",
       "      <td>False</td>\n",
       "      <td>False</td>\n",
       "      <td>True</td>\n",
       "      <td>False</td>\n",
       "      <td>False</td>\n",
       "      <td>True</td>\n",
       "    </tr>\n",
       "    <tr>\n",
       "      <th>1</th>\n",
       "      <td>18</td>\n",
       "      <td>33.770</td>\n",
       "      <td>1</td>\n",
       "      <td>1725.55230</td>\n",
       "      <td>2006</td>\n",
       "      <td>True</td>\n",
       "      <td>True</td>\n",
       "      <td>False</td>\n",
       "      <td>False</td>\n",
       "      <td>True</td>\n",
       "      <td>False</td>\n",
       "    </tr>\n",
       "    <tr>\n",
       "      <th>2</th>\n",
       "      <td>28</td>\n",
       "      <td>33.000</td>\n",
       "      <td>3</td>\n",
       "      <td>4449.46200</td>\n",
       "      <td>1996</td>\n",
       "      <td>True</td>\n",
       "      <td>True</td>\n",
       "      <td>False</td>\n",
       "      <td>False</td>\n",
       "      <td>True</td>\n",
       "      <td>False</td>\n",
       "    </tr>\n",
       "    <tr>\n",
       "      <th>3</th>\n",
       "      <td>33</td>\n",
       "      <td>22.705</td>\n",
       "      <td>0</td>\n",
       "      <td>21984.47061</td>\n",
       "      <td>1991</td>\n",
       "      <td>False</td>\n",
       "      <td>True</td>\n",
       "      <td>False</td>\n",
       "      <td>True</td>\n",
       "      <td>False</td>\n",
       "      <td>False</td>\n",
       "    </tr>\n",
       "    <tr>\n",
       "      <th>4</th>\n",
       "      <td>32</td>\n",
       "      <td>28.880</td>\n",
       "      <td>0</td>\n",
       "      <td>3866.85520</td>\n",
       "      <td>1992</td>\n",
       "      <td>False</td>\n",
       "      <td>True</td>\n",
       "      <td>False</td>\n",
       "      <td>True</td>\n",
       "      <td>False</td>\n",
       "      <td>False</td>\n",
       "    </tr>\n",
       "    <tr>\n",
       "      <th>...</th>\n",
       "      <td>...</td>\n",
       "      <td>...</td>\n",
       "      <td>...</td>\n",
       "      <td>...</td>\n",
       "      <td>...</td>\n",
       "      <td>...</td>\n",
       "      <td>...</td>\n",
       "      <td>...</td>\n",
       "      <td>...</td>\n",
       "      <td>...</td>\n",
       "      <td>...</td>\n",
       "    </tr>\n",
       "    <tr>\n",
       "      <th>1333</th>\n",
       "      <td>50</td>\n",
       "      <td>30.970</td>\n",
       "      <td>3</td>\n",
       "      <td>10600.54830</td>\n",
       "      <td>1974</td>\n",
       "      <td>True</td>\n",
       "      <td>True</td>\n",
       "      <td>False</td>\n",
       "      <td>True</td>\n",
       "      <td>False</td>\n",
       "      <td>False</td>\n",
       "    </tr>\n",
       "    <tr>\n",
       "      <th>1334</th>\n",
       "      <td>18</td>\n",
       "      <td>31.920</td>\n",
       "      <td>0</td>\n",
       "      <td>2205.98080</td>\n",
       "      <td>2006</td>\n",
       "      <td>False</td>\n",
       "      <td>False</td>\n",
       "      <td>False</td>\n",
       "      <td>False</td>\n",
       "      <td>False</td>\n",
       "      <td>False</td>\n",
       "    </tr>\n",
       "    <tr>\n",
       "      <th>1335</th>\n",
       "      <td>18</td>\n",
       "      <td>36.850</td>\n",
       "      <td>0</td>\n",
       "      <td>1629.83350</td>\n",
       "      <td>2006</td>\n",
       "      <td>False</td>\n",
       "      <td>False</td>\n",
       "      <td>False</td>\n",
       "      <td>False</td>\n",
       "      <td>True</td>\n",
       "      <td>False</td>\n",
       "    </tr>\n",
       "    <tr>\n",
       "      <th>1336</th>\n",
       "      <td>21</td>\n",
       "      <td>25.800</td>\n",
       "      <td>0</td>\n",
       "      <td>2007.94500</td>\n",
       "      <td>2003</td>\n",
       "      <td>False</td>\n",
       "      <td>False</td>\n",
       "      <td>False</td>\n",
       "      <td>False</td>\n",
       "      <td>False</td>\n",
       "      <td>True</td>\n",
       "    </tr>\n",
       "    <tr>\n",
       "      <th>1337</th>\n",
       "      <td>61</td>\n",
       "      <td>29.070</td>\n",
       "      <td>0</td>\n",
       "      <td>29141.36030</td>\n",
       "      <td>1963</td>\n",
       "      <td>False</td>\n",
       "      <td>False</td>\n",
       "      <td>True</td>\n",
       "      <td>True</td>\n",
       "      <td>False</td>\n",
       "      <td>False</td>\n",
       "    </tr>\n",
       "  </tbody>\n",
       "</table>\n",
       "<p>1338 rows × 11 columns</p>\n",
       "</div>"
      ],
      "text/plain": [
       "      age     bmi  children      charges  born_year  has_children  sex_male  \\\n",
       "0      19  27.900         0  16884.92400       2005         False     False   \n",
       "1      18  33.770         1   1725.55230       2006          True      True   \n",
       "2      28  33.000         3   4449.46200       1996          True      True   \n",
       "3      33  22.705         0  21984.47061       1991         False      True   \n",
       "4      32  28.880         0   3866.85520       1992         False      True   \n",
       "...   ...     ...       ...          ...        ...           ...       ...   \n",
       "1333   50  30.970         3  10600.54830       1974          True      True   \n",
       "1334   18  31.920         0   2205.98080       2006         False     False   \n",
       "1335   18  36.850         0   1629.83350       2006         False     False   \n",
       "1336   21  25.800         0   2007.94500       2003         False     False   \n",
       "1337   61  29.070         0  29141.36030       1963         False     False   \n",
       "\n",
       "      smoker_yes  region_northwest  region_southeast  region_southwest  \n",
       "0           True             False             False              True  \n",
       "1          False             False              True             False  \n",
       "2          False             False              True             False  \n",
       "3          False              True             False             False  \n",
       "4          False              True             False             False  \n",
       "...          ...               ...               ...               ...  \n",
       "1333       False              True             False             False  \n",
       "1334       False             False             False             False  \n",
       "1335       False             False              True             False  \n",
       "1336       False             False             False              True  \n",
       "1337        True              True             False             False  \n",
       "\n",
       "[1338 rows x 11 columns]"
      ]
     },
     "execution_count": 3,
     "metadata": {},
     "output_type": "execute_result"
    }
   ],
   "source": [
    "# Feature Engeneering\n",
    "df_insurance[\"born_year\"] = (pd.Timestamp.now() - (df_insurance[\"age\"] * np.timedelta64(365, \"D\"))).dt.year\n",
    "df_insurance[\"has_children\"] = df_insurance[\"children\"] > 0\n",
    "df_insurance = pd.get_dummies(df_insurance, drop_first=True)\n",
    "\n",
    "df_insurance"
   ]
  },
  {
   "cell_type": "code",
   "execution_count": 4,
   "metadata": {},
   "outputs": [
    {
     "data": {
      "text/html": [
       "<style type=\"text/css\">\n",
       "#T_25036_row4_col1 {\n",
       "  background-color: lightgreen;\n",
       "}\n",
       "</style>\n",
       "<table id=\"T_25036\">\n",
       "  <thead>\n",
       "    <tr>\n",
       "      <th class=\"blank level0\" >&nbsp;</th>\n",
       "      <th id=\"T_25036_level0_col0\" class=\"col_heading level0 col0\" >Description</th>\n",
       "      <th id=\"T_25036_level0_col1\" class=\"col_heading level0 col1\" >Value</th>\n",
       "    </tr>\n",
       "  </thead>\n",
       "  <tbody>\n",
       "    <tr>\n",
       "      <th id=\"T_25036_level0_row0\" class=\"row_heading level0 row0\" >0</th>\n",
       "      <td id=\"T_25036_row0_col0\" class=\"data row0 col0\" >Session id</td>\n",
       "      <td id=\"T_25036_row0_col1\" class=\"data row0 col1\" >123</td>\n",
       "    </tr>\n",
       "    <tr>\n",
       "      <th id=\"T_25036_level0_row1\" class=\"row_heading level0 row1\" >1</th>\n",
       "      <td id=\"T_25036_row1_col0\" class=\"data row1 col0\" >Original data shape</td>\n",
       "      <td id=\"T_25036_row1_col1\" class=\"data row1 col1\" >(1338, 11)</td>\n",
       "    </tr>\n",
       "    <tr>\n",
       "      <th id=\"T_25036_level0_row2\" class=\"row_heading level0 row2\" >2</th>\n",
       "      <td id=\"T_25036_row2_col0\" class=\"data row2 col0\" >Transformed data shape</td>\n",
       "      <td id=\"T_25036_row2_col1\" class=\"data row2 col1\" >(1338, 11)</td>\n",
       "    </tr>\n",
       "    <tr>\n",
       "      <th id=\"T_25036_level0_row3\" class=\"row_heading level0 row3\" >3</th>\n",
       "      <td id=\"T_25036_row3_col0\" class=\"data row3 col0\" >Numeric features</td>\n",
       "      <td id=\"T_25036_row3_col1\" class=\"data row3 col1\" >5</td>\n",
       "    </tr>\n",
       "    <tr>\n",
       "      <th id=\"T_25036_level0_row4\" class=\"row_heading level0 row4\" >4</th>\n",
       "      <td id=\"T_25036_row4_col0\" class=\"data row4 col0\" >Preprocess</td>\n",
       "      <td id=\"T_25036_row4_col1\" class=\"data row4 col1\" >True</td>\n",
       "    </tr>\n",
       "    <tr>\n",
       "      <th id=\"T_25036_level0_row5\" class=\"row_heading level0 row5\" >5</th>\n",
       "      <td id=\"T_25036_row5_col0\" class=\"data row5 col0\" >Imputation type</td>\n",
       "      <td id=\"T_25036_row5_col1\" class=\"data row5 col1\" >simple</td>\n",
       "    </tr>\n",
       "    <tr>\n",
       "      <th id=\"T_25036_level0_row6\" class=\"row_heading level0 row6\" >6</th>\n",
       "      <td id=\"T_25036_row6_col0\" class=\"data row6 col0\" >Numeric imputation</td>\n",
       "      <td id=\"T_25036_row6_col1\" class=\"data row6 col1\" >mean</td>\n",
       "    </tr>\n",
       "    <tr>\n",
       "      <th id=\"T_25036_level0_row7\" class=\"row_heading level0 row7\" >7</th>\n",
       "      <td id=\"T_25036_row7_col0\" class=\"data row7 col0\" >Categorical imputation</td>\n",
       "      <td id=\"T_25036_row7_col1\" class=\"data row7 col1\" >mode</td>\n",
       "    </tr>\n",
       "    <tr>\n",
       "      <th id=\"T_25036_level0_row8\" class=\"row_heading level0 row8\" >8</th>\n",
       "      <td id=\"T_25036_row8_col0\" class=\"data row8 col0\" >CPU Jobs</td>\n",
       "      <td id=\"T_25036_row8_col1\" class=\"data row8 col1\" >-1</td>\n",
       "    </tr>\n",
       "    <tr>\n",
       "      <th id=\"T_25036_level0_row9\" class=\"row_heading level0 row9\" >9</th>\n",
       "      <td id=\"T_25036_row9_col0\" class=\"data row9 col0\" >Use GPU</td>\n",
       "      <td id=\"T_25036_row9_col1\" class=\"data row9 col1\" >False</td>\n",
       "    </tr>\n",
       "    <tr>\n",
       "      <th id=\"T_25036_level0_row10\" class=\"row_heading level0 row10\" >10</th>\n",
       "      <td id=\"T_25036_row10_col0\" class=\"data row10 col0\" >Log Experiment</td>\n",
       "      <td id=\"T_25036_row10_col1\" class=\"data row10 col1\" >False</td>\n",
       "    </tr>\n",
       "    <tr>\n",
       "      <th id=\"T_25036_level0_row11\" class=\"row_heading level0 row11\" >11</th>\n",
       "      <td id=\"T_25036_row11_col0\" class=\"data row11 col0\" >Experiment Name</td>\n",
       "      <td id=\"T_25036_row11_col1\" class=\"data row11 col1\" >cluster-default-name</td>\n",
       "    </tr>\n",
       "    <tr>\n",
       "      <th id=\"T_25036_level0_row12\" class=\"row_heading level0 row12\" >12</th>\n",
       "      <td id=\"T_25036_row12_col0\" class=\"data row12 col0\" >USI</td>\n",
       "      <td id=\"T_25036_row12_col1\" class=\"data row12 col1\" >390c</td>\n",
       "    </tr>\n",
       "  </tbody>\n",
       "</table>\n"
      ],
      "text/plain": [
       "<pandas.io.formats.style.Styler at 0x78e72f1eae90>"
      ]
     },
     "metadata": {},
     "output_type": "display_data"
    }
   ],
   "source": [
    "exp = ClusteringExperiment()\n",
    "s = exp.setup(data = df_insurance, session_id=123)"
   ]
  },
  {
   "cell_type": "code",
   "execution_count": 5,
   "metadata": {},
   "outputs": [
    {
     "data": {
      "text/html": [],
      "text/plain": [
       "<IPython.core.display.HTML object>"
      ]
     },
     "metadata": {},
     "output_type": "display_data"
    },
    {
     "data": {
      "text/html": [
       "<style type=\"text/css\">\n",
       "</style>\n",
       "<table id=\"T_3380c\">\n",
       "  <thead>\n",
       "    <tr>\n",
       "      <th class=\"blank level0\" >&nbsp;</th>\n",
       "      <th id=\"T_3380c_level0_col0\" class=\"col_heading level0 col0\" >Silhouette</th>\n",
       "      <th id=\"T_3380c_level0_col1\" class=\"col_heading level0 col1\" >Calinski-Harabasz</th>\n",
       "      <th id=\"T_3380c_level0_col2\" class=\"col_heading level0 col2\" >Davies-Bouldin</th>\n",
       "      <th id=\"T_3380c_level0_col3\" class=\"col_heading level0 col3\" >Homogeneity</th>\n",
       "      <th id=\"T_3380c_level0_col4\" class=\"col_heading level0 col4\" >Rand Index</th>\n",
       "      <th id=\"T_3380c_level0_col5\" class=\"col_heading level0 col5\" >Completeness</th>\n",
       "    </tr>\n",
       "  </thead>\n",
       "  <tbody>\n",
       "    <tr>\n",
       "      <th id=\"T_3380c_level0_row0\" class=\"row_heading level0 row0\" >0</th>\n",
       "      <td id=\"T_3380c_row0_col0\" class=\"data row0 col0\" >0.6105</td>\n",
       "      <td id=\"T_3380c_row0_col1\" class=\"data row0 col1\" >6746.0756</td>\n",
       "      <td id=\"T_3380c_row0_col2\" class=\"data row0 col2\" >0.4657</td>\n",
       "      <td id=\"T_3380c_row0_col3\" class=\"data row0 col3\" >0</td>\n",
       "      <td id=\"T_3380c_row0_col4\" class=\"data row0 col4\" >0</td>\n",
       "      <td id=\"T_3380c_row0_col5\" class=\"data row0 col5\" >0</td>\n",
       "    </tr>\n",
       "  </tbody>\n",
       "</table>\n"
      ],
      "text/plain": [
       "<pandas.io.formats.style.Styler at 0x78e72d563e50>"
      ]
     },
     "metadata": {},
     "output_type": "display_data"
    },
    {
     "data": {
      "text/html": [],
      "text/plain": [
       "<IPython.core.display.HTML object>"
      ]
     },
     "metadata": {},
     "output_type": "display_data"
    },
    {
     "data": {
      "text/html": [
       "<div>\n",
       "<style scoped>\n",
       "    .dataframe tbody tr th:only-of-type {\n",
       "        vertical-align: middle;\n",
       "    }\n",
       "\n",
       "    .dataframe tbody tr th {\n",
       "        vertical-align: top;\n",
       "    }\n",
       "\n",
       "    .dataframe thead th {\n",
       "        text-align: right;\n",
       "    }\n",
       "</style>\n",
       "<table border=\"1\" class=\"dataframe\">\n",
       "  <thead>\n",
       "    <tr style=\"text-align: right;\">\n",
       "      <th></th>\n",
       "      <th>age</th>\n",
       "      <th>bmi</th>\n",
       "      <th>children</th>\n",
       "      <th>charges</th>\n",
       "      <th>born_year</th>\n",
       "      <th>has_children</th>\n",
       "      <th>sex_male</th>\n",
       "      <th>smoker_yes</th>\n",
       "      <th>region_northwest</th>\n",
       "      <th>region_southeast</th>\n",
       "      <th>region_southwest</th>\n",
       "      <th>Cluster</th>\n",
       "    </tr>\n",
       "  </thead>\n",
       "  <tbody>\n",
       "    <tr>\n",
       "      <th>0</th>\n",
       "      <td>19</td>\n",
       "      <td>27.900000</td>\n",
       "      <td>0</td>\n",
       "      <td>16884.923828</td>\n",
       "      <td>2005</td>\n",
       "      <td>False</td>\n",
       "      <td>False</td>\n",
       "      <td>True</td>\n",
       "      <td>False</td>\n",
       "      <td>False</td>\n",
       "      <td>True</td>\n",
       "      <td>Cluster 3</td>\n",
       "    </tr>\n",
       "    <tr>\n",
       "      <th>1</th>\n",
       "      <td>18</td>\n",
       "      <td>33.770000</td>\n",
       "      <td>1</td>\n",
       "      <td>1725.552246</td>\n",
       "      <td>2006</td>\n",
       "      <td>True</td>\n",
       "      <td>True</td>\n",
       "      <td>False</td>\n",
       "      <td>False</td>\n",
       "      <td>True</td>\n",
       "      <td>False</td>\n",
       "      <td>Cluster 0</td>\n",
       "    </tr>\n",
       "    <tr>\n",
       "      <th>2</th>\n",
       "      <td>28</td>\n",
       "      <td>33.000000</td>\n",
       "      <td>3</td>\n",
       "      <td>4449.461914</td>\n",
       "      <td>1996</td>\n",
       "      <td>True</td>\n",
       "      <td>True</td>\n",
       "      <td>False</td>\n",
       "      <td>False</td>\n",
       "      <td>True</td>\n",
       "      <td>False</td>\n",
       "      <td>Cluster 0</td>\n",
       "    </tr>\n",
       "    <tr>\n",
       "      <th>3</th>\n",
       "      <td>33</td>\n",
       "      <td>22.705000</td>\n",
       "      <td>0</td>\n",
       "      <td>21984.470703</td>\n",
       "      <td>1991</td>\n",
       "      <td>False</td>\n",
       "      <td>True</td>\n",
       "      <td>False</td>\n",
       "      <td>True</td>\n",
       "      <td>False</td>\n",
       "      <td>False</td>\n",
       "      <td>Cluster 2</td>\n",
       "    </tr>\n",
       "    <tr>\n",
       "      <th>4</th>\n",
       "      <td>32</td>\n",
       "      <td>28.879999</td>\n",
       "      <td>0</td>\n",
       "      <td>3866.855225</td>\n",
       "      <td>1992</td>\n",
       "      <td>False</td>\n",
       "      <td>True</td>\n",
       "      <td>False</td>\n",
       "      <td>True</td>\n",
       "      <td>False</td>\n",
       "      <td>False</td>\n",
       "      <td>Cluster 0</td>\n",
       "    </tr>\n",
       "    <tr>\n",
       "      <th>...</th>\n",
       "      <td>...</td>\n",
       "      <td>...</td>\n",
       "      <td>...</td>\n",
       "      <td>...</td>\n",
       "      <td>...</td>\n",
       "      <td>...</td>\n",
       "      <td>...</td>\n",
       "      <td>...</td>\n",
       "      <td>...</td>\n",
       "      <td>...</td>\n",
       "      <td>...</td>\n",
       "      <td>...</td>\n",
       "    </tr>\n",
       "    <tr>\n",
       "      <th>1333</th>\n",
       "      <td>50</td>\n",
       "      <td>30.969999</td>\n",
       "      <td>3</td>\n",
       "      <td>10600.547852</td>\n",
       "      <td>1974</td>\n",
       "      <td>True</td>\n",
       "      <td>True</td>\n",
       "      <td>False</td>\n",
       "      <td>True</td>\n",
       "      <td>False</td>\n",
       "      <td>False</td>\n",
       "      <td>Cluster 3</td>\n",
       "    </tr>\n",
       "    <tr>\n",
       "      <th>1334</th>\n",
       "      <td>18</td>\n",
       "      <td>31.920000</td>\n",
       "      <td>0</td>\n",
       "      <td>2205.980713</td>\n",
       "      <td>2006</td>\n",
       "      <td>False</td>\n",
       "      <td>False</td>\n",
       "      <td>False</td>\n",
       "      <td>False</td>\n",
       "      <td>False</td>\n",
       "      <td>False</td>\n",
       "      <td>Cluster 0</td>\n",
       "    </tr>\n",
       "    <tr>\n",
       "      <th>1335</th>\n",
       "      <td>18</td>\n",
       "      <td>36.849998</td>\n",
       "      <td>0</td>\n",
       "      <td>1629.833496</td>\n",
       "      <td>2006</td>\n",
       "      <td>False</td>\n",
       "      <td>False</td>\n",
       "      <td>False</td>\n",
       "      <td>False</td>\n",
       "      <td>True</td>\n",
       "      <td>False</td>\n",
       "      <td>Cluster 0</td>\n",
       "    </tr>\n",
       "    <tr>\n",
       "      <th>1336</th>\n",
       "      <td>21</td>\n",
       "      <td>25.799999</td>\n",
       "      <td>0</td>\n",
       "      <td>2007.944946</td>\n",
       "      <td>2003</td>\n",
       "      <td>False</td>\n",
       "      <td>False</td>\n",
       "      <td>False</td>\n",
       "      <td>False</td>\n",
       "      <td>False</td>\n",
       "      <td>True</td>\n",
       "      <td>Cluster 0</td>\n",
       "    </tr>\n",
       "    <tr>\n",
       "      <th>1337</th>\n",
       "      <td>61</td>\n",
       "      <td>29.070000</td>\n",
       "      <td>0</td>\n",
       "      <td>29141.359375</td>\n",
       "      <td>1963</td>\n",
       "      <td>False</td>\n",
       "      <td>False</td>\n",
       "      <td>True</td>\n",
       "      <td>True</td>\n",
       "      <td>False</td>\n",
       "      <td>False</td>\n",
       "      <td>Cluster 2</td>\n",
       "    </tr>\n",
       "  </tbody>\n",
       "</table>\n",
       "<p>1338 rows × 12 columns</p>\n",
       "</div>"
      ],
      "text/plain": [
       "      age        bmi  children       charges  born_year  has_children  \\\n",
       "0      19  27.900000         0  16884.923828       2005         False   \n",
       "1      18  33.770000         1   1725.552246       2006          True   \n",
       "2      28  33.000000         3   4449.461914       1996          True   \n",
       "3      33  22.705000         0  21984.470703       1991         False   \n",
       "4      32  28.879999         0   3866.855225       1992         False   \n",
       "...   ...        ...       ...           ...        ...           ...   \n",
       "1333   50  30.969999         3  10600.547852       1974          True   \n",
       "1334   18  31.920000         0   2205.980713       2006         False   \n",
       "1335   18  36.849998         0   1629.833496       2006         False   \n",
       "1336   21  25.799999         0   2007.944946       2003         False   \n",
       "1337   61  29.070000         0  29141.359375       1963         False   \n",
       "\n",
       "      sex_male  smoker_yes  region_northwest  region_southeast  \\\n",
       "0        False        True             False             False   \n",
       "1         True       False             False              True   \n",
       "2         True       False             False              True   \n",
       "3         True       False              True             False   \n",
       "4         True       False              True             False   \n",
       "...        ...         ...               ...               ...   \n",
       "1333      True       False              True             False   \n",
       "1334     False       False             False             False   \n",
       "1335     False       False             False              True   \n",
       "1336     False       False             False             False   \n",
       "1337     False        True              True             False   \n",
       "\n",
       "      region_southwest    Cluster  \n",
       "0                 True  Cluster 3  \n",
       "1                False  Cluster 0  \n",
       "2                False  Cluster 0  \n",
       "3                False  Cluster 2  \n",
       "4                False  Cluster 0  \n",
       "...                ...        ...  \n",
       "1333             False  Cluster 3  \n",
       "1334             False  Cluster 0  \n",
       "1335             False  Cluster 0  \n",
       "1336              True  Cluster 0  \n",
       "1337             False  Cluster 2  \n",
       "\n",
       "[1338 rows x 12 columns]"
      ]
     },
     "execution_count": 5,
     "metadata": {},
     "output_type": "execute_result"
    }
   ],
   "source": [
    "'''\n",
    "'kmeans' - K-Means Clustering\n",
    "'ap' - Affinity Propagation\n",
    "'meanshift' - Mean shift Clustering\n",
    "'sc' - Spectral Clustering\n",
    "'hclust' - Agglomerative Clustering\n",
    "'dbscan' - Density-Based Spatial Clustering\n",
    "'optics' - OPTICS Clustering\n",
    "'birch' - Birch Clustering\n",
    "'kmodes' - K-Modes Clustering\n",
    "'''\n",
    "\n",
    "model = exp.create_model(\"kmeans\")\n",
    "data_cluster = exp.assign_model(model)\n",
    "data_cluster"
   ]
  },
  {
   "cell_type": "code",
   "execution_count": 6,
   "metadata": {},
   "outputs": [
    {
     "data": {
      "application/vnd.jupyter.widget-view+json": {
       "model_id": "7fcc7eca49724031a6b014f811b0b736",
       "version_major": 2,
       "version_minor": 0
      },
      "text/plain": [
       "interactive(children=(ToggleButtons(description='Plot Type:', icons=('',), options=(('Pipeline Plot', 'pipelin…"
      ]
     },
     "metadata": {},
     "output_type": "display_data"
    },
    {
     "data": {
      "application/vnd.plotly.v1+json": {
       "config": {
        "plotlyServerURL": "https://plot.ly"
       },
       "data": [
        {
         "customdata": [
          [
           29
          ],
          [
           19
          ],
          [
           39
          ],
          [
           19
          ],
          [
           38
          ],
          [
           18
          ],
          [
           38
          ],
          [
           26
          ],
          [
           33
          ],
          [
           20
          ],
          [
           34
          ],
          [
           44
          ],
          [
           43
          ],
          [
           20
          ],
          [
           38
          ],
          [
           37
          ],
          [
           22
          ],
          [
           31
          ],
          [
           31
          ],
          [
           36
          ],
          [
           18
          ],
          [
           21
          ],
          [
           18
          ],
          [
           40
          ],
          [
           26
          ],
          [
           19
          ],
          [
           38
          ],
          [
           19
          ],
          [
           18
          ],
          [
           27
          ],
          [
           18
          ],
          [
           19
          ],
          [
           28
          ],
          [
           29
          ],
          [
           25
          ],
          [
           21
          ],
          [
           23
          ],
          [
           24
          ],
          [
           21
          ],
          [
           32
          ],
          [
           24
          ],
          [
           27
          ],
          [
           20
          ],
          [
           30
          ],
          [
           28
          ],
          [
           25
          ],
          [
           32
          ],
          [
           42
          ],
          [
           42
          ],
          [
           34
          ],
          [
           28
          ],
          [
           34
          ],
          [
           19
          ],
          [
           18
          ],
          [
           18
          ],
          [
           27
          ],
          [
           18
          ],
          [
           18
          ],
          [
           19
          ],
          [
           31
          ],
          [
           33
          ],
          [
           38
          ],
          [
           19
          ],
          [
           36
          ],
          [
           26
          ],
          [
           26
          ],
          [
           19
          ],
          [
           35
          ],
          [
           31
          ],
          [
           22
          ],
          [
           32
          ],
          [
           34
          ],
          [
           38
          ],
          [
           21
          ],
          [
           44
          ],
          [
           35
          ],
          [
           18
          ],
          [
           29
          ],
          [
           19
          ],
          [
           34
          ],
          [
           19
          ],
          [
           20
          ],
          [
           30
          ],
          [
           18
          ],
          [
           18
          ],
          [
           23
          ],
          [
           42
          ],
          [
           20
          ],
          [
           32
          ],
          [
           38
          ],
          [
           22
          ],
          [
           32
          ],
          [
           21
          ],
          [
           19
          ],
          [
           32
          ],
          [
           21
          ],
          [
           26
          ],
          [
           24
          ],
          [
           19
          ],
          [
           35
          ],
          [
           21
          ],
          [
           21
          ],
          [
           25
          ],
          [
           44
          ],
          [
           27
          ],
          [
           19
          ],
          [
           35
          ],
          [
           30
          ],
          [
           34
          ],
          [
           33
          ],
          [
           36
          ],
          [
           19
          ],
          [
           23
          ],
          [
           30
          ],
          [
           28
          ],
          [
           26
          ],
          [
           23
          ],
          [
           18
          ],
          [
           29
          ],
          [
           35
          ],
          [
           39
          ],
          [
           24
          ],
          [
           42
          ],
          [
           46
          ],
          [
           21
          ],
          [
           22
          ],
          [
           29
          ],
          [
           42
          ],
          [
           31
          ],
          [
           22
          ],
          [
           35
          ],
          [
           18
          ],
          [
           30
          ],
          [
           31
          ],
          [
           18
          ],
          [
           45
          ],
          [
           37
          ],
          [
           40
          ],
          [
           35
          ],
          [
           39
          ],
          [
           26
          ],
          [
           38
          ],
          [
           18
          ],
          [
           25
          ],
          [
           36
          ],
          [
           24
          ],
          [
           18
          ],
          [
           32
          ],
          [
           24
          ],
          [
           27
          ],
          [
           31
          ],
          [
           33
          ],
          [
           38
          ],
          [
           32
          ],
          [
           19
          ],
          [
           25
          ],
          [
           25
          ],
          [
           19
          ],
          [
           43
          ],
          [
           43
          ],
          [
           28
          ],
          [
           29
          ],
          [
           38
          ],
          [
           41
          ],
          [
           31
          ],
          [
           23
          ],
          [
           20
          ],
          [
           24
          ],
          [
           21
          ],
          [
           35
          ],
          [
           36
          ],
          [
           42
          ],
          [
           27
          ],
          [
           36
          ],
          [
           28
          ],
          [
           41
          ],
          [
           36
          ],
          [
           18
          ],
          [
           41
          ],
          [
           39
          ],
          [
           24
          ],
          [
           19
          ],
          [
           18
          ],
          [
           36
          ],
          [
           31
          ],
          [
           19
          ],
          [
           40
          ],
          [
           33
          ],
          [
           36
          ],
          [
           42
          ],
          [
           40
          ],
          [
           38
          ],
          [
           21
          ],
          [
           20
          ],
          [
           24
          ],
          [
           27
          ],
          [
           26
          ],
          [
           23
          ],
          [
           21
          ],
          [
           20
          ],
          [
           34
          ],
          [
           33
          ],
          [
           18
          ],
          [
           21
          ],
          [
           26
          ],
          [
           45
          ],
          [
           38
          ],
          [
           21
          ],
          [
           42
          ],
          [
           30
          ],
          [
           41
          ],
          [
           30
          ],
          [
           40
          ],
          [
           42
          ],
          [
           45
          ],
          [
           39
          ],
          [
           18
          ],
          [
           22
          ],
          [
           31
          ],
          [
           35
          ],
          [
           19
          ],
          [
           21
          ],
          [
           35
          ],
          [
           23
          ],
          [
           45
          ],
          [
           27
          ],
          [
           31
          ],
          [
           23
          ],
          [
           19
          ],
          [
           24
          ],
          [
           28
          ],
          [
           20
          ],
          [
           21
          ],
          [
           36
          ],
          [
           28
          ],
          [
           33
          ],
          [
           31
          ],
          [
           25
          ],
          [
           18
          ],
          [
           30
          ],
          [
           22
          ],
          [
           23
          ],
          [
           19
          ],
          [
           26
          ],
          [
           18
          ],
          [
           25
          ],
          [
           26
          ],
          [
           35
          ],
          [
           42
          ],
          [
           34
          ],
          [
           43
          ],
          [
           18
          ],
          [
           24
          ],
          [
           33
          ],
          [
           41
          ],
          [
           44
          ],
          [
           28
          ],
          [
           22
          ],
          [
           38
          ],
          [
           18
          ],
          [
           34
          ],
          [
           20
          ],
          [
           44
          ],
          [
           27
          ],
          [
           38
          ],
          [
           20
          ],
          [
           34
          ],
          [
           18
          ],
          [
           30
          ],
          [
           32
          ],
          [
           45
          ],
          [
           39
          ],
          [
           22
          ],
          [
           26
          ],
          [
           25
          ],
          [
           41
          ],
          [
           19
          ],
          [
           39
          ],
          [
           19
          ],
          [
           19
          ],
          [
           33
          ],
          [
           21
          ],
          [
           38
          ],
          [
           43
          ],
          [
           27
          ],
          [
           30
          ],
          [
           26
          ],
          [
           26
          ],
          [
           41
          ],
          [
           26
          ],
          [
           27
          ],
          [
           33
          ],
          [
           37
          ],
          [
           23
          ],
          [
           32
          ],
          [
           18
          ],
          [
           43
          ],
          [
           42
          ],
          [
           21
          ],
          [
           40
          ],
          [
           30
          ],
          [
           29
          ],
          [
           36
          ],
          [
           41
          ],
          [
           45
          ],
          [
           37
          ],
          [
           26
          ],
          [
           22
          ],
          [
           21
          ],
          [
           29
          ],
          [
           36
          ],
          [
           19
          ],
          [
           18
          ],
          [
           24
          ],
          [
           29
          ],
          [
           40
          ],
          [
           19
          ],
          [
           19
          ],
          [
           36
          ],
          [
           33
          ],
          [
           22
          ],
          [
           23
          ],
          [
           36
          ],
          [
           39
          ],
          [
           18
          ],
          [
           25
          ],
          [
           23
          ],
          [
           33
          ],
          [
           39
          ],
          [
           26
          ],
          [
           27
          ],
          [
           40
          ],
          [
           29
          ],
          [
           28
          ],
          [
           28
          ],
          [
           46
          ],
          [
           18
          ],
          [
           38
          ],
          [
           19
          ],
          [
           30
          ],
          [
           40
          ],
          [
           39
          ],
          [
           19
          ],
          [
           18
          ],
          [
           41
          ],
          [
           25
          ],
          [
           36
          ],
          [
           33
          ],
          [
           20
          ],
          [
           29
          ],
          [
           41
          ],
          [
           21
          ],
          [
           30
          ],
          [
           26
          ],
          [
           38
          ],
          [
           44
          ],
          [
           21
          ],
          [
           44
          ],
          [
           22
          ],
          [
           40
          ],
          [
           31
          ],
          [
           20
          ],
          [
           18
          ],
          [
           40
          ],
          [
           40
          ],
          [
           25
          ],
          [
           18
          ],
          [
           40
          ],
          [
           39
          ],
          [
           31
          ],
          [
           19
          ],
          [
           20
          ],
          [
           42
          ],
          [
           22
          ],
          [
           41
          ],
          [
           31
          ],
          [
           28
          ],
          [
           18
          ],
          [
           35
          ],
          [
           44
          ],
          [
           32
          ],
          [
           33
          ],
          [
           29
          ],
          [
           34
          ],
          [
           21
          ],
          [
           26
          ],
          [
           27
          ],
          [
           36
          ],
          [
           41
          ],
          [
           34
          ],
          [
           22
          ],
          [
           24
          ],
          [
           41
          ],
          [
           19
          ],
          [
           31
          ],
          [
           44
          ],
          [
           42
          ],
          [
           18
          ],
          [
           32
          ],
          [
           22
          ],
          [
           29
          ],
          [
           37
          ],
          [
           19
          ],
          [
           34
          ],
          [
           26
          ],
          [
           42
          ],
          [
           22
          ],
          [
           21
          ],
          [
           22
          ],
          [
           35
          ],
          [
           19
          ],
          [
           25
          ],
          [
           26
          ],
          [
           22
          ],
          [
           20
          ],
          [
           19
          ],
          [
           32
          ],
          [
           28
          ],
          [
           20
          ],
          [
           41
          ],
          [
           38
          ],
          [
           43
          ],
          [
           37
          ],
          [
           44
          ],
          [
           18
          ],
          [
           26
          ],
          [
           19
          ],
          [
           35
          ],
          [
           33
          ],
          [
           32
          ],
          [
           35
          ],
          [
           28
          ],
          [
           36
          ],
          [
           28
          ],
          [
           38
          ],
          [
           18
          ],
          [
           24
          ],
          [
           35
          ],
          [
           18
          ],
          [
           41
          ],
          [
           30
          ],
          [
           37
          ],
          [
           27
          ],
          [
           19
          ],
          [
           38
          ],
          [
           32
          ],
          [
           25
          ],
          [
           37
          ],
          [
           32
          ],
          [
           25
          ],
          [
           34
          ],
          [
           19
          ],
          [
           26
          ],
          [
           22
          ],
          [
           29
          ],
          [
           28
          ],
          [
           18
          ],
          [
           44
          ],
          [
           40
          ],
          [
           28
          ],
          [
           20
          ],
          [
           41
          ],
          [
           37
          ],
          [
           37
          ],
          [
           46
          ],
          [
           19
          ],
          [
           44
          ],
          [
           26
          ],
          [
           31
          ],
          [
           30
          ],
          [
           18
          ],
          [
           23
          ],
          [
           38
          ],
          [
           29
          ],
          [
           30
          ],
          [
           22
          ],
          [
           19
          ],
          [
           22
          ],
          [
           42
          ],
          [
           25
          ],
          [
           20
          ],
          [
           31
          ],
          [
           41
          ],
          [
           19
          ],
          [
           28
          ],
          [
           18
          ],
          [
           24
          ],
          [
           32
          ],
          [
           29
          ],
          [
           41
          ],
          [
           37
          ],
          [
           32
          ],
          [
           43
          ],
          [
           39
          ],
          [
           36
          ],
          [
           18
          ],
          [
           23
          ],
          [
           34
          ],
          [
           18
          ],
          [
           18
          ],
          [
           19
          ],
          [
           19
          ],
          [
           18
          ],
          [
           18
          ],
          [
           25
          ],
          [
           22
          ],
          [
           36
          ],
          [
           30
          ],
          [
           41
          ],
          [
           28
          ],
          [
           19
          ],
          [
           35
          ],
          [
           35
          ],
          [
           40
          ],
          [
           41
          ],
          [
           20
          ],
          [
           44
          ],
          [
           37
          ],
          [
           37
          ],
          [
           45
          ],
          [
           41
          ],
          [
           27
          ],
          [
           18
          ],
          [
           31
          ],
          [
           34
          ],
          [
           29
          ],
          [
           25
          ],
          [
           32
          ],
          [
           28
          ],
          [
           31
          ],
          [
           29
          ],
          [
           19
          ],
          [
           18
          ],
          [
           40
          ],
          [
           24
          ],
          [
           31
          ],
          [
           27
          ],
          [
           24
          ],
          [
           38
          ],
          [
           42
          ],
          [
           25
          ],
          [
           33
          ],
          [
           31
          ],
          [
           32
          ],
          [
           37
          ],
          [
           38
          ],
          [
           34
          ],
          [
           23
          ],
          [
           18
          ],
          [
           28
          ],
          [
           39
          ],
          [
           42
          ],
          [
           28
          ],
          [
           34
          ],
          [
           18
          ],
          [
           24
          ],
          [
           25
          ],
          [
           18
          ],
          [
           33
          ],
          [
           21
          ],
          [
           19
          ],
          [
           42
          ],
          [
           23
          ],
          [
           40
          ]
         ],
         "hovertemplate": "Cluster=Cluster 0<br>PCA1=%{x}<br>PCA2=%{y}<br>Feature=%{customdata[0]}<extra></extra>",
         "legendgroup": "Cluster 0",
         "marker": {
          "color": "#636efa",
          "opacity": 0.5,
          "symbol": "circle"
         },
         "mode": "markers",
         "name": "Cluster 0",
         "showlegend": true,
         "textposition": "top center",
         "type": "scattergl",
         "x": [
          -7561.561696406311,
          -12016.498944610621,
          -5851.899345817904,
          -11521.66057700227,
          -7785.955073207719,
          -11073.963009934017,
          -6125.55981589179,
          -9891.521359939386,
          -6718.6751521460565,
          -11303.411745891372,
          -8751.598212781322,
          -5645.788835012339,
          -6433.050642876646,
          -8355.374508256096,
          -7296.037590774691,
          -6473.559666329204,
          -10627.16424407659,
          -8338.7806392039,
          -8923.40336993299,
          -8002.605513633427,
          -11648.246976754739,
          -11250.25609959451,
          -11559.409399252148,
          -5587.750841604332,
          -9282.50387821044,
          -10561.191668065047,
          -7886.886295814489,
          -11638.399124368158,
          -11069.339073820474,
          -10773.390854665184,
          -11066.96372863251,
          -11525.969968113077,
          -8832.165878486476,
          -8837.040427053913,
          -10736.036487238674,
          -11736.128365766412,
          -11446.146486031595,
          -11297.481939546997,
          -10193.338840435827,
          -8584.035918523232,
          -10226.218700254527,
          -10772.014779396519,
          -10214.046002255558,
          -8743.244676100927,
          -10001.581634822642,
          -10056.809004235125,
          -9297.501472419399,
          -6911.64304123689,
          -6110.3248008660485,
          -7073.976002215952,
          -9422.755462433455,
          -9335.244423367527,
          -11624.004659326323,
          -11052.965410169892,
          -12148.562299693014,
          -10776.40743269278,
          -10966.433839580408,
          -10469.176719387466,
          -11641.964687723439,
          -9394.69176135391,
          -7298.046890473909,
          -7203.295505676415,
          -12014.135860076542,
          -8381.386897034794,
          -10367.523777594883,
          -10947.807755797814,
          -11511.095854415778,
          -8029.65900640882,
          -9412.66748519317,
          -10742.615302659018,
          -9276.247018272732,
          -8278.049091851237,
          -7872.8047151664205,
          -9990.565471897768,
          -5752.393354761761,
          -8524.080229848354,
          -11562.434709965079,
          -9917.144651993041,
          -10540.326157850763,
          -8770.086355237581,
          -11142.00376032674,
          -11500.902631065695,
          -9238.187421304248,
          -8709.247319220374,
          -9788.567839463423,
          -9678.952095425195,
          -5631.001890716634,
          -11878.905150039538,
          -9193.92895559645,
          -7414.520896424186,
          -11595.800116354752,
          -8816.023607320178,
          -11168.169315484756,
          -12008.57540267056,
          -8707.583990774769,
          -11360.905953424975,
          -10093.615057317174,
          -8652.351683953872,
          -11132.363420448903,
          -7423.505495349046,
          -10089.924486660717,
          -10672.654931005933,
          -10043.309431517615,
          -5646.900731180947,
          -9577.000023310768,
          -11541.539077950763,
          -7433.903213783809,
          -7576.99809504777,
          -7086.125795151089,
          -8380.425487141432,
          -7792.386961662876,
          -11634.70147146285,
          -10874.33681777606,
          -9716.224858341964,
          -7958.259541217216,
          -10366.342300613269,
          -11433.14909384764,
          -11662.926374345065,
          -9799.017615982022,
          -8519.354304920598,
          -7513.006700036442,
          -11300.818116334196,
          -6224.921059155272,
          -5743.711375619316,
          -10102.979200606427,
          -11019.597799053332,
          -8364.019664323374,
          -7300.696650068907,
          -9026.837187009014,
          -11015.636089118449,
          -7343.578231809635,
          -5946.701527744609,
          -9132.905327091905,
          -8532.158620905559,
          -12121.038352917196,
          -5925.333284799965,
          -6392.444341868528,
          -7359.477059883928,
          -8508.094219982639,
          -5758.154680729909,
          -10373.106766878378,
          -6715.352285915387,
          -11565.736094220681,
          -10543.035792269076,
          -6722.229013637591,
          -11288.849358133204,
          -11638.766438381987,
          -8807.704162941302,
          -10789.45158146745,
          -9916.960202694065,
          -10010.2287605569,
          -9085.328415148451,
          -6617.8943971983535,
          -9195.972554940667,
          -11649.095936504682,
          -9676.260823203622,
          -8190.335549378943,
          -11135.532837224775,
          -5924.691827032254,
          -5945.371113934296,
          -10108.97516566635,
          -8060.850518853117,
          -6896.864119730236,
          -6013.69712082598,
          -9509.134939402185,
          -10832.3749985614,
          -11285.979953623315,
          -10812.930320483087,
          -11744.12137494955,
          -6868.133529519046,
          -8868.19039085224,
          -6110.088939822156,
          -10296.304130725457,
          -7892.965174543983,
          -8550.693313957923,
          -6605.734380776195,
          -8004.058254541818,
          -11052.833320620244,
          -6489.065658363909,
          -7152.9277605691395,
          -9035.504967202687,
          -12007.185288319111,
          -11542.895031186505,
          -7801.4169755537905,
          -7157.196106412121,
          -12028.175807506697,
          -6670.060105849812,
          -8504.40474689513,
          -7812.378210930779,
          -5540.774567721032,
          -7831.670610603386,
          -6119.3307910505,
          -11166.320550067248,
          -10908.205042788468,
          -10917.46364675316,
          -9692.430081656432,
          -10069.184105817903,
          -9769.819108471189,
          -11249.880824283644,
          -11395.090282404795,
          -7885.087422815544,
          -7895.387265166185,
          -11648.552784822337,
          -10685.165838098666,
          -9786.099831955507,
          -5824.499241391323,
          -6337.181231148674,
          -11167.35425055801,
          -6223.697822634885,
          -8550.904428880902,
          -6008.678694491816,
          -9004.260140296412,
          -6283.7239770934475,
          -6219.777623847809,
          -5822.012799992358,
          -6060.929817362816,
          -12123.637782525791,
          -10538.52152690319,
          -8919.912815858648,
          -6856.246384042831,
          -12018.028107018341,
          -11353.114501034752,
          -7336.043995762665,
          -11454.556635133362,
          -5538.559136355865,
          -10199.62132903114,
          -9512.582448040226,
          -9672.835689935291,
          -11643.153249532155,
          -10427.67141743403,
          -10207.920444645877,
          -11392.504643488206,
          -11364.075370200846,
          -7686.117472469666,
          -8841.542039264634,
          -6909.430813048631,
          -8239.157685231496,
          -9960.638869548962,
          -12138.928918321419,
          -7841.699437128327,
          -9344.674330786374,
          -10853.476613959792,
          -11133.55198225743,
          -10589.482185229155,
          -12128.989728882227,
          -8878.779774723289,
          -9878.065068298214,
          -8025.196768049369,
          -5630.110646828326,
          -7675.578952075844,
          -5828.917723753506,
          -11637.390241043026,
          -10797.097149365263,
          -8012.918349831484,
          -7561.25456626294,
          -5643.425384267178,
          -8835.335051121943,
          -10631.390133111343,
          -6698.877897356795,
          -11062.737839597949,
          -6517.388124582889,
          -11390.363987015777,
          -5636.697358391703,
          -9711.809710538953,
          -7782.159883393941,
          -10703.963484688773,
          -8950.01360273479,
          -11050.98985735,
          -8516.789610684606,
          -8597.033432777482,
          -5922.2749599845265,
          -7032.123491884669,
          -11605.433497726342,
          -10343.363841631613,
          -10063.940130945877,
          -6980.664902062897,
          -11630.871729007507,
          -6914.1495456604425,
          -10356.86661213967,
          -12027.619737351906,
          -8490.823202140067,
          -9409.225024084079,
          -7293.5911262348545,
          -7019.984447026451,
          -8423.509546532758,
          -9611.081423823085,
          -8706.239052171999,
          -8609.144537424914,
          -6988.185465237788,
          -9860.105044151089,
          -9211.716918228634,
          -6616.636856782973,
          -6834.797799291188,
          -10580.318675693288,
          -8121.873423145163,
          -12134.035745101151,
          -6421.393003391267,
          -7303.532786712537,
          -11262.489032644995,
          -6770.18510713661,
          -8432.844964909236,
          -9326.832675877416,
          -8870.692519192216,
          -7085.099301358228,
          -6047.632289571262,
          -6958.470884766398,
          -10094.14341551691,
          -9827.368576465853,
          -10684.583830167725,
          -9533.964022999871,
          -6521.832524576183,
          -11153.096841113158,
          -11635.861200705793,
          -11292.616600352076,
          -9903.75794541525,
          -6097.061871535189,
          -11048.8709528668,
          -10561.323757614888,
          -6026.610395760153,
          -6604.181377850343,
          -11587.834827627225,
          -8803.810380404606,
          -7998.247779189431,
          -7146.853106117073,
          -11558.208698860031,
          -8392.450485838997,
          -10481.375148740368,
          -9566.070923135347,
          -7608.195249674557,
          -10570.861709082274,
          -9314.357973368833,
          -7854.760157295287,
          -9212.311304798839,
          -8932.693744968896,
          -8929.98840612438,
          -6123.312646314632,
          -11561.510205185932,
          -5733.258353112814,
          -11139.758970400118,
          -8552.224836098863,
          -6676.913132197839,
          -7620.706405158257,
          -11630.871729007507,
          -12132.965355829785,
          -6411.941392647778,
          -11132.777654896756,
          -8386.557682336603,
          -8474.767851351564,
          -11305.655005779876,
          -8347.512132693868,
          -6494.459115868344,
          -11755.089320442,
          -7944.776740425281,
          -9288.453519439025,
          -6136.521051268585,
          -5538.990983369019,
          -11243.458488655464,
          -5850.9406130649695,
          -9265.011486237048,
          -6660.309957261143,
          -8829.213846073771,
          -11290.363992054543,
          -11567.981128287896,
          -6881.043354196317,
          -7350.316242340887,
          -10061.644735225978,
          -11654.669190312434,
          -6876.817465161756,
          -6560.2302970099445,
          -8335.72231438865,
          -11542.651096189857,
          -11012.959045093776,
          -5826.775977952992,
          -11215.10770718982,
          -5912.244400210349,
          -6470.969325250422,
          -10580.932615451504,
          -11638.613595383336,
          -8153.9249491349765,
          -5543.5645578298745,
          -8016.902304471501,
          -8008.9566398966035,
          -9323.015194075962,
          -8257.953347168435,
          -11737.963214171243,
          -9877.453452163207,
          -10786.694054916547,
          -7897.059218169299,
          -5898.647659443384,
          -8267.642514410656,
          -10515.410982621881,
          -9732.728920596011,
          -6699.395546435866,
          -10559.606837606625,
          -8807.220991037637,
          -6122.945144015063,
          -6108.406690275382,
          -11636.472816840609,
          -8913.382792095863,
          -10528.484918375647,
          -8132.1706573716165,
          -8623.663918783925,
          -12028.870925717569,
          -8855.2663745141,
          -9779.880942471711,
          -6796.405578112776,
          -11103.70035273213,
          -10865.699151192082,
          -11224.74804706785,
          -8523.37167865562,
          -12008.992424769267,
          -10248.621381536599,
          -9977.900063775474,
          -11114.75167823015,
          -10813.223247922535,
          -11637.870888238718,
          -8726.19232833806,
          -9993.267252701382,
          -11389.946847097523,
          -6500.228080073116,
          -7188.017003643484,
          -5932.670919202905,
          -6583.992540070325,
          -5530.080680554511,
          -11564.811711511833,
          -9885.031213426919,
          -11427.916031337223,
          -8145.208991965988,
          -7211.252919213835,
          -6936.081983236469,
          -7541.418447620372,
          -9503.544360054471,
          -7797.974769063204,
          -9537.805187461017,
          -6814.559728323209,
          -11550.081825947966,
          -10414.99375032997,
          -8024.376889256166,
          -11575.640613198291,
          -7084.293095437105,
          -9625.338614987551,
          -6284.916949944195,
          -8442.526047188561,
          -10551.155059537314,
          -6629.878721872892,
          -7141.628744041474,
          -10031.993922669546,
          -8242.27638715775,
          -8118.292537457117,
          -9081.318081436428,
          -8266.572129389666,
          -10938.916095176912,
          -9393.126020086042,
          -8974.163005070934,
          -10403.308687149378,
          -10098.813543914945,
          -12134.494518237316,
          -6321.716585868702,
          -6193.232003573614,
          -7655.0605460500365,
          -8439.80398966201,
          -7570.582383707529,
          -7071.671580731676,
          -7158.06952748283,
          -5528.307393162682,
          -11533.0594658561,
          -6117.746040656897,
          -10968.130995049869,
          -7845.403481544125,
          -9033.30135238941,
          -11066.699793673235,
          -10875.26120048491,
          -6812.579117496267,
          -8836.512068854177,
          -9120.691495381434,
          -11119.964458710581,
          -10466.73821189429,
          -11116.072089698293,
          -7290.68811970731,
          -10747.261657574934,
          -11008.865245609055,
          -8320.667519416973,
          -6004.716984557124,
          -11433.19839263047,
          -8920.966762958089,
          -11550.999372220676,
          -10224.369934837021,
          -8599.785587564806,
          -8740.95179827642,
          -5521.263832930331,
          -7066.521308988268,
          -9280.584003518667,
          -5543.165129529693,
          -6068.721391823145,
          -6523.6812899936895,
          -12106.970571461497,
          -10495.241377652954,
          -8146.2352207014665,
          -12133.424128966333,
          -11072.246089925757,
          -8582.638512308233,
          -11538.758849247868,
          -11069.605031349427,
          -11565.86818377052,
          -9364.30436396983,
          -11113.681288958787,
          -6042.208749193839,
          -9119.398429657262,
          -6116.8667783065075,
          -10098.410443079476,
          -11645.002137019961,
          -8042.435866780131,
          -7639.965703276039,
          -6773.534961046264,
          -6997.943973402413,
          -10810.714034755454,
          -5849.224181337897,
          -6864.012363690675,
          -5988.917952894077,
          -5829.364336445647,
          -6394.459119304471,
          -9009.685483844445,
          -11064.45475960602,
          -9513.80568031024,
          -7280.900853961004,
          -10404.337329633088,
          -8765.768098501334,
          -9403.571045924296,
          -9136.787764865318,
          -7943.026354490753,
          -9229.870003891841,
          -11438.341827937933,
          -11640.601408857116,
          -6670.214476238847,
          -11283.497533846685,
          -9136.345192408024,
          -9708.541340385857,
          -10805.81286239404,
          -7869.440704353679,
          -6329.510297616454,
          -10549.110446721334,
          -8699.012799950488,
          -9030.534717844026,
          -8602.818094026656,
          -6956.664110277139,
          -7190.750172262978,
          -8375.671945293494,
          -10370.942538644023,
          -9877.078486591168,
          -9713.506057642287,
          -6932.345674991671,
          -5619.644630830345,
          -8820.966766394216,
          -8734.164768404658,
          -11544.882966730569,
          -10419.747753423862,
          -10637.438889434881,
          -11059.30424372202,
          -7916.351721859395,
          -9690.604764912769,
          -11527.221034408254,
          -6220.397850597662,
          -11443.588689640912,
          -6073.553287073196
         ],
         "xaxis": "x",
         "y": [
          10.797835558644305,
          22.694168960539994,
          -2.657418258244267,
          22.858188898405235,
          -2.0811510291326196,
          24.63921643695823,
          -1.259048562717662,
          14.005642858829404,
          5.359173815307635,
          21.646168352578215,
          2.9810117620696204,
          -9.467551226559486,
          -8.441591962927989,
          23.048263258145074,
          -1.85338197851946,
          -0.07392191362174166,
          19.084731220120926,
          7.627735969112714,
          7.20469709471439,
          0.6661216269077643,
          24.240131348524667,
          20.132126136074618,
          24.432762653470053,
          -3.919435399289074,
          14.034765411019674,
          23.484058161935824,
          -2.118450020767051,
          22.946459334259053,
          24.658550756153165,
          11.921677600616027,
          24.548545167704642,
          22.91401435082518,
          11.522485546738825,
          10.059720660058183,
          14.71165568503837,
          19.853292445610894,
          17.248341683889283,
          16.03260106471587,
          20.852792656319117,
          5.6668414355761145,
          16.56931274008748,
          11.903849380896867,
          22.106257996489333,
          8.754539129014708,
          10.835164451254249,
          15.176609261117122,
          5.647319888934482,
          -7.361153092979901,
          -7.055691169888697,
          3.7378374219973316,
          11.333297674593263,
          2.7032120155167996,
          22.759984323001508,
          24.367202473371847,
          24.14706378524817,
          11.95941611643012,
          24.66969987809566,
          24.802385560758577,
          22.99265038728546,
          6.814829587457562,
          5.0246595336000075,
          -1.7905652738461655,
          22.663554983652116,
          0.4239943379880146,
          13.598950941711793,
          13.19835975380245,
          22.72132651603889,
          1.9872943877448472,
          6.968464208384078,
          19.236867087135938,
          5.371974261949572,
          3.4208275053229134,
          -2.2995339982131586,
          20.91556776955414,
          -9.510560593224351,
          1.8178720218240432,
          24.39271890555891,
          9.639430996793662,
          23.213754950628896,
          3.2205210269500006,
          23.090310103317027,
          21.514962072593427,
          8.591869762011829,
          25.679306958650503,
          25.16831957331294,
          18.109042544246563,
          -6.769333009204717,
          21.262750361702633,
          5.647724871654505,
          -1.7438506156219895,
          18.56599939593683,
          5.902536453212561,
          20.33431485645007,
          22.591522138112296,
          5.923114269071044,
          20.141520585878546,
          13.856171480962738,
          17.24621206690814,
          22.965423178385514,
          2.0548529323615123,
          20.938470155787883,
          20.567473215137426,
          15.080961047726575,
          -9.453144582705125,
          12.258210162127904,
          23.115706281237564,
          2.189554444131594,
          9.483680033429595,
          3.8965682466865115,
          4.5546295287868865,
          0.711674094053597,
          22.898557493300242,
          17.679481437231832,
          8.29074360320983,
          12.004913594691985,
          13.582304668693622,
          17.07996493217585,
          24.43029805999172,
          9.45396859248851,
          1.756643912222658,
          -3.6281812368909607,
          16.075820791586487,
          -6.915391391811103,
          -12.228927859400462,
          21.02759470009101,
          18.940233177041527,
          10.50637944808227,
          -7.471538657435118,
          7.198501143705961,
          18.888909735784512,
          2.3623387243332363,
          27.08663649656685,
          8.574114522152282,
          7.364592050920706,
          23.790501234344788,
          -11.153302597450542,
          0.22063464241764413,
          -4.724108011552175,
          1.6107775788363299,
          -2.5275949748126547,
          13.592042318441164,
          -1.5372247221094657,
          24.435488454026387,
          14.90102839096461,
          1.2602342095413257,
          15.922109364961173,
          24.117315428595585,
          5.794757158034495,
          16.02706226851375,
          12.550496081748449,
          6.869587328335708,
          4.424177257886142,
          -1.3755108367508209,
          5.675536086461615,
          23.08503250455779,
          15.475077507794877,
          16.17543333346685,
          23.006481878834247,
          -8.373490267058722,
          -8.18482963063403,
          10.960815195751957,
          10.612808381965792,
          -1.8754354236625057,
          -5.496513176670151,
          6.952570325035038,
          17.215115137011246,
          21.420345357498466,
          16.32988174181033,
          19.955500412573695,
          2.6989398553231725,
          0.15454774870868,
          -7.057413592410618,
          12.314323079729796,
          0.5892600314996502,
          11.760953006458355,
          -5.745605972875351,
          0.6849401647663153,
          24.365491756745314,
          -5.831636899738064,
          -3.064542142703484,
          17.059381317871065,
          22.573513935640584,
          24.218825094405673,
          0.74942606593374,
          8.079522924511556,
          22.84543793789386,
          -4.393044390143285,
          4.815145572038288,
          0.8914206562716451,
          -6.593949134334147,
          -5.180142386343825,
          -1.2610922180524236,
          20.310363905927495,
          21.754739987700205,
          16.26004011988655,
          12.409315036662022,
          13.539677156543057,
          17.94328154313319,
          20.12860312011282,
          21.568236204500003,
          3.5584823834588137,
          4.844268124228561,
          24.24409318429841,
          20.72954709746925,
          13.984197200560079,
          -11.116082244210961,
          -1.2072014918294596,
          20.40165246792033,
          -6.929899426895627,
          8.952465667644148,
          -5.561522743121692,
          8.3310534460884,
          -4.24745269604511,
          -6.982021749209,
          -11.226189308409419,
          -2.7177897506394095,
          23.824176594460855,
          19.282534330272114,
          7.238707892896176,
          2.6236029964842564,
          22.71397797236357,
          20.040584515730323,
          2.2660734096820083,
          17.35729135126517,
          -11.013383431319234,
          12.327425619675603,
          6.998569880892062,
          18.02980644808544,
          23.008047420585083,
          16.489429841273367,
          10.818580486784914,
          21.53608021966673,
          20.182579286327275,
          0.6792434523144747,
          11.643950967111413,
          5.140717902020416,
          7.602751194851935,
          15.274247123792446,
          24.0222668817361,
          9.027943386900102,
          19.65336130602948,
          17.487140579361512,
          22.980820176032204,
          13.70547757139468,
          23.893508142450298,
          15.831002829160225,
          13.832662680289461,
          1.9308272954053092,
          -6.700885802511649,
          3.534007767652119,
          -8.271298204462141,
          24.099487268962775,
          16.12610741215138,
          4.942803145065043,
          -6.434245162474152,
          -9.498165058841249,
          11.563544403013186,
          19.13947620158981,
          -1.671988700938866,
          24.493800221888698,
          4.367506186687811,
          21.50834751186225,
          -9.583985589845277,
          12.5824771996901,
          -2.131652560499637,
          21.878488981529117,
          2.8617809150862463,
          24.42084232505805,
          8.590516799934386,
          5.8352181272032,
          -11.192920621097691,
          -3.2054866996298665,
          18.690796299448895,
          13.285968274662716,
          15.268991402822872,
          -6.0376158347719695,
          22.84894486440904,
          -3.3882073235217267,
          23.605387448109067,
          22.838234640400096,
          4.640544722724683,
          21.303233736058075,
          -1.885076486444749,
          -8.678141536296113,
          13.073943019982325,
          8.27213861098827,
          14.409528033355782,
          14.495951426905172,
          -5.941530718785285,
          13.598657307995053,
          12.676536253952538,
          5.461550733487466,
          -0.5433126941637679,
          17.755424740477103,
          6.174171841870758,
          23.95887798605823,
          -8.514718508353415,
          -7.433462857645349,
          20.29059833961638,
          -4.438870680324626,
          8.847298073386304,
          9.832220727988334,
          0.18830177165299852,
          -6.028194992234937,
          -10.992999423015714,
          -0.2867583064270647,
          13.86301456138646,
          19.410672941666085,
          20.644111262107817,
          9.825901312848723,
          1.3538034738953553,
          23.23401560176004,
          24.079678232705785,
          15.969572326021673,
          9.467351210712938,
          -3.975962433395776,
          23.227295949814557,
          23.485768914215278,
          1.5928435633131603,
          5.29885797728526,
          18.461473136981958,
          18.49680996846519,
          0.609665772986718,
          -3.1432380390420094,
          24.33797398417638,
          16.025470922596487,
          17.817136315367733,
          4.077554171984475,
          -3.6593034336389665,
          13.4642576387546,
          12.66196559179819,
          -4.881026043153816,
          9.77212286120528,
          11.480542549675665,
          11.525489044335648,
          -12.461769402713061,
          24.3807434725575,
          -1.1120787433969888,
          23.06122674013043,
          8.96957357339593,
          -4.302924594783726,
          -3.498568908184425,
          22.84894486440904,
          23.945011662199164,
          -5.566497972104459,
          14.702194616228203,
          0.4896458203574789,
          4.432549767105051,
          21.753123952042678,
          10.29253200617663,
          -5.763104197152032,
          20.098924416861276,
          9.097678597472056,
          14.113179788769365,
          -1.1170540080326905,
          -9.50548571201775,
          20.045405176958425,
          -9.577404460606306,
          19.965607754744955,
          -4.598005131943368,
          7.32799681601739,
          21.555033604681068,
          24.46457169704029,
          -4.4281141808944415,
          -4.841442816164016,
          15.317150199278185,
          24.323329316112467,
          -4.482859126710391,
          -2.8240032993741764,
          7.588117981118501,
          23.13011290065852,
          21.768302804589176,
          -6.922779427346261,
          18.783365218688125,
          -5.4654165956883265,
          8.452676430328637,
          10.501719246253563,
          24.115334480665542,
          2.1730792221428126,
          -9.447577991743458,
          6.237212050299819,
          4.891479703808023,
          9.861999710657775,
          3.238391195624265,
          19.877063317641625,
          13.8247390443949,
          12.094016152450271,
          0.6422941048634365,
          -5.56290362013138,
          3.3652475897219425,
          18.98314791160422,
          16.74891077111218,
          -5.875748738949144,
          23.46352883614487,
          7.1230793793085345,
          -9.859296384519904,
          -7.079203396338603,
          24.087601832947414,
          5.820295312185588,
          19.15251511284927,
          10.272485384403788,
          -1.1259440686290287,
          22.85444200908655,
          3.0597396495901354,
          13.824977093037864,
          -7.429974553821139,
          18.764156242131975,
          20.30076835258321,
          18.908252179272576,
          1.8100268684987044,
          22.596924661907146,
          14.97183940171856,
          13.700613953563158,
          18.908660741804034,
          21.870425781473706,
          22.939616193748986,
          6.084942530064129,
          10.80534766533842,
          21.501605882755037,
          -5.687030888663144,
          -1.9098424138684718,
          -8.271462342934832,
          0.012443278460150298,
          -9.622257648491441,
          24.42351296093863,
          13.843672238071095,
          22.98725120474748,
          2.0601677902990505,
          5.2445238406097365,
          6.650117356210743,
          2.1570011351853546,
          11.036977100408807,
          0.782728064564972,
          11.401577787198757,
          -1.5974044259324998,
          24.311927550078796,
          16.325194932519654,
          1.9188630763889796,
          24.56379690134331,
          -6.039979012586723,
          8.37894049209633,
          0.17190652605285234,
          13.320295329633492,
          23.354038908860026,
          -1.30025258065382,
          6.623268566413355,
          14.934374280200174,
          -0.9162430803658326,
          6.206433874852907,
          15.68653319263004,
          3.350042029158291,
          23.226905631289657,
          14.043799679406506,
          20.082609673919194,
          9.36437908804526,
          10.830514388434398,
          23.964820638369805,
          -10.05314664746993,
          -4.074361284379983,
          12.189615836523961,
          22.87641813874787,
          -6.313410214908534,
          -0.24431877783547898,
          -0.46931546185630263,
          -12.25054586495537,
          23.00585619696904,
          -9.92664705588518,
          13.460300533836278,
          7.730902476314059,
          8.627272264339714,
          24.54512350732008,
          17.691456930319582,
          -1.6230662845601742,
          10.052877579634456,
          8.493784739319441,
          18.97485233947633,
          23.604697211163142,
          18.924429375198297,
          -7.601197838046975,
          14.85707193576083,
          21.715268611052693,
          7.394428278123066,
          -5.612846148725775,
          23.05568239593066,
          11.408615716631793,
          24.323812926007818,
          16.5453617895649,
          5.869535258631064,
          10.238962212280754,
          -5.301339146614199,
          -0.311039216739185,
          5.4268207548213185,
          -8.166929300418554,
          -2.6168537762304687,
          1.3777544244179323,
          23.608258087466417,
          17.996768221768132,
          3.136707332639271,
          23.950954385816605,
          24.616976358887825,
          24.377066869911108,
          23.07968987629413,
          24.582760703209882,
          24.43719920630586,
          15.546327926481922,
          18.894794417944972,
          1.714923285157186,
          8.478376467601331,
          -5.504240878573471,
          10.823952742079745,
          23.03199831102131,
          2.074917453837974,
          2.0893963151474537,
          -4.3968099914940515,
          -5.813773883361556,
          21.837920998247938,
          -9.599644779022116,
          -0.24484268346499288,
          0.22218812649608569,
          -11.053053385344073,
          -5.714317879319747,
          12.827579100121035,
          24.51604026430617,
          7.014417152681175,
          3.650183351334026,
          9.376365939724202,
          15.712571698097927,
          5.596038039115733,
          11.434875186366792,
          7.651322127535468,
          9.919594005681002,
          23.12231275332855,
          24.14108624053997,
          -4.469696666799985,
          15.852777685579497,
          7.273652107007309,
          12.619369422780922,
          16.23901903547371,
          -2.343113917720401,
          -6.984512855593133,
          14.97972432295607,
          4.568699995450075,
          7.246403044751117,
          5.830159696015316,
          -0.30882990494222073,
          -1.95308951484018,
          3.3393573672273504,
          17.73266075677718,
          24.970695464546324,
          10.98809293421152,
          -3.1524797201839636,
          -6.916460047859584,
          11.457402034464076,
          2.833061027701158,
          24.24457679419336,
          16.38678311458496,
          14.858392369515403,
          24.449319945575166,
          5.03719862473871,
          20.914525928740353,
          22.930221743945037,
          -7.051880352606272,
          17.213867346977597,
          -4.201847799795556
         ],
         "yaxis": "y"
        },
        {
         "customdata": [
          [
           18
          ],
          [
           34
          ],
          [
           44
          ],
          [
           60
          ],
          [
           42
          ],
          [
           30
          ],
          [
           47
          ],
          [
           18
          ],
          [
           42
          ],
          [
           63
          ],
          [
           27
          ],
          [
           48
          ],
          [
           51
          ],
          [
           19
          ],
          [
           30
          ],
          [
           36
          ],
          [
           39
          ],
          [
           36
          ],
          [
           23
          ],
          [
           60
          ],
          [
           58
          ],
          [
           18
          ],
          [
           25
          ],
          [
           45
          ],
          [
           27
          ],
          [
           37
          ],
          [
           37
          ],
          [
           62
          ],
          [
           51
          ],
          [
           46
          ],
          [
           41
          ],
          [
           43
          ],
          [
           60
          ],
          [
           18
          ],
          [
           22
          ],
          [
           44
          ],
          [
           31
          ],
          [
           22
          ],
          [
           28
          ],
          [
           61
          ],
          [
           64
          ],
          [
           33
          ],
          [
           20
          ],
          [
           43
          ],
          [
           53
          ],
          [
           40
          ],
          [
           35
          ],
          [
           60
          ],
          [
           19
          ],
          [
           29
          ],
          [
           57
          ],
          [
           23
          ],
          [
           37
          ],
          [
           37
          ],
          [
           56
          ],
          [
           41
          ],
          [
           37
          ],
          [
           19
          ],
          [
           24
          ],
          [
           20
          ],
          [
           64
          ],
          [
           61
          ],
          [
           40
          ],
          [
           46
          ],
          [
           19
          ],
          [
           45
          ],
          [
           19
          ],
          [
           22
          ],
          [
           20
          ],
          [
           56
          ],
          [
           50
          ],
          [
           50
          ],
          [
           33
          ],
          [
           54
          ],
          [
           63
          ],
          [
           44
          ],
          [
           55
          ],
          [
           47
          ],
          [
           22
          ],
          [
           23
          ],
          [
           61
          ],
          [
           24
          ],
          [
           24
          ],
          [
           59
          ],
          [
           19
          ],
          [
           55
          ],
          [
           22
          ],
          [
           49
          ],
          [
           54
          ],
          [
           61
          ],
          [
           45
          ],
          [
           50
          ],
          [
           34
          ],
          [
           23
          ],
          [
           53
          ],
          [
           23
          ],
          [
           33
          ],
          [
           60
          ],
          [
           25
          ],
          [
           27
          ],
          [
           38
          ],
          [
           43
          ],
          [
           43
          ],
          [
           19
          ],
          [
           51
          ],
          [
           22
          ],
          [
           26
          ],
          [
           47
          ],
          [
           24
          ],
          [
           31
          ],
          [
           55
          ],
          [
           28
          ],
          [
           25
          ],
          [
           37
          ],
          [
           59
          ],
          [
           59
          ],
          [
           44
          ],
          [
           36
          ],
          [
           19
          ],
          [
           62
          ],
          [
           32
          ],
          [
           45
          ],
          [
           52
          ],
          [
           35
          ],
          [
           36
          ],
          [
           63
          ],
          [
           43
          ],
          [
           57
          ],
          [
           54
          ],
          [
           37
          ],
          [
           34
          ],
          [
           54
          ],
          [
           44
          ],
          [
           51
          ],
          [
           52
          ],
          [
           43
          ],
          [
           18
          ],
          [
           18
          ],
          [
           64
          ],
          [
           46
          ],
          [
           29
          ],
          [
           27
          ],
          [
           48
          ],
          [
           64
          ],
          [
           30
          ],
          [
           47
          ],
          [
           52
          ],
          [
           30
          ],
          [
           32
          ],
          [
           19
          ],
          [
           46
          ],
          [
           31
          ],
          [
           42
          ],
          [
           44
          ],
          [
           19
          ]
         ],
         "hovertemplate": "Cluster=Cluster 1<br>PCA1=%{x}<br>PCA2=%{y}<br>Feature=%{customdata[0]}<extra></extra>",
         "legendgroup": "Cluster 1",
         "marker": {
          "color": "#EF553B",
          "opacity": 0.5,
          "symbol": "circle"
         },
         "mode": "markers",
         "name": "Cluster 1",
         "showlegend": true,
         "textposition": "top center",
         "type": "scattergl",
         "x": [
          21347.400486587074,
          24431.446201947627,
          29713.03519871219,
          35403.147350217994,
          19517.03405546583,
          23567.037614353812,
          30932.232461079693,
          25522.248487795634,
          30625.95182720885,
          33785.12170903694,
          26341.32493305673,
          27703.744678668976,
          32984.69572873981,
          23127.135460314865,
          27661.998436445818,
          25438.748576885333,
          26833.465339257917,
          24472.147049576768,
          22750.57559540458,
          31738.545400073985,
          34226.083226593786,
          21032.728484777286,
          20630.21759647323,
          49322.45054467776,
          21536.035385403186,
          23999.725558143033,
          32843.08551601987,
          33447.75346796807,
          31129.98901129181,
          28841.243387022136,
          27003.220654227345,
          24559.29966639696,
          32860.11548290028,
          23037.357771041083,
          23894.72758050937,
          32930.562651693275,
          25440.569438707178,
          22315.137719913582,
          37924.12438488625,
          34133.468059880404,
          34020.645441777364,
          41864.971009995636,
          25074.128568661745,
          29290.007148119414,
          29984.001866369934,
          26732.907197525692,
          26503.849455772495,
          34902.94808822399,
          21558.213788704426,
          31315.024263928794,
          30308.52383417011,
          22918.665319567477,
          26566.09283918162,
          27148.593112580034,
          30543.452883928087,
          26326.98197241477,
          26911.819304208962,
          23628.295316764546,
          20983.61929227074,
          20205.378295635248,
          33618.85277165366,
          33328.698580687735,
          25854.907304912307,
          32880.70452591763,
          22948.967725485058,
          26455.09796704271,
          20479.85425174901,
          24214.01264845741,
          24194.905652788406,
          30650.76944014334,
          27826.742015893586,
          29586.421734044186,
          23808.94182699716,
          30990.33449432018,
          34034.894836059546,
          26286.07394614983,
          21889.718364975735,
          28940.716794019314,
          22325.152911053137,
          25241.192855607394,
          23309.87146360352,
          21877.091580013497,
          21202.404582786134,
          23640.198288475898,
          21509.17472238125,
          31153.389935466083,
          31230.962527423868,
          26457.194525328574,
          35278.7642814829,
          35247.15152128035,
          29490.082567410336,
          28648.679469424114,
          22221.211984357637,
          27633.763467819226,
          33391.02516990208,
          20895.837389051416,
          25012.320822725465,
          39320.4155737603,
          22854.13952731787,
          21568.43773601361,
          28678.816295598986,
          28854.092938443664,
          27670.86227549127,
          26452.307924485554,
          31370.781653615704,
          20637.110065499382,
          22814.78471013406,
          28405.662175352027,
          24855.811121846702,
          25475.924719132036,
          29033.27646943939,
          21401.71582912174,
          28841.80015035091,
          26601.276655078855,
          34626.38071838945,
          35699.83415049395,
          35614.714059538936,
          25145.04531154616,
          20037.11192777334,
          32439.796655750746,
          24337.097343082518,
          21798.953256420937,
          20201.557417574175,
          26712.997620551534,
          30482.90877852058,
          35554.03970947607,
          27763.79998962302,
          35405.106336290846,
          28729.103962483285,
          25776.85850059986,
          30673.445245045008,
          50500.0130290426,
          25728.124687919877,
          34192.477409508596,
          46750.97959297741,
          32592.78096487232,
          22879.04515673812,
          20462.248073832485,
          34657.62216712688,
          27450.12980167533,
          22927.267379824592,
          23863.46526292827,
          32431.604218324486,
          36307.25510124646,
          25971.0102342741,
          29699.431594955764,
          33999.43895522683,
          23679.82668989701,
          19463.754577276224,
          21169.416785683952,
          28391.180858600237,
          45300.64133247228,
          24975.169854928714,
          18838.240717284163,
          19277.901115187073
         ],
         "xaxis": "x",
         "y": [
          40.44672879376826,
          19.368655080725127,
          7.699584434834463,
          -12.15734170476552,
          5.703439313193759,
          24.53848835637256,
          4.056448477942388,
          42.33873583173752,
          10.94760971301944,
          -17.086618900121117,
          30.019555977248803,
          1.16501460625082,
          -0.5570216910872613,
          39.881734849457935,
          26.47913365034024,
          16.977126994231803,
          13.41713765078507,
          16.51797457479014,
          34.077853788537624,
          -13.80387902691933,
          -9.839505313257602,
          40.3235846819604,
          30.25688765134682,
          16.10060126428812,
          27.857635509062877,
          14.937884330920065,
          18.97215399982515,
          -15.76620834303161,
          -1.4828391707401825,
          4.50677040887734,
          10.667226294501651,
          6.7858909316597416,
          -13.236460427795285,
          41.19272756723472,
          35.96703042295782,
          9.188326557643231,
          24.024337123535272,
          35.22817466392171,
          34.41051478112507,
          -14.113474152852884,
          -18.31988976592361,
          29.29835989853225,
          39.339349285540074,
          8.920306187545746,
          -4.800625341226552,
          12.00014297427306,
          18.887065257925403,
          -12.385826496730033,
          39.11049816467692,
          29.758737265774503,
          -10.242894921072741,
          34.17898786661812,
          16.12170941749814,
          16.34638870075223,
          -8.72672117399126,
          10.423507256472837,
          16.303052596347737,
          40.17374147545916,
          31.83020093551988,
          37.10998927093803,
          -18.559782366616023,
          -14.497797708443326,
          11.570749240029095,
          6.364256619073818,
          39.75694074192113,
          4.837801702312361,
          38.63569189876832,
          36.13299094779957,
          38.97594285005987,
          -8.705618687223357,
          -1.5780514820351434,
          -0.760551082364235,
          20.44834433101062,
          -5.724111117564373,
          -16.915759873475885,
          6.153861308117092,
          -11.485842726815795,
          3.131111375364259,
          35.31380576923129,
          35.230295355418775,
          -19.395605624106544,
          32.31793866271761,
          31.90678658969316,
          -16.430986057944374,
          39.08822907922925,
          -7.07361691193786,
          39.298487337519624,
          -0.8214948972382479,
          -3.734294990538503,
          -13.567377900283027,
          6.219393638538446,
          -1.1845923769674807,
          18.304395358184422,
          36.295815265957984,
          -3.18159798967314,
          33.193080450667935,
          20.998764282440366,
          -10.078711344600027,
          31.291716271067205,
          27.868396042291852,
          15.68150756789239,
          8.743323308398496,
          8.223601228510166,
          41.33429410009506,
          -1.3108860589834352,
          34.498647744782275,
          29.865104089527964,
          2.8679288739078164,
          33.56717394259697,
          24.07624970591585,
          -8.032548640661034,
          26.36954184952807,
          34.01077223057717,
          16.100461147366836,
          -11.052163096523797,
          -10.603719668033087,
          10.622239839551238,
          16.86338417947911,
          38.452232881787324,
          -16.278201231586856,
          22.119172999598337,
          2.691525097680962,
          -8.27665375719871,
          19.03369676402006,
          19.331097745108046,
          -16.267080243963708,
          8.227698054487984,
          -7.939419969880538,
          -6.771928368369344,
          15.747512306313473,
          22.472846399483704,
          3.6350260361485955,
          5.898694213060841,
          -0.06854844696290964,
          4.853916602160571,
          10.396544086654524,
          41.13843103363128,
          40.04477238083399,
          -18.051602304518358,
          3.911726876018329,
          25.654338250508715,
          28.911930054306055,
          3.349115065192858,
          -17.297773064128943,
          25.67133513982916,
          3.4932460214391505,
          -1.5569447141773283,
          24.59104621201295,
          20.014153930476386,
          38.952875603356716,
          4.299834805008512,
          33.767437055691225,
          8.43596783752825,
          2.5107128234055156,
          38.07632488991674
         ],
         "yaxis": "y"
        },
        {
         "customdata": [
          [
           64
          ],
          [
           50
          ],
          [
           35
          ],
          [
           39
          ],
          [
           57
          ],
          [
           30
          ],
          [
           62
          ],
          [
           24
          ],
          [
           32
          ],
          [
           28
          ],
          [
           57
          ],
          [
           52
          ],
          [
           53
          ],
          [
           64
          ],
          [
           27
          ],
          [
           23
          ],
          [
           27
          ],
          [
           43
          ],
          [
           33
          ],
          [
           26
          ],
          [
           48
          ],
          [
           55
          ],
          [
           37
          ],
          [
           40
          ],
          [
           43
          ],
          [
           52
          ],
          [
           32
          ],
          [
           37
          ],
          [
           47
          ],
          [
           23
          ],
          [
           19
          ],
          [
           52
          ],
          [
           51
          ],
          [
           49
          ],
          [
           42
          ],
          [
           21
          ],
          [
           20
          ],
          [
           48
          ],
          [
           25
          ],
          [
           25
          ],
          [
           47
          ],
          [
           48
          ],
          [
           54
          ],
          [
           18
          ],
          [
           30
          ],
          [
           31
          ],
          [
           45
          ],
          [
           43
          ],
          [
           30
          ],
          [
           32
          ],
          [
           34
          ],
          [
           39
          ],
          [
           18
          ],
          [
           43
          ],
          [
           45
          ],
          [
           47
          ],
          [
           39
          ],
          [
           47
          ],
          [
           36
          ],
          [
           46
          ],
          [
           43
          ],
          [
           31
          ],
          [
           35
          ],
          [
           25
          ],
          [
           49
          ],
          [
           19
          ],
          [
           23
          ],
          [
           57
          ],
          [
           43
          ],
          [
           20
          ],
          [
           52
          ],
          [
           61
          ],
          [
           23
          ],
          [
           19
          ],
          [
           59
          ],
          [
           42
          ],
          [
           49
          ],
          [
           42
          ],
          [
           50
          ],
          [
           48
          ],
          [
           42
          ],
          [
           30
          ],
          [
           29
          ],
          [
           59
          ],
          [
           35
          ],
          [
           26
          ],
          [
           39
          ],
          [
           34
          ],
          [
           34
          ],
          [
           43
          ],
          [
           60
          ],
          [
           27
          ],
          [
           29
          ],
          [
           19
          ],
          [
           43
          ],
          [
           64
          ],
          [
           30
          ],
          [
           57
          ],
          [
           48
          ],
          [
           52
          ],
          [
           52
          ],
          [
           59
          ],
          [
           56
          ],
          [
           54
          ],
          [
           19
          ],
          [
           28
          ],
          [
           29
          ],
          [
           28
          ],
          [
           49
          ],
          [
           53
          ],
          [
           40
          ],
          [
           19
          ],
          [
           63
          ],
          [
           54
          ],
          [
           51
          ],
          [
           37
          ],
          [
           39
          ],
          [
           53
          ],
          [
           52
          ],
          [
           20
          ],
          [
           19
          ],
          [
           20
          ],
          [
           40
          ],
          [
           63
          ],
          [
           58
          ],
          [
           42
          ],
          [
           47
          ],
          [
           54
          ],
          [
           61
          ],
          [
           32
          ],
          [
           53
          ],
          [
           47
          ],
          [
           25
          ],
          [
           29
          ],
          [
           62
          ],
          [
           35
          ],
          [
           61
          ],
          [
           21
          ],
          [
           40
          ],
          [
           24
          ],
          [
           52
          ],
          [
           47
          ],
          [
           50
          ],
          [
           33
          ],
          [
           61
          ],
          [
           60
          ],
          [
           62
          ],
          [
           53
          ],
          [
           62
          ],
          [
           45
          ],
          [
           20
          ],
          [
           35
          ],
          [
           37
          ],
          [
           47
          ],
          [
           46
          ],
          [
           24
          ],
          [
           55
          ],
          [
           28
          ],
          [
           27
          ],
          [
           39
          ],
          [
           24
          ],
          [
           64
          ],
          [
           48
          ],
          [
           50
          ],
          [
           61
          ],
          [
           44
          ],
          [
           19
          ],
          [
           55
          ],
          [
           56
          ],
          [
           53
          ],
          [
           50
          ],
          [
           59
          ],
          [
           30
          ],
          [
           18
          ],
          [
           36
          ],
          [
           33
          ]
         ],
         "hovertemplate": "Cluster=Cluster 2<br>PCA1=%{x}<br>PCA2=%{y}<br>Feature=%{customdata[0]}<extra></extra>",
         "legendgroup": "Cluster 2",
         "marker": {
          "color": "#00cc96",
          "opacity": 0.5,
          "symbol": "circle"
         },
         "mode": "markers",
         "name": "Cluster 2",
         "showlegend": true,
         "textposition": "top center",
         "type": "scattergl",
         "x": [
          16060.574976930813,
          12062.915891012348,
          6226.29370885844,
          5752.835450002113,
          13948.025676437852,
          5692.743326370101,
          14830.925291183039,
          5377.988318246061,
          4225.878252981266,
          6402.905398022781,
          7438.609628877973,
          13847.578423720153,
          7925.403713872408,
          13656.10622358434,
          5040.310620395258,
          9125.308846730024,
          5633.060917123576,
          8503.901200500613,
          4634.099621977409,
          3772.9095555911613,
          10910.515618881263,
          16793.167377488408,
          7150.180678054816,
          15206.311820744535,
          6527.633205252618,
          9775.151799345518,
          6449.2670938522315,
          7026.438116954369,
          10130.888081157525,
          8324.947053661166,
          5568.265878405991,
          13196.683224634027,
          10696.966832019916,
          10836.494634653576,
          7988.957004287966,
          12748.514877916985,
          12855.236016135023,
          15198.502447081193,
          4947.72952375984,
          9971.040675067508,
          11644.8021765744,
          7961.764359911051,
          12246.699222218815,
          4953.0132742656,
          4091.335724502273,
          5929.5142189078,
          15069.769009301868,
          5497.316942101773,
          5495.444993809511,
          8202.050011902795,
          6739.205831536982,
          9191.619358729042,
          3908.2438684552726,
          9208.178453305196,
          4658.884008041319,
          12039.069863324064,
          10292.592276807567,
          11265.280673844605,
          7503.201284141847,
          8406.863918460815,
          8610.399031940155,
          6079.940353065344,
          6964.429160484168,
          6663.024015207201,
          12869.941928438908,
          9223.22237936045,
          5057.803946864472,
          14263.500329904982,
          8500.920581653,
          6896.8986086179,
          10617.246757179431,
          15870.950090677017,
          4763.534421079916,
          4198.547341839378,
          12408.368519370875,
          8873.609757950322,
          10036.129670246753,
          8078.283344224358,
          6478.966953880498,
          7953.258014732384,
          6694.324212638947,
          7475.5585313850615,
          4887.446906161585,
          8526.591059309867,
          11644.620975500035,
          11401.23111831861,
          6878.898585855265,
          5702.067047755459,
          14105.475830980096,
          5535.724677174673,
          16989.585905078195,
          5534.320508029428,
          5837.348972457949,
          9812.517793637648,
          5874.1563111185205,
          13767.506520932759,
          6251.539111276741,
          8922.025792906434,
          13121.842475033965,
          11397.004599413223,
          11123.20794662867,
          15017.488604230493,
          12838.915527331967,
          14052.320746083518,
          3810.643092612943,
          6907.240654596242,
          6171.9236677454655,
          10018.495799997763,
          10536.82299076602,
          14075.628567565922,
          6173.842325732417,
          4082.2427472336894,
          16252.75793951343,
          11206.065032027136,
          8947.699312857918,
          5944.281081495821,
          7811.736555865614,
          7192.585201744276,
          11599.420498127294,
          3814.8311537486393,
          10789.242043469454,
          14453.852122752236,
          3909.0982237074263,
          15680.060668562945,
          10956.928402926898,
          6245.11932291518,
          7608.367599352629,
          12111.882835211605,
          15598.254748334,
          4355.811722936581,
          11602.969846465605,
          8708.259287423172,
          4608.4687439112995,
          7007.37631231597,
          18349.593813656582,
          7713.667339045726,
          11242.68267376111,
          4671.669535036847,
          9061.143323802711,
          11811.332525537719,
          12722.404916175956,
          12966.160932201405,
          12386.159498030407,
          5770.449326603134,
          14670.87867701679,
          15652.726419195253,
          13730.576281946096,
          9974.376317349059,
          14538.315912870778,
          7828.1347150007405,
          4289.942538734198,
          6091.571517733018,
          6268.817196146545,
          9795.001568227308,
          11332.629536262031,
          3857.992798594124,
          7511.076257744393,
          4392.713315013195,
          4976.06460377559,
          8389.505686601855,
          5684.786854934845,
          16896.21135793734,
          10297.853785840804,
          11249.847198979201,
          17671.782007523605,
          6324.389796202442,
          4478.068848005298,
          7359.87162385166,
          9142.23562287278,
          15916.067895307897,
          17014.22514035616,
          16914.52679949442,
          4988.786931035792,
          8074.409597477587,
          5337.835783015722,
          8714.042232050593
         ],
         "xaxis": "x",
         "y": [
          -27.07379028462407,
          -9.352317627820598,
          8.838799644224324,
          3.3529567551158546,
          -18.2538372052303,
          15.667555232328738,
          -24.84632692253906,
          24.171766458056723,
          12.389325251748968,
          18.93983537309731,
          -21.675096312505172,
          -11.162742319597276,
          -15.410843679379656,
          -28.196826191273527,
          19.788339670705994,
          27.524414918162403,
          19.998441757368337,
          -1.1006694779457697,
          11.174267853915579,
          20.606397327695134,
          -6.970570725312794,
          -14.200162363739569,
          6.65706741663256,
          6.160493709374027,
          -1.9490537939546644,
          -13.280532461635598,
          13.402941725879339,
          6.6785925424776,
          -5.943358591206357,
          27.237962463462363,
          31.358304853992554,
          -11.709393935576678,
          -11.296307273339258,
          -8.38426161487081,
          0.09999622798349206,
          31.97743402992538,
          33.60890600318227,
          -5.065029862047566,
          22.492860427354483,
          25.09966743625186,
          -5.239409342150555,
          -8.493041425267988,
          -14.791825147005225,
          32.48842860201512,
          15.178682711467072,
          14.613380845939663,
          -0.7189238228617817,
          -2.4559528730474733,
          15.854867375731393,
          14.27535600233516,
          10.737196515352,
          4.835834520066657,
          31.975881227119334,
          -0.7545584879613578,
          -5.917634186930325,
          -5.075255832646866,
          5.293208577736492,
          -5.415129119776139,
          8.282082045795207,
          -5.332117002250612,
          -1.0111286702347575,
          14.620880985416196,
          9.431764265698355,
          23.38703826552261,
          -7.4475967583031,
          33.172331145896514,
          25.45065801522294,
          -18.11440993088642,
          -1.0739345181432627,
          30.72368389055726,
          -12.736619945355672,
          -22.96615429670395,
          25.31036640286253,
          30.68802101373819,
          -21.74143393430548,
          0.4377798298258102,
          -8.809046847489816,
          0.10909627172735692,
          -12.022617760044945,
          -8.393234540118375,
          -0.5114937960898697,
          16.736461827994955,
          16.85258125332556,
          -23.9141504622759,
          11.537954843300946,
          24.298686746728002,
          3.765396048923747,
          10.273643441054652,
          14.457243307209833,
          -2.726626823756129,
          -20.99724001730083,
          19.983912159889915,
          17.361017172172044,
          33.356763070154614,
          -2.569545084656382,
          -28.128643466725837,
          16.142729078782693,
          -20.642723173664628,
          -6.073801429265031,
          -12.37510220181399,
          -12.544661697744889,
          -20.704650939320157,
          -17.34571178077436,
          -14.026640301783805,
          30.49698249194832,
          19.301162885964068,
          17.4173561785342,
          20.89407551111576,
          -8.566789706764133,
          -12.584698241675055,
          2.078757052321069,
          30.61761118836943,
          -25.58097944929972,
          -15.387305254632599,
          -12.125185096797471,
          5.9453850133471935,
          4.186449290049964,
          -16.104396685380653,
          -12.258380305096145,
          29.11149281455458,
          33.87997180136828,
          34.185202648970765,
          1.0117495564647283,
          -25.848926448527376,
          -21.387941025537334,
          -0.7545044647655358,
          -7.323557534072183,
          -14.849135087071957,
          -23.08737356835397,
          12.464309196152909,
          -13.63965308197757,
          -6.628410710409849,
          22.157306299686056,
          17.89958161074328,
          -23.313465281727694,
          9.803464565681441,
          -25.174508482851397,
          28.135884351656962,
          3.390366543238104,
          27.456101421558337,
          -11.749529722749928,
          -4.51627938521837,
          -9.101740502501439,
          11.687737767811507,
          -23.698546199792176,
          -21.605081950887854,
          -25.48429344663973,
          -14.442581133790284,
          -24.983036685916886,
          -4.1892743584725505,
          29.323198982693764,
          9.066397202968044,
          6.292912735034807,
          -6.137524676375136,
          -3.9685458284021276,
          23.34003811951967,
          -18.67467189088776,
          18.13597159462478,
          19.745616827075096,
          4.531121556552014,
          24.357048438717296,
          -26.62864932845712,
          -7.30966057458892,
          -9.66250945788341,
          -22.099777653319137,
          -3.4651053590352534,
          30.814954473531486,
          -18.83081573602633,
          -19.036740319734484,
          -11.702104369002779,
          -6.789322725187827,
          -19.642708919586564,
          15.592306938061055,
          33.97045421916987,
          7.314566061030389,
          13.21551101742348
         ],
         "yaxis": "y"
        },
        {
         "customdata": [
          [
           63
          ],
          [
           19
          ],
          [
           48
          ],
          [
           48
          ],
          [
           58
          ],
          [
           47
          ],
          [
           46
          ],
          [
           53
          ],
          [
           57
          ],
          [
           39
          ],
          [
           52
          ],
          [
           48
          ],
          [
           57
          ],
          [
           61
          ],
          [
           50
          ],
          [
           59
          ],
          [
           44
          ],
          [
           42
          ],
          [
           49
          ],
          [
           50
          ],
          [
           56
          ],
          [
           47
          ],
          [
           59
          ],
          [
           51
          ],
          [
           49
          ],
          [
           56
          ],
          [
           19
          ],
          [
           55
          ],
          [
           33
          ],
          [
           54
          ],
          [
           45
          ],
          [
           49
          ],
          [
           63
          ],
          [
           57
          ],
          [
           46
          ],
          [
           41
          ],
          [
           60
          ],
          [
           50
          ],
          [
           62
          ],
          [
           58
          ],
          [
           63
          ],
          [
           61
          ],
          [
           55
          ],
          [
           46
          ],
          [
           56
          ],
          [
           50
          ],
          [
           34
          ],
          [
           62
          ],
          [
           52
          ],
          [
           64
          ],
          [
           60
          ],
          [
           49
          ],
          [
           46
          ],
          [
           57
          ],
          [
           41
          ],
          [
           50
          ],
          [
           57
          ],
          [
           23
          ],
          [
           46
          ],
          [
           48
          ],
          [
           58
          ],
          [
           50
          ],
          [
           58
          ],
          [
           54
          ],
          [
           56
          ],
          [
           49
          ],
          [
           18
          ],
          [
           55
          ],
          [
           33
          ],
          [
           50
          ],
          [
           54
          ],
          [
           52
          ],
          [
           50
          ],
          [
           50
          ],
          [
           55
          ],
          [
           52
          ],
          [
           52
          ],
          [
           60
          ],
          [
           51
          ],
          [
           45
          ],
          [
           48
          ],
          [
           58
          ],
          [
           46
          ],
          [
           56
          ],
          [
           46
          ],
          [
           55
          ],
          [
           53
          ],
          [
           54
          ],
          [
           55
          ],
          [
           47
          ],
          [
           38
          ],
          [
           18
          ],
          [
           48
          ],
          [
           54
          ],
          [
           55
          ],
          [
           57
          ],
          [
           52
          ],
          [
           43
          ],
          [
           58
          ],
          [
           45
          ],
          [
           49
          ],
          [
           47
          ],
          [
           55
          ],
          [
           49
          ],
          [
           57
          ],
          [
           58
          ],
          [
           53
          ],
          [
           27
          ],
          [
           46
          ],
          [
           50
          ],
          [
           52
          ],
          [
           23
          ],
          [
           57
          ],
          [
           52
          ],
          [
           51
          ],
          [
           61
          ],
          [
           56
          ],
          [
           52
          ],
          [
           62
          ],
          [
           56
          ],
          [
           52
          ],
          [
           60
          ],
          [
           63
          ],
          [
           55
          ],
          [
           63
          ],
          [
           18
          ],
          [
           62
          ],
          [
           60
          ],
          [
           40
          ],
          [
           58
          ],
          [
           43
          ],
          [
           29
          ],
          [
           20
          ],
          [
           61
          ],
          [
           59
          ],
          [
           59
          ],
          [
           61
          ],
          [
           53
          ],
          [
           64
          ],
          [
           48
          ],
          [
           60
          ],
          [
           59
          ],
          [
           18
          ],
          [
           63
          ],
          [
           52
          ],
          [
           40
          ],
          [
           55
          ],
          [
           53
          ],
          [
           59
          ],
          [
           53
          ],
          [
           51
          ],
          [
           55
          ],
          [
           47
          ],
          [
           46
          ],
          [
           59
          ],
          [
           59
          ],
          [
           60
          ],
          [
           48
          ],
          [
           58
          ],
          [
           41
          ],
          [
           18
          ],
          [
           23
          ],
          [
           55
          ],
          [
           62
          ],
          [
           51
          ],
          [
           45
          ],
          [
           50
          ],
          [
           56
          ],
          [
           52
          ],
          [
           54
          ],
          [
           51
          ],
          [
           40
          ],
          [
           20
          ],
          [
           51
          ],
          [
           53
          ],
          [
           48
          ],
          [
           45
          ],
          [
           18
          ],
          [
           54
          ],
          [
           47
          ],
          [
           45
          ],
          [
           63
          ],
          [
           63
          ],
          [
           49
          ],
          [
           45
          ],
          [
           58
          ],
          [
           54
          ],
          [
           54
          ],
          [
           46
          ],
          [
           58
          ],
          [
           56
          ],
          [
           41
          ],
          [
           58
          ],
          [
           61
          ],
          [
           58
          ],
          [
           45
          ],
          [
           46
          ],
          [
           52
          ],
          [
           53
          ],
          [
           51
          ],
          [
           64
          ],
          [
           61
          ],
          [
           62
          ],
          [
           54
          ],
          [
           56
          ],
          [
           57
          ],
          [
           61
          ],
          [
           48
          ],
          [
           40
          ],
          [
           58
          ],
          [
           58
          ],
          [
           49
          ],
          [
           48
          ],
          [
           45
          ],
          [
           59
          ],
          [
           57
          ],
          [
           44
          ],
          [
           49
          ],
          [
           55
          ],
          [
           50
          ],
          [
           56
          ],
          [
           61
          ],
          [
           57
          ],
          [
           49
          ],
          [
           53
          ],
          [
           49
          ],
          [
           33
          ],
          [
           59
          ],
          [
           57
          ],
          [
           46
          ],
          [
           58
          ],
          [
           52
          ],
          [
           59
          ],
          [
           62
          ],
          [
           57
          ],
          [
           61
          ],
          [
           58
          ],
          [
           47
          ],
          [
           21
          ],
          [
           62
          ],
          [
           62
          ],
          [
           46
          ],
          [
           61
          ],
          [
           51
          ],
          [
           56
          ],
          [
           64
          ],
          [
           51
          ],
          [
           59
          ],
          [
           47
          ],
          [
           56
          ],
          [
           63
          ],
          [
           55
          ],
          [
           49
          ],
          [
           60
          ],
          [
           49
          ],
          [
           53
          ],
          [
           51
          ],
          [
           53
          ],
          [
           55
          ],
          [
           48
          ],
          [
           59
          ],
          [
           64
          ],
          [
           60
          ],
          [
           44
          ],
          [
           49
          ],
          [
           45
          ],
          [
           50
          ],
          [
           50
          ],
          [
           34
          ],
          [
           47
          ],
          [
           64
          ],
          [
           58
          ],
          [
           54
          ],
          [
           46
          ],
          [
           39
          ],
          [
           45
          ],
          [
           57
          ],
          [
           47
          ],
          [
           64
          ],
          [
           64
          ],
          [
           53
          ],
          [
           44
          ],
          [
           58
          ],
          [
           51
          ],
          [
           53
          ],
          [
           51
          ],
          [
           53
          ],
          [
           59
          ],
          [
           63
          ],
          [
           50
          ],
          [
           47
          ],
          [
           57
          ],
          [
           25
          ],
          [
           56
          ],
          [
           50
          ],
          [
           53
          ],
          [
           53
          ],
          [
           47
          ],
          [
           61
          ],
          [
           49
          ],
          [
           55
          ],
          [
           50
          ],
          [
           43
          ],
          [
           51
          ],
          [
           60
          ],
          [
           53
          ],
          [
           49
          ],
          [
           60
          ],
          [
           59
          ],
          [
           51
          ],
          [
           59
          ],
          [
           58
          ],
          [
           56
          ],
          [
           51
          ],
          [
           53
          ],
          [
           62
          ],
          [
           58
          ],
          [
           29
          ],
          [
           49
          ],
          [
           39
          ],
          [
           50
          ],
          [
           49
          ],
          [
           64
          ],
          [
           44
          ],
          [
           47
          ],
          [
           26
          ],
          [
           52
          ],
          [
           55
          ],
          [
           64
          ],
          [
           48
          ],
          [
           45
          ],
          [
           60
          ],
          [
           60
          ],
          [
           54
          ],
          [
           61
          ],
          [
           18
          ],
          [
           52
          ],
          [
           60
          ],
          [
           54
          ],
          [
           56
          ],
          [
           19
          ],
          [
           47
          ],
          [
           55
          ],
          [
           57
          ],
          [
           56
          ],
          [
           51
          ],
          [
           49
          ],
          [
           54
          ],
          [
           52
          ],
          [
           62
          ],
          [
           49
          ],
          [
           48
          ],
          [
           57
          ],
          [
           55
          ],
          [
           62
          ],
          [
           64
          ],
          [
           27
          ],
          [
           18
          ],
          [
           63
          ],
          [
           44
          ],
          [
           47
          ],
          [
           58
          ],
          [
           60
          ],
          [
           54
          ],
          [
           63
          ],
          [
           48
          ],
          [
           54
          ],
          [
           63
          ],
          [
           48
          ],
          [
           48
          ],
          [
           49
          ],
          [
           62
          ],
          [
           43
          ],
          [
           21
          ],
          [
           57
          ],
          [
           64
          ],
          [
           51
          ],
          [
           47
          ],
          [
           64
          ],
          [
           55
          ],
          [
           56
          ],
          [
           59
          ],
          [
           48
          ],
          [
           50
          ],
          [
           39
          ],
          [
           18
          ],
          [
           51
          ],
          [
           46
          ],
          [
           62
          ],
          [
           46
          ],
          [
           63
          ],
          [
           59
          ],
          [
           64
          ],
          [
           46
          ],
          [
           24
          ],
          [
           46
          ],
          [
           63
          ],
          [
           54
          ],
          [
           54
          ],
          [
           57
          ],
          [
           63
          ],
          [
           62
          ],
          [
           52
          ],
          [
           56
          ],
          [
           62
          ],
          [
           46
          ],
          [
           46
          ],
          [
           50
          ],
          [
           54
          ],
          [
           53
          ],
          [
           51
          ],
          [
           56
          ],
          [
           45
          ],
          [
           48
          ],
          [
           60
          ],
          [
           48
          ],
          [
           51
          ],
          [
           56
          ],
          [
           47
          ],
          [
           63
          ],
          [
           49
          ],
          [
           51
          ],
          [
           48
          ],
          [
           54
          ],
          [
           63
          ],
          [
           53
          ],
          [
           39
          ],
          [
           27
          ],
          [
           50
          ],
          [
           61
          ],
          [
           24
          ],
          [
           45
          ],
          [
           44
          ],
          [
           43
          ],
          [
           62
          ],
          [
           27
          ],
          [
           57
          ],
          [
           56
          ],
          [
           51
          ],
          [
           45
          ],
          [
           58
          ],
          [
           29
          ],
          [
           19
          ]
         ],
         "hovertemplate": "Cluster=Cluster 3<br>PCA1=%{x}<br>PCA2=%{y}<br>Feature=%{customdata[0]}<extra></extra>",
         "legendgroup": "Cluster 3",
         "marker": {
          "color": "#ab63fa",
          "opacity": 0.5,
          "symbol": "circle"
         },
         "mode": "markers",
         "name": "Cluster 3",
         "showlegend": true,
         "textposition": "top center",
         "type": "scattergl",
         "x": [
          985.7860464803072,
          3027.4087585150955,
          -3227.1665656670198,
          -4020.920721896603,
          -1907.125247320422,
          -3650.085414043929,
          -3837.4895436900943,
          -2016.9917356612698,
          -2287.907691355081,
          -4688.119734362051,
          -3644.4929670814213,
          -3823.0332018614927,
          -1241.1235070050418,
          144.62995534310758,
          -1971.0714341046316,
          1320.2233234091511,
          -5154.149106668854,
          -5253.359194149466,
          -3987.93498051264,
          -3652.7525269050966,
          159.85419084376062,
          -3554.5759907523084,
          -341.61735009803436,
          -3415.282724804952,
          -3492.06736431947,
          -2176.7861773829754,
          574.0686215480314,
          -1391.3064682717152,
          3505.876552075213,
          -2931.479942087489,
          -4665.057343352815,
          -4282.255837771209,
          711.4453410842921,
          -1704.1079053484432,
          -4923.252109650187,
          -5315.903058195271,
          -53.31342634065342,
          -4222.386257875607,
          81.69307478390975,
          -1433.249447054381,
          984.2019484438571,
          158.628029664938,
          -3055.7752668032244,
          -5037.778538735437,
          -1612.031702620061,
          -2184.827830577491,
          1087.9384568175642,
          667.2591701393002,
          -3279.376133729239,
          552.3979755788971,
          -1127.830068515674,
          -2293.2080258739816,
          -4935.958654138787,
          -1439.8030760581878,
          -4048.0182418814734,
          -2776.4695542999734,
          -624.2020729576216,
          1155.6398209569325,
          -4326.300434749701,
          -2255.2413309418275,
          -1325.8139210322438,
          -4825.940952325813,
          -1034.5696594977994,
          -1758.0063442280637,
          -1004.9029589177561,
          -5146.00610647522,
          862.6017520017103,
          -2478.4519501866,
          -865.5471066686366,
          -4435.1494258961275,
          -2835.3460121511184,
          -1981.3035402949904,
          -3640.016687797762,
          -4338.330764306058,
          -2462.924465066272,
          -3547.643161235374,
          -4125.846847062729,
          -529.2401591687902,
          -1750.3148569840944,
          -5335.125808349421,
          -2236.7527002043807,
          -1339.2846137170964,
          -3968.5239758294024,
          -2197.234913889519,
          -5243.750692363207,
          -2187.8342635565778,
          -2328.281154850136,
          -1165.0915175119937,
          -3044.1259895417243,
          -4735.745031483874,
          2550.274677664515,
          1013.0209950850613,
          -4986.734614433648,
          -2445.1574912417836,
          -1389.0528262373866,
          -2311.0802560920333,
          -1782.0956130421084,
          1207.909810613798,
          -1889.0819609878438,
          -4655.118158164188,
          -4669.086138296639,
          -3155.4073362216627,
          -2565.9412864460674,
          -2899.5027227318965,
          -1913.7482214975769,
          -1323.7829443026244,
          -1528.6871618524256,
          3307.34757485098,
          -5029.826796559322,
          -2669.866545084299,
          -1858.7271718329323,
          -2474.4954369910574,
          -641.2443066912479,
          -2945.2061645310882,
          -3892.5093555430235,
          -127.06993561717563,
          -2179.691659199764,
          -2473.0771297194815,
          -289.05990080123297,
          -2668.0245595655215,
          -3635.8741848601903,
          -41.56063022644059,
          1181.4282883074202,
          -1001.7791301812806,
          499.69159213678563,
          -1998.1059063393463,
          2341.7868553898165,
          -640.511893620949,
          -5210.742046261738,
          336.9599941894158,
          -4664.20158835767,
          2844.8741188828394,
          1441.3075596208112,
          964.665846808586,
          730.7248864325303,
          -454.9635880995733,
          345.95033883217616,
          -2106.843543455597,
          1631.1121887326908,
          -4399.264085610237,
          -258.19949525530075,
          -1527.109943093487,
          -380.3784749485046,
          610.5434867913622,
          -2463.5739442966424,
          -5107.704722471834,
          -1983.8720890694,
          -2914.772121195564,
          -923.2358982748349,
          -2705.527341274545,
          -3626.161968665671,
          -1283.2428383519418,
          -4045.160024949261,
          -4537.186512398632,
          730.8782177123699,
          -936.5806054236301,
          -621.7039040141191,
          -4599.223600991211,
          -251.24788951654202,
          455.0497109856346,
          -440.98314629226724,
          -143.7560349594483,
          -223.0797646729978,
          574.3905417792344,
          -3306.353931789927,
          -4666.595117978022,
          -4827.747718314514,
          -1226.0690707452857,
          -3072.6412993968934,
          -1964.4774877415384,
          -1833.6749882282163,
          2558.3991344802016,
          2962.4103971140835,
          -3392.805526669649,
          -2310.717395102535,
          -5480.780810953474,
          -4168.620354594229,
          2247.7428729889857,
          -2819.8589964216685,
          -2863.3307832564474,
          -4753.588743929371,
          134.9859252597367,
          1179.4476774806685,
          -5153.734692418276,
          -4754.659133200736,
          -1924.8911742129924,
          -790.7035113279231,
          -2834.3160880202595,
          -4447.137867612095,
          -1332.1532428655576,
          -2676.184320259238,
          -4732.132078525988,
          -1534.5303427539077,
          -712.8015008359973,
          -1046.0587647931425,
          -4750.391253237928,
          -3859.4120144440662,
          -3521.5010801564845,
          -3184.5660486497086,
          -3879.0669894152747,
          1140.5271779731715,
          -206.5229858675438,
          284.59853287180573,
          -2847.4953210556323,
          -321.25497598613765,
          -1325.2766443250162,
          -126.54157741743947,
          -3129.2800019015203,
          -5018.137619941847,
          -839.4557758702324,
          -1904.4561148287123,
          -3469.5251534943823,
          -4989.792450968089,
          -4742.884851216309,
          -1025.8767076716078,
          1123.9882082177123,
          -4379.279605685829,
          -4566.959037664762,
          -784.6093987497401,
          -4812.595268614448,
          -906.8630681229813,
          -140.80431912032665,
          -1694.2785219723514,
          -3113.632618734269,
          -2690.7005249035124,
          -4581.557317709607,
          -1943.7103008755555,
          -1140.7943278955236,
          -46.35290474213614,
          -3173.4478849916613,
          -1047.5110174203485,
          -3545.8827160103715,
          -356.4168180775513,
          200.39905263583785,
          -1238.0846497407008,
          365.2310185878478,
          -1427.9668416205402,
          -4842.348021195183,
          2088.6684775184776,
          192.113297905699,
          180.71501940335543,
          -4446.431336341498,
          -228.48647523756992,
          -4096.2777378604205,
          -2199.8757283254417,
          2814.7233657709035,
          -3986.851722401081,
          1112.2999272682798,
          -4722.7249853515395,
          -1612.2953934387401,
          1899.6642662629145,
          -2556.766800281318,
          -4088.245972119376,
          -625.8184611982153,
          -5144.629542925748,
          -3406.941229991343,
          -4487.945303665384,
          -2026.0359038073493,
          -1000.7224137821893,
          -3823.1660238333047,
          736.8132095063053,
          2798.6796679325375,
          -746.8038951876877,
          -5051.214279478721,
          -3686.5210443380565,
          -4665.934914369043,
          -4443.204691175326,
          -3360.05503618088,
          -1532.5774112726438,
          -4713.508508258541,
          940.1316654741405,
          -1436.6276147698297,
          -2256.7007566759657,
          -3855.4971204521817,
          -5284.607575471587,
          -4175.349903609903,
          -1427.7856125631088,
          -5207.651879726314,
          1048.6269458198828,
          1043.4420078655498,
          -2119.632546660873,
          -473.20834833723086,
          -1422.2681906507473,
          -2709.921270449716,
          -3400.6019081582203,
          -3884.251927369608,
          -3205.000131471421,
          -1036.5806046352352,
          123.35032086993608,
          -3164.280948944332,
          -5202.230592446901,
          -2304.9636064613446,
          2547.5522737297047,
          -2294.16393501881,
          -3728.717599126733,
          -3766.10060061587,
          -1540.7334984820516,
          -4339.481856122284,
          849.2130361995529,
          -3005.972893119312,
          -2668.77893443769,
          -3163.1943785977523,
          -4959.580135930165,
          -3397.71213287159,
          -1123.4371795795664,
          -3198.3576302414913,
          -3703.424600476676,
          -157.80395981577175,
          -946.4734698485587,
          -2422.2784081620975,
          -648.2287063094428,
          -1038.7955485325494,
          -1612.6919062290417,
          -3394.7320037343775,
          -2005.8708208498783,
          -291.04735231449405,
          -1526.4741009125216,
          3387.2861599979315,
          -1717.5108093707265,
          -4304.626587186198,
          -4211.682365162354,
          -3982.3886842601205,
          1124.1519800342885,
          -5247.2823997620535,
          -4730.746072700812,
          1185.2116410778804,
          -4129.461359852883,
          -1876.3451827785225,
          1147.8759188796898,
          -4302.085584756282,
          -3481.5522002681746,
          -632.2124745194749,
          649.4155843032876,
          -1175.9350686328153,
          -320.33505382704516,
          477.4341412304936,
          -677.8774883681082,
          -539.4078806841757,
          -3419.9798466049774,
          -1816.389413335163,
          3180.45741013779,
          -4700.553473213537,
          -1388.4414499927914,
          -1429.6343779806155,
          -2668.9972856077493,
          -4471.820123672909,
          -2888.935980223266,
          -775.1203624072651,
          -1873.5119861274263,
          1959.9182697882793,
          -3000.954955066528,
          -4992.892286931145,
          -1917.1820615137212,
          -2474.060587038237,
          1749.3530826492993,
          3185.3015242059932,
          1736.1469118546333,
          -1386.3888525155114,
          1891.128502086924,
          -4967.88302561971,
          -4719.069453945521,
          -1413.9970853548766,
          -66.12293885395736,
          -1173.7606587381767,
          704.049302851887,
          -2533.5442345539136,
          -2341.5629487240485,
          1079.4477004211665,
          -4306.354996360039,
          -4292.229404861583,
          -3980.2752514615568,
          187.55438138004752,
          -4748.415722278281,
          3316.062763211981,
          -1716.1863390414903,
          1718.025862568238,
          -4005.6177210794713,
          -5186.494596277219,
          1422.2639216017828,
          -2675.909328726851,
          -2693.324225722746,
          -1145.4167297205745,
          -4505.166410822619,
          -2567.7721102457695,
          -4673.593301840675,
          -1787.8016745836264,
          -3409.388751627071,
          -4927.506876069669,
          773.0701108323801,
          -3769.8444067762553,
          1204.2693513415968,
          -344.5228319148234,
          560.7110760531996,
          -4445.33109737302,
          -660.5464007528096,
          -5037.319521458487,
          616.7988225178045,
          -3038.911673848186,
          -1731.9892790205795,
          -1735.5378940086287,
          120.15282592811764,
          -313.28918193784875,
          -2082.7567660486357,
          -1596.2800195093646,
          -287.53049425310934,
          -4935.826808729733,
          -4076.5792376722825,
          -3720.847336456616,
          -2346.477921400243,
          -3782.7678116801644,
          -3404.108652793534,
          -2104.992860434064,
          -4856.954754371104,
          -5466.25389015072,
          -45.71467173791067,
          -5001.372387306995,
          -3312.692277060673,
          -627.0322853529655,
          -4642.876403123621,
          2284.7835109044026,
          -3965.7121285569356,
          -3390.344416945725,
          -3707.386024499929,
          -795.0612457719176,
          617.5635257918664,
          -2808.432800150835,
          -5283.947371862605,
          3150.0619872700113,
          -3151.9904542418667,
          -696.3569662245116,
          1301.4566484892741,
          -5242.450002494676,
          -5059.318376372297,
          -4860.372188384519,
          200.45471643616844,
          3525.9809236056803,
          -1815.1296261041873,
          -1507.4093015834046,
          -3909.087274102618,
          -3565.7488839120883,
          -1907.6536097705307,
          2868.3312539224908,
          3614.486827321167
         ],
         "xaxis": "x",
         "y": [
          -33.07347303671555,
          30.12371326749665,
          -14.055233584076289,
          -14.380787738883738,
          -27.609959396877098,
          -12.803988690276631,
          -11.822552943655088,
          -20.46106693408577,
          -26.463642351417967,
          -1.894973364682095,
          -19.892669115097597,
          -14.25471360678417,
          -25.61114503100453,
          -30.563742486880773,
          -16.294503603233725,
          -27.373471583389993,
          -9.341874361117382,
          -6.432466734153917,
          -15.720364676915121,
          -16.99950617625063,
          -23.701043733696153,
          -12.695907325753838,
          -28.176845353106803,
          -18.18661400438819,
          -15.569670527001675,
          -25.024837260556687,
          29.02722192293067,
          -23.04944182033862,
          10.720704408744377,
          -22.36899136454819,
          -10.297451981590552,
          -15.940654686440292,
          -33.404322277622725,
          -26.187823192277094,
          -12.170100040547602,
          -5.193425874504655,
          -29.36773374154221,
          -17.45882853980246,
          -32.17453980485743,
          -27.17571479036051,
          -33.052943386059425,
          -30.745085265733348,
          -23.819358706302907,
          -12.030700534756527,
          -24.502306079818812,
          -16.293646950374548,
          7.856563519552263,
          -31.842379892651017,
          -19.472181792158604,
          -34.854754842393255,
          -29.860967284807764,
          -15.183030031627695,
          -12.085477267062005,
          -25.726954373428978,
          -4.515381841467716,
          -16.547872363936236,
          -25.606527049572538,
          23.62080284878561,
          -11.98466609532547,
          -13.498357635661504,
          -27.301905614508097,
          -17.55930179231098,
          -27.190036192517663,
          -21.81422656522924,
          -24.369480712822345,
          -16.474660355791155,
          30.26877561726236,
          -23.380409888363687,
          8.266026946525537,
          -17.471426381404058,
          -22.350114736365818,
          -19.107313720383242,
          -17.08582765804125,
          -17.301638983038032,
          -23.580222286509613,
          -19.881727445748044,
          -20.23136844493201,
          -29.77675576550045,
          -17.42488781230393,
          -10.959162391132796,
          -13.737866660196483,
          -27.127406325464186,
          -11.470435037311864,
          -24.761275929921897,
          -12.131268263541589,
          -23.338308783572245,
          -20.54096138715451,
          -21.49784560037101,
          -23.968928134142864,
          -13.23096896991952,
          3.1810268688983947,
          30.6585175254425,
          -14.936076239139734,
          -22.17653341461958,
          -22.999981835751818,
          -26.16478456928901,
          -18.998347458382526,
          -4.678340415604061,
          -27.84370605228481,
          -10.427549921928014,
          -16.078514577897977,
          -12.637898023407285,
          -23.590509220391624,
          -15.327421291911,
          -26.1616376683653,
          -27.248986125656103,
          -20.212408556523606,
          19.005430565695963,
          -12.133707298255926,
          -16.584625022866206,
          -19.271218874039878,
          21.646348790997212,
          -25.38440696868739,
          -19.689463684689663,
          -18.578798402765003,
          -30.928807503638595,
          -24.987200184839583,
          -19.309913142652395,
          -32.52066424672182,
          -25.23683788246804,
          -20.00431994863162,
          -29.519993433206498,
          -32.918315746121834,
          -22.866546073751326,
          -33.35076453897481,
          29.045028244891697,
          -31.123358206864527,
          -29.59952281399222,
          -3.654347753984468,
          -26.43138570605701,
          -7.600981428290664,
          16.003323245655647,
          28.026991314571315,
          -30.500761094739392,
          -27.575456702687685,
          -28.131964165133194,
          -30.482148955959897,
          -20.641312977102952,
          -34.414567162906636,
          -14.628587555770341,
          -29.403136279523032,
          -28.65590162218632,
          29.6411209502948,
          -33.362769953258386,
          -19.354365853386263,
          -3.6449093843214464,
          -23.2909305478112,
          -20.86114604661856,
          -28.56224890195868,
          -20.882198881868,
          -18.22361275900353,
          -23.025130913339943,
          -12.915032065986976,
          -12.022335756743884,
          -27.57743741027233,
          -28.38936999447621,
          -29.843173933051826,
          -14.807040580728295,
          -26.730091275759527,
          -2.146578287541401,
          30.021824213882308,
          22.894541948178833,
          -22.34596297924387,
          -31.9827872793604,
          -18.333503403785016,
          -10.35752543407227,
          -17.534551684733714,
          -24.273979812256634,
          -19.460730240353303,
          -21.82909993324474,
          -17.689232168495682,
          0.15666477251623356,
          28.685257113804642,
          -18.477807107854673,
          -20.768495194600067,
          -15.110360942246688,
          -10.155480709146106,
          31.201622294668454,
          -22.47285401963563,
          -12.387763386388302,
          -10.49480589470659,
          -33.77522451550159,
          -32.89265392314708,
          -16.37587373756165,
          -10.480939570847523,
          -27.3811538860899,
          -21.197473463026935,
          -22.28556870864419,
          -11.764848511019345,
          -27.219788382650187,
          -25.129790415674183,
          -4.9159078023663065,
          -27.287695788376535,
          -31.17959503661336,
          -27.041198317063568,
          -10.537563868670894,
          -11.53856376297928,
          -20.141160534095278,
          -21.173010055935528,
          -18.754276976222275,
          -34.633692348177625,
          -31.165122074184513,
          -32.11347544390187,
          -22.1927228723829,
          -23.96292210262614,
          -25.867114903181868,
          -30.935650584062323,
          -13.979075051507891,
          -3.459842755566894,
          -27.02803585715316,
          -27.64587429041768,
          -15.781701083959206,
          -14.896457939494258,
          -10.63346902633843,
          -28.574719254579804,
          -24.576186921976284,
          -8.771678769110927,
          -16.05938093413274,
          -22.91027333022348,
          -17.7321802547556,
          -24.296642088890252,
          -30.750886505343292,
          -26.237269103003225,
          -15.243069041625995,
          -20.99504501121026,
          -15.94816727919319,
          7.599012145409316,
          -28.511378884622392,
          -25.25229395771985,
          -11.083355528016519,
          -27.022379538859614,
          -19.826635402843426,
          -28.065120538096636,
          -32.286952352318536,
          -25.572620778548856,
          -30.731922805822936,
          -27.24414586137098,
          -13.196106100306519,
          26.9403694150194,
          -32.18096304867827,
          -32.03329544968271,
          -11.852666330328475,
          -30.88059233316801,
          -18.707908898743042,
          -24.727060118418326,
          -33.83113693187245,
          -18.700117140485027,
          -27.369526137548608,
          -13.32040429969498,
          -24.49888429926155,
          -32.88192875475982,
          -23.70936346037259,
          -15.686465792794767,
          -29.79120874491641,
          -16.49248826385905,
          -21.059741616886384,
          -18.784439289369175,
          -20.422556755490774,
          -22.880232163292916,
          -14.253003179369868,
          -27.655672034395327,
          -33.70329487655408,
          -29.647923359074618,
          -9.249984013686458,
          -15.740224815242065,
          -10.366079386948163,
          -17.36706859078493,
          -16.906455087426266,
          6.673608765048994,
          -13.441137891683368,
          -34.72726113184086,
          -27.130615711482466,
          -21.848301327234115,
          -11.510623542495512,
          -2.1664126608385703,
          -10.146954130371302,
          -25.882635329306794,
          -13.61416196082764,
          -34.70874286665435,
          -34.640232952556566,
          -20.475637476067423,
          -7.118314167201183,
          -27.31797986556122,
          -18.061343588968708,
          -21.14185881309137,
          -18.685767062124498,
          -20.908289206569897,
          -28.43739532399961,
          -33.6258352150203,
          -16.753008704937656,
          -13.684394057101947,
          -26.24402058093038,
          21.470900048049472,
          -24.929622184009432,
          -17.35889338187675,
          -21.556054444980894,
          -20.135000427903446,
          -13.136083580164746,
          -30.429148361800795,
          -15.293507825750481,
          -23.682321000733562,
          -16.68708228547914,
          -7.808346781620983,
          -18.415577165697073,
          -29.919212373577484,
          -21.072241015603648,
          -15.5212449606724,
          -29.360243603009046,
          -28.339114204620614,
          -17.98280508518878,
          -28.317915486673208,
          -27.135291211048777,
          -24.493752126942926,
          -18.532077036176826,
          -20.60513251820659,
          -32.496251543292935,
          -27.39205306265194,
          16.269846968166846,
          -14.723589660472301,
          -1.7138942270445858,
          -17.597491707087244,
          -15.792217528482855,
          -34.421555574031686,
          -9.479621471922115,
          -13.217836260268253,
          19.51149944775016,
          -20.18320794717286,
          -23.340419892830266,
          -34.64965403543899,
          -14.544583629531218,
          -9.791882748415736,
          -29.708370789706187,
          -29.129126158795447,
          -21.357381959819058,
          -31.114758825178612,
          30.3977075103838,
          -18.729914910336092,
          -29.64502524380147,
          -22.61646819158039,
          -24.544551662570438,
          30.228310581325246,
          -13.607635507301362,
          -23.006566319461548,
          -25.858684378784215,
          -25.224231952226248,
          -18.99333451727533,
          -15.384311008293539,
          -21.399345411844813,
          -19.158334575951805,
          -31.405479571752306,
          -15.358517596894488,
          -14.857638832556404,
          -26.117157583530336,
          -23.515187976706706,
          -31.367318830751096,
          -33.48276201859677,
          18.354539444091035,
          29.46750762201647,
          -32.77001939581766,
          -9.06525168580402,
          -13.369105322141882,
          -27.423789486880672,
          -29.201787960336322,
          -21.4641977946151,
          -33.3085189562232,
          -13.777883675657062,
          -22.093197224757017,
          -32.94333003029635,
          -14.567931757346244,
          -14.670922420815971,
          -15.819589778871904,
          -32.12055657296856,
          -7.7756178910911,
          27.37137081709857,
          -25.952120403596567,
          -34.118361329059596,
          -18.458345409085766,
          -13.886907717145293,
          -34.398646464322894,
          -23.589938462856782,
          -24.909088414580918,
          -28.45150173083488,
          -14.682030191665588,
          -16.4818394129532,
          -2.083159188305454,
          29.046421101596994,
          -18.264308068170504,
          -12.194967158693903,
          -31.86697793693596,
          -11.354625694887417,
          -33.13497910574253,
          -28.1392082773897,
          -34.9611045433626,
          -11.788259381892022,
          21.24793314336464,
          -12.036643102548341,
          -33.44246771780605,
          -22.40262510879255,
          -22.072617111025814,
          -25.780657478431134,
          -33.584416477760584,
          -32.20812026809249,
          -19.13728170504944,
          -24.628466698608026,
          -32.54047310271978,
          -12.087188103861234,
          -11.414863600177949,
          -17.3816080324031,
          -22.108749401718544,
          -21.340135937986474,
          -18.41061189180257,
          -24.690636824758577,
          -10.581113831329388,
          -15.298546561177583,
          -29.38827624740088,
          -14.74778898863328,
          -18.25138572688923,
          -24.115558165132313,
          -13.090561618863067,
          -32.72058018202959,
          -15.928253139348017,
          -18.5110205704583,
          -14.329976408656206,
          -21.14101760910589,
          -33.45237214580503,
          -20.89523791330015,
          -2.174966613714462,
          19.00970285600534,
          -16.83356781760101,
          -31.393971595748734,
          22.338167728160837,
          -10.737600547564252,
          -9.14499606191162,
          -7.749295638460641,
          -32.289011902990495,
          18.995019068358435,
          -26.01517109501909,
          -24.51415790408293,
          -18.44326168086451,
          -10.125395141611662,
          -27.60445555315796,
          15.996380630874327,
          30.407905971892934
         ],
         "yaxis": "y"
        }
       ],
       "layout": {
        "height": 600,
        "legend": {
         "title": {
          "text": "Cluster"
         },
         "tracegroupgap": 0
        },
        "margin": {
         "t": 60
        },
        "plot_bgcolor": "rgb(240,240,240)",
        "template": {
         "data": {
          "bar": [
           {
            "error_x": {
             "color": "#2a3f5f"
            },
            "error_y": {
             "color": "#2a3f5f"
            },
            "marker": {
             "line": {
              "color": "#E5ECF6",
              "width": 0.5
             },
             "pattern": {
              "fillmode": "overlay",
              "size": 10,
              "solidity": 0.2
             }
            },
            "type": "bar"
           }
          ],
          "barpolar": [
           {
            "marker": {
             "line": {
              "color": "#E5ECF6",
              "width": 0.5
             },
             "pattern": {
              "fillmode": "overlay",
              "size": 10,
              "solidity": 0.2
             }
            },
            "type": "barpolar"
           }
          ],
          "carpet": [
           {
            "aaxis": {
             "endlinecolor": "#2a3f5f",
             "gridcolor": "white",
             "linecolor": "white",
             "minorgridcolor": "white",
             "startlinecolor": "#2a3f5f"
            },
            "baxis": {
             "endlinecolor": "#2a3f5f",
             "gridcolor": "white",
             "linecolor": "white",
             "minorgridcolor": "white",
             "startlinecolor": "#2a3f5f"
            },
            "type": "carpet"
           }
          ],
          "choropleth": [
           {
            "colorbar": {
             "outlinewidth": 0,
             "ticks": ""
            },
            "type": "choropleth"
           }
          ],
          "contour": [
           {
            "colorbar": {
             "outlinewidth": 0,
             "ticks": ""
            },
            "colorscale": [
             [
              0,
              "#0d0887"
             ],
             [
              0.1111111111111111,
              "#46039f"
             ],
             [
              0.2222222222222222,
              "#7201a8"
             ],
             [
              0.3333333333333333,
              "#9c179e"
             ],
             [
              0.4444444444444444,
              "#bd3786"
             ],
             [
              0.5555555555555556,
              "#d8576b"
             ],
             [
              0.6666666666666666,
              "#ed7953"
             ],
             [
              0.7777777777777778,
              "#fb9f3a"
             ],
             [
              0.8888888888888888,
              "#fdca26"
             ],
             [
              1,
              "#f0f921"
             ]
            ],
            "type": "contour"
           }
          ],
          "contourcarpet": [
           {
            "colorbar": {
             "outlinewidth": 0,
             "ticks": ""
            },
            "type": "contourcarpet"
           }
          ],
          "heatmap": [
           {
            "colorbar": {
             "outlinewidth": 0,
             "ticks": ""
            },
            "colorscale": [
             [
              0,
              "#0d0887"
             ],
             [
              0.1111111111111111,
              "#46039f"
             ],
             [
              0.2222222222222222,
              "#7201a8"
             ],
             [
              0.3333333333333333,
              "#9c179e"
             ],
             [
              0.4444444444444444,
              "#bd3786"
             ],
             [
              0.5555555555555556,
              "#d8576b"
             ],
             [
              0.6666666666666666,
              "#ed7953"
             ],
             [
              0.7777777777777778,
              "#fb9f3a"
             ],
             [
              0.8888888888888888,
              "#fdca26"
             ],
             [
              1,
              "#f0f921"
             ]
            ],
            "type": "heatmap"
           }
          ],
          "heatmapgl": [
           {
            "colorbar": {
             "outlinewidth": 0,
             "ticks": ""
            },
            "colorscale": [
             [
              0,
              "#0d0887"
             ],
             [
              0.1111111111111111,
              "#46039f"
             ],
             [
              0.2222222222222222,
              "#7201a8"
             ],
             [
              0.3333333333333333,
              "#9c179e"
             ],
             [
              0.4444444444444444,
              "#bd3786"
             ],
             [
              0.5555555555555556,
              "#d8576b"
             ],
             [
              0.6666666666666666,
              "#ed7953"
             ],
             [
              0.7777777777777778,
              "#fb9f3a"
             ],
             [
              0.8888888888888888,
              "#fdca26"
             ],
             [
              1,
              "#f0f921"
             ]
            ],
            "type": "heatmapgl"
           }
          ],
          "histogram": [
           {
            "marker": {
             "pattern": {
              "fillmode": "overlay",
              "size": 10,
              "solidity": 0.2
             }
            },
            "type": "histogram"
           }
          ],
          "histogram2d": [
           {
            "colorbar": {
             "outlinewidth": 0,
             "ticks": ""
            },
            "colorscale": [
             [
              0,
              "#0d0887"
             ],
             [
              0.1111111111111111,
              "#46039f"
             ],
             [
              0.2222222222222222,
              "#7201a8"
             ],
             [
              0.3333333333333333,
              "#9c179e"
             ],
             [
              0.4444444444444444,
              "#bd3786"
             ],
             [
              0.5555555555555556,
              "#d8576b"
             ],
             [
              0.6666666666666666,
              "#ed7953"
             ],
             [
              0.7777777777777778,
              "#fb9f3a"
             ],
             [
              0.8888888888888888,
              "#fdca26"
             ],
             [
              1,
              "#f0f921"
             ]
            ],
            "type": "histogram2d"
           }
          ],
          "histogram2dcontour": [
           {
            "colorbar": {
             "outlinewidth": 0,
             "ticks": ""
            },
            "colorscale": [
             [
              0,
              "#0d0887"
             ],
             [
              0.1111111111111111,
              "#46039f"
             ],
             [
              0.2222222222222222,
              "#7201a8"
             ],
             [
              0.3333333333333333,
              "#9c179e"
             ],
             [
              0.4444444444444444,
              "#bd3786"
             ],
             [
              0.5555555555555556,
              "#d8576b"
             ],
             [
              0.6666666666666666,
              "#ed7953"
             ],
             [
              0.7777777777777778,
              "#fb9f3a"
             ],
             [
              0.8888888888888888,
              "#fdca26"
             ],
             [
              1,
              "#f0f921"
             ]
            ],
            "type": "histogram2dcontour"
           }
          ],
          "mesh3d": [
           {
            "colorbar": {
             "outlinewidth": 0,
             "ticks": ""
            },
            "type": "mesh3d"
           }
          ],
          "parcoords": [
           {
            "line": {
             "colorbar": {
              "outlinewidth": 0,
              "ticks": ""
             }
            },
            "type": "parcoords"
           }
          ],
          "pie": [
           {
            "automargin": true,
            "type": "pie"
           }
          ],
          "scatter": [
           {
            "fillpattern": {
             "fillmode": "overlay",
             "size": 10,
             "solidity": 0.2
            },
            "type": "scatter"
           }
          ],
          "scatter3d": [
           {
            "line": {
             "colorbar": {
              "outlinewidth": 0,
              "ticks": ""
             }
            },
            "marker": {
             "colorbar": {
              "outlinewidth": 0,
              "ticks": ""
             }
            },
            "type": "scatter3d"
           }
          ],
          "scattercarpet": [
           {
            "marker": {
             "colorbar": {
              "outlinewidth": 0,
              "ticks": ""
             }
            },
            "type": "scattercarpet"
           }
          ],
          "scattergeo": [
           {
            "marker": {
             "colorbar": {
              "outlinewidth": 0,
              "ticks": ""
             }
            },
            "type": "scattergeo"
           }
          ],
          "scattergl": [
           {
            "marker": {
             "colorbar": {
              "outlinewidth": 0,
              "ticks": ""
             }
            },
            "type": "scattergl"
           }
          ],
          "scattermapbox": [
           {
            "marker": {
             "colorbar": {
              "outlinewidth": 0,
              "ticks": ""
             }
            },
            "type": "scattermapbox"
           }
          ],
          "scatterpolar": [
           {
            "marker": {
             "colorbar": {
              "outlinewidth": 0,
              "ticks": ""
             }
            },
            "type": "scatterpolar"
           }
          ],
          "scatterpolargl": [
           {
            "marker": {
             "colorbar": {
              "outlinewidth": 0,
              "ticks": ""
             }
            },
            "type": "scatterpolargl"
           }
          ],
          "scatterternary": [
           {
            "marker": {
             "colorbar": {
              "outlinewidth": 0,
              "ticks": ""
             }
            },
            "type": "scatterternary"
           }
          ],
          "surface": [
           {
            "colorbar": {
             "outlinewidth": 0,
             "ticks": ""
            },
            "colorscale": [
             [
              0,
              "#0d0887"
             ],
             [
              0.1111111111111111,
              "#46039f"
             ],
             [
              0.2222222222222222,
              "#7201a8"
             ],
             [
              0.3333333333333333,
              "#9c179e"
             ],
             [
              0.4444444444444444,
              "#bd3786"
             ],
             [
              0.5555555555555556,
              "#d8576b"
             ],
             [
              0.6666666666666666,
              "#ed7953"
             ],
             [
              0.7777777777777778,
              "#fb9f3a"
             ],
             [
              0.8888888888888888,
              "#fdca26"
             ],
             [
              1,
              "#f0f921"
             ]
            ],
            "type": "surface"
           }
          ],
          "table": [
           {
            "cells": {
             "fill": {
              "color": "#EBF0F8"
             },
             "line": {
              "color": "white"
             }
            },
            "header": {
             "fill": {
              "color": "#C8D4E3"
             },
             "line": {
              "color": "white"
             }
            },
            "type": "table"
           }
          ]
         },
         "layout": {
          "annotationdefaults": {
           "arrowcolor": "#2a3f5f",
           "arrowhead": 0,
           "arrowwidth": 1
          },
          "autotypenumbers": "strict",
          "coloraxis": {
           "colorbar": {
            "outlinewidth": 0,
            "ticks": ""
           }
          },
          "colorscale": {
           "diverging": [
            [
             0,
             "#8e0152"
            ],
            [
             0.1,
             "#c51b7d"
            ],
            [
             0.2,
             "#de77ae"
            ],
            [
             0.3,
             "#f1b6da"
            ],
            [
             0.4,
             "#fde0ef"
            ],
            [
             0.5,
             "#f7f7f7"
            ],
            [
             0.6,
             "#e6f5d0"
            ],
            [
             0.7,
             "#b8e186"
            ],
            [
             0.8,
             "#7fbc41"
            ],
            [
             0.9,
             "#4d9221"
            ],
            [
             1,
             "#276419"
            ]
           ],
           "sequential": [
            [
             0,
             "#0d0887"
            ],
            [
             0.1111111111111111,
             "#46039f"
            ],
            [
             0.2222222222222222,
             "#7201a8"
            ],
            [
             0.3333333333333333,
             "#9c179e"
            ],
            [
             0.4444444444444444,
             "#bd3786"
            ],
            [
             0.5555555555555556,
             "#d8576b"
            ],
            [
             0.6666666666666666,
             "#ed7953"
            ],
            [
             0.7777777777777778,
             "#fb9f3a"
            ],
            [
             0.8888888888888888,
             "#fdca26"
            ],
            [
             1,
             "#f0f921"
            ]
           ],
           "sequentialminus": [
            [
             0,
             "#0d0887"
            ],
            [
             0.1111111111111111,
             "#46039f"
            ],
            [
             0.2222222222222222,
             "#7201a8"
            ],
            [
             0.3333333333333333,
             "#9c179e"
            ],
            [
             0.4444444444444444,
             "#bd3786"
            ],
            [
             0.5555555555555556,
             "#d8576b"
            ],
            [
             0.6666666666666666,
             "#ed7953"
            ],
            [
             0.7777777777777778,
             "#fb9f3a"
            ],
            [
             0.8888888888888888,
             "#fdca26"
            ],
            [
             1,
             "#f0f921"
            ]
           ]
          },
          "colorway": [
           "#636efa",
           "#EF553B",
           "#00cc96",
           "#ab63fa",
           "#FFA15A",
           "#19d3f3",
           "#FF6692",
           "#B6E880",
           "#FF97FF",
           "#FECB52"
          ],
          "font": {
           "color": "#2a3f5f"
          },
          "geo": {
           "bgcolor": "white",
           "lakecolor": "white",
           "landcolor": "#E5ECF6",
           "showlakes": true,
           "showland": true,
           "subunitcolor": "white"
          },
          "hoverlabel": {
           "align": "left"
          },
          "hovermode": "closest",
          "mapbox": {
           "style": "light"
          },
          "paper_bgcolor": "white",
          "plot_bgcolor": "#E5ECF6",
          "polar": {
           "angularaxis": {
            "gridcolor": "white",
            "linecolor": "white",
            "ticks": ""
           },
           "bgcolor": "#E5ECF6",
           "radialaxis": {
            "gridcolor": "white",
            "linecolor": "white",
            "ticks": ""
           }
          },
          "scene": {
           "xaxis": {
            "backgroundcolor": "#E5ECF6",
            "gridcolor": "white",
            "gridwidth": 2,
            "linecolor": "white",
            "showbackground": true,
            "ticks": "",
            "zerolinecolor": "white"
           },
           "yaxis": {
            "backgroundcolor": "#E5ECF6",
            "gridcolor": "white",
            "gridwidth": 2,
            "linecolor": "white",
            "showbackground": true,
            "ticks": "",
            "zerolinecolor": "white"
           },
           "zaxis": {
            "backgroundcolor": "#E5ECF6",
            "gridcolor": "white",
            "gridwidth": 2,
            "linecolor": "white",
            "showbackground": true,
            "ticks": "",
            "zerolinecolor": "white"
           }
          },
          "shapedefaults": {
           "line": {
            "color": "#2a3f5f"
           }
          },
          "ternary": {
           "aaxis": {
            "gridcolor": "white",
            "linecolor": "white",
            "ticks": ""
           },
           "baxis": {
            "gridcolor": "white",
            "linecolor": "white",
            "ticks": ""
           },
           "bgcolor": "#E5ECF6",
           "caxis": {
            "gridcolor": "white",
            "linecolor": "white",
            "ticks": ""
           }
          },
          "title": {
           "x": 0.05
          },
          "xaxis": {
           "automargin": true,
           "gridcolor": "white",
           "linecolor": "white",
           "ticks": "",
           "title": {
            "standoff": 15
           },
           "zerolinecolor": "white",
           "zerolinewidth": 2
          },
          "yaxis": {
           "automargin": true,
           "gridcolor": "white",
           "linecolor": "white",
           "ticks": "",
           "title": {
            "standoff": 15
           },
           "zerolinecolor": "white",
           "zerolinewidth": 2
          }
         }
        },
        "title": {
         "text": "2D Cluster PCA Plot"
        },
        "xaxis": {
         "anchor": "y",
         "domain": [
          0,
          1
         ],
         "title": {
          "text": "PCA1"
         }
        },
        "yaxis": {
         "anchor": "x",
         "domain": [
          0,
          1
         ],
         "title": {
          "text": "PCA2"
         }
        }
       }
      }
     },
     "metadata": {},
     "output_type": "display_data"
    }
   ],
   "source": [
    "exp.evaluate_model(model)"
   ]
  }
 ],
 "metadata": {
  "kernelspec": {
   "display_name": ".venv",
   "language": "python",
   "name": "python3"
  },
  "language_info": {
   "codemirror_mode": {
    "name": "ipython",
    "version": 3
   },
   "file_extension": ".py",
   "mimetype": "text/x-python",
   "name": "python",
   "nbconvert_exporter": "python",
   "pygments_lexer": "ipython3",
   "version": "3.11.6"
  }
 },
 "nbformat": 4,
 "nbformat_minor": 2
}
