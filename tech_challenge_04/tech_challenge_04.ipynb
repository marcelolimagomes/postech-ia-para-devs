{
 "cells": [
  {
   "cell_type": "code",
   "execution_count": null,
   "metadata": {},
   "outputs": [],
   "source": [
    "# Configurando python environment. Necessário ter instalado uma GPU Nvdia (no meu caso RTX-3060) + Anaconda\n",
    "# conda create -n tc5 -c rapidsai -c conda-forge -c nvidia rapids=24.2 python=3.10 'cuda-version>=12.0,<=12.5' tensorflow[and-cuda]==2.15.0 'pytorch=*=*cuda*' torchvision deepface\n",
    "# pip install opencv-python cvzone\n",
    "\n",
    "# >>>Baixa classificador\n",
    "#!wget -O classifier0.tflite -q https://storage.googleapis.com/mediapipe-models/image_classifier/efficientnet_lite0/float32/1/efficientnet_lite0.tflite\n",
    "#!wget -O classifier2.tflite -q https://storage.googleapis.com/mediapipe-models/image_classifier/efficientnet_lite2/float32/1/efficientnet_lite2.tflite"
   ]
  },
  {
   "cell_type": "code",
   "execution_count": null,
   "metadata": {},
   "outputs": [],
   "source": [
    "import warnings\n",
    "warnings.filterwarnings('ignore')"
   ]
  },
  {
   "cell_type": "code",
   "execution_count": null,
   "metadata": {},
   "outputs": [],
   "source": [
    "import torchvision\n",
    "import torch\n",
    "print(torch.__version__)\n",
    "print('CUDA available: ' + str(torch.cuda.is_available()))"
   ]
  },
  {
   "cell_type": "code",
   "execution_count": null,
   "metadata": {},
   "outputs": [],
   "source": [
    "import tensorflow as tf\n",
    "print(tf.__version__)\n",
    "print(tf.config.list_physical_devices('GPU'))"
   ]
  },
  {
   "cell_type": "code",
   "execution_count": null,
   "metadata": {},
   "outputs": [],
   "source": [
    "import cv2\n",
    "import cvzone\n",
    "from deepface import DeepFace\n",
    "import mediapipe as mp\n",
    "from mediapipe.tasks import python\n",
    "from mediapipe.tasks.python.components import processors\n",
    "from mediapipe.tasks.python import vision\n",
    "from tqdm import tqdm"
   ]
  },
  {
   "cell_type": "code",
   "execution_count": null,
   "metadata": {},
   "outputs": [],
   "source": [
    "#video_path = './data/resized_video.mp4'\n",
    "#output_video_path = './data/resized_video_result.mp4'\n",
    "video_path = './data/video.mp4'\n",
    "output_video_path = './data/video_result.mp4'\n",
    "\n",
    "\n",
    "def get_cap(video_path):\n",
    "  cap = cv2.VideoCapture(video_path)\n",
    "  if not cap.isOpened():\n",
    "    print(\"Cannot open video\")\n",
    "\n",
    "  return cap\n",
    "\n",
    "\n",
    "cap = get_cap(video_path)\n",
    "\n",
    "# STEP 2: Create an ImageClassifier object.\n",
    "VisionRunningMode = mp.tasks.vision.RunningMode\n",
    "base_options = python.BaseOptions(model_asset_path='classifier2.tflite')\n",
    "options = vision.ImageClassifierOptions(\n",
    "    base_options=base_options,\n",
    "    max_results=4,\n",
    "    running_mode=VisionRunningMode.VIDEO,\n",
    "    display_names_locale='pt')\n",
    "classifier = vision.ImageClassifier.create_from_options(options)"
   ]
  },
  {
   "cell_type": "code",
   "execution_count": null,
   "metadata": {},
   "outputs": [],
   "source": [
    "frames_scape = 1\n",
    "count = 1\n",
    "\n",
    "width = int(cap.get(cv2.CAP_PROP_FRAME_WIDTH))\n",
    "height = int(cap.get(cv2.CAP_PROP_FRAME_HEIGHT))\n",
    "fps = cap.get(cv2.CAP_PROP_FPS)\n",
    "total_frames = int(cap.get(cv2.CAP_PROP_FRAME_COUNT))\n",
    "print(f'Original: width: {width} - height: {height} - fps: {fps} - total_frames: {total_frames}')\n",
    "\n",
    "middle = int(width / 4)\n",
    "bottom = height - 10\n",
    "\n",
    "fourcc = cv2.VideoWriter_fourcc(*'mp4v')  \n",
    "out = cv2.VideoWriter(output_video_path, fourcc, fps, (width, height))\n",
    "\n",
    "# Loop para processar cada frame do vídeo com barra de progresso\n",
    "for frame_index in tqdm(range(total_frames), desc=\"Processando vídeo\"):\n",
    "  ret, frame = cap.read()\n",
    "  if count < frames_scape:\n",
    "    count += 1\n",
    "    continue\n",
    "\n",
    "  count = 1\n",
    "\n",
    "  # if frame is read correctly ret is True\n",
    "  if not ret:\n",
    "    print(\"Can't receive frame (stream end?). Exiting ...\")\n",
    "    break\n",
    "\n",
    "  # Detectar rostos\n",
    "  rostos_detectados = DeepFace.analyze(frame, actions=['emotion'], enforce_detection=False, detector_backend='yolov8')\n",
    "\n",
    "  for face in rostos_detectados:\n",
    "    # print(face)\n",
    "    x, y, w, h = face['region']['x'], face['region']['y'], face['region']['w'], face['region']['h']\n",
    "    cvzone.cornerRect(frame, [x, y, w, h], l=9, t=2, rt=1)\n",
    "    dominant_emotion = face['dominant_emotion']\n",
    "    # cvzone.putTextRect(frame, dominant_emotion, [x, y - 10],  scale = 1, font = cv2.FONT_HERSHEY_SIMPLEX, colorB = None)\n",
    "    cv2.putText(frame, dominant_emotion, (x, y - 10), cv2.FONT_HERSHEY_SIMPLEX, 0.7, (0, 0, 255), 2)\n",
    "\n",
    "  # Convert the frame received from OpenCV to a MediaPipe’s Image object.\n",
    "  mp_image = mp.Image(image_format=mp.ImageFormat.SRGB, data=frame)\n",
    "\n",
    "  # Calculate the timestamp of the current frame\n",
    "  frame_timestamp_ms = int(1000 * frame_index / fps)\n",
    "\n",
    "  # Perform image classification on the video frame.\n",
    "  classification_result = classifier.classify_for_video(mp_image, frame_timestamp_ms)\n",
    "  text = 'Ação: Indefinido'\n",
    "  # STEP 5: Process the classification result. In this case, visualize it.\n",
    "  top_category = classification_result.classifications[0].categories[0]  \n",
    "  if top_category.score >= .25:\n",
    "    text = f\"Ação: {top_category.category_name} ({top_category.score:.2f})\"\n",
    "  cv2.putText(frame, text, (middle, bottom), cv2.FONT_HERSHEY_SIMPLEX, 0.7, (0, 0, 255), 2)\n",
    "\n",
    "  #cv2.imshow('Detecção de Padrões', frame)\n",
    "  out.write(frame)\n",
    "\n",
    "  k = cv2.waitKey(30) & 0xff\n",
    "  if k == 27:  # Esc Key\n",
    "    break\n",
    "\n",
    "# Close the window\n",
    "cap.release()\n",
    "out.release()\n",
    "# De-allocate any associated memory usage\n",
    "cv2.destroyAllWindows()"
   ]
  }
 ],
 "metadata": {
  "kernelspec": {
   "display_name": "tc5",
   "language": "python",
   "name": "python3"
  },
  "language_info": {
   "codemirror_mode": {
    "name": "ipython",
    "version": 3
   },
   "file_extension": ".py",
   "mimetype": "text/x-python",
   "name": "python",
   "nbconvert_exporter": "python",
   "pygments_lexer": "ipython3",
   "version": "3.10.14"
  }
 },
 "nbformat": 4,
 "nbformat_minor": 2
}
