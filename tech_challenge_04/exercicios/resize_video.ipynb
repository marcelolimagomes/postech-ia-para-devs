{
 "cells": [
  {
   "cell_type": "code",
   "execution_count": null,
   "metadata": {},
   "outputs": [],
   "source": [
    "## conda create -n tc5 -c rapidsai -c conda-forge -c nvidia rapids=24.2 python=3.10 'cuda-version>=12.0,<=12.5' tensorflow[and-cuda]==2.15.0\n",
    "## IN SHELL: export XLA_FLAGS=--xla_gpu_cuda_data_dir=/home/marcelo/miniconda3/envs/r1\n",
    "import warnings\n",
    "warnings.filterwarnings('ignore')\n",
    "\n",
    "import os\n",
    "print('XLA_FLAGS', os.environ['XLA_FLAGS'])\n",
    "\n",
    "import cv2\n",
    "\n",
    "import numpy as np\n",
    "from tqdm import tqdm\n",
    "#import face_recognition"
   ]
  },
  {
   "cell_type": "code",
   "execution_count": null,
   "metadata": {},
   "outputs": [],
   "source": [
    "def detect_emotion(video_path, output_path):\n",
    "  cap = cv2.VideoCapture(video_path)\n",
    "\n",
    "  if not cap.isOpened():\n",
    "    print(\"Cannot open video\")\n",
    "    return\n",
    "\n",
    "  width = int(cap.get(cv2.CAP_PROP_FRAME_WIDTH))\n",
    "  height = int(cap.get(cv2.CAP_PROP_FRAME_HEIGHT))\n",
    "  fps = cap.get(cv2.CAP_PROP_FPS)\n",
    "  total_frames = int(cap.get(cv2.CAP_PROP_FRAME_COUNT))\n",
    "  resize = 0.3\n",
    "  print(f'Original: width: {width} - height: {height} - fps: {fps} - total_frames: {total_frames}')\n",
    "  r_w, r_h = (int(width * resize) , int(height * resize) )\n",
    "  print(f'Resize {resize * 100}%: width: {r_w} - height: {r_h}')\n",
    "\n",
    "  fourcc = cv2.VideoWriter_fourcc(*'mp4v')  \n",
    "  out = cv2.VideoWriter(output_path, fourcc, 30, (r_w, r_h))\n",
    "\n",
    "  for i in tqdm(range(total_frames), desc='Processando vídeo...'):\n",
    "    ret, frame = cap.read()\n",
    "    if not ret:\n",
    "      print(\"Can't receive frame (stream end?). Exiting ...\")\n",
    "      break\n",
    "    frame = cv2.cvtColor(frame, cv2.COLOR_RGBA2RGB)\n",
    "    frame = cv2.resize(frame, (r_w , r_h), interpolation = cv2.INTER_AREA)\n",
    "\n",
    "    out.write(frame)\n",
    "  cap.release()\n",
    "  out.release()\n",
    "\n",
    "detect_emotion('../data/video.mp4', '../data/resized_video.mp4')"
   ]
  }
 ],
 "metadata": {
  "kernelspec": {
   "display_name": "fiap",
   "language": "python",
   "name": "python3"
  },
  "language_info": {
   "codemirror_mode": {
    "name": "ipython",
    "version": 3
   },
   "file_extension": ".py",
   "mimetype": "text/x-python",
   "name": "python",
   "nbconvert_exporter": "python",
   "pygments_lexer": "ipython3",
   "version": "3.11.10"
  }
 },
 "nbformat": 4,
 "nbformat_minor": 2
}
