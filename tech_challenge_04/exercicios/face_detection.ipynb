{
 "cells": [
  {
   "cell_type": "code",
   "execution_count": 1,
   "metadata": {},
   "outputs": [],
   "source": [
    "import cv2"
   ]
  },
  {
   "cell_type": "code",
   "execution_count": null,
   "metadata": {},
   "outputs": [],
   "source": [
    "def list_cameras():\n",
    "    \"\"\"Lista todos os dispositivos de câmera conectados ao sistema.\n",
    "\n",
    "    Retorna:\n",
    "        Uma lista com os índices das câmeras encontradas.\n",
    "    \"\"\"\n",
    "\n",
    "    index = 0\n",
    "    arr = []\n",
    "    while True:\n",
    "        cap = cv2.VideoCapture(index)\n",
    "        if not cap.isOpened():\n",
    "            break\n",
    "        else:\n",
    "            arr.append(index)\n",
    "        index += 1\n",
    "    return arr\n",
    "\n",
    "# Exemplo de uso:\n",
    "cameras = list_cameras()\n",
    "print(\"Câmeras encontradas:\")\n",
    "for i, camera in enumerate(cameras):\n",
    "    print(f\"Câmera {i}: {camera}\")"
   ]
  },
  {
   "cell_type": "code",
   "execution_count": 2,
   "metadata": {},
   "outputs": [],
   "source": [
    "# Carregando o classificador de Haar Cascades para detecção de faces\n",
    "face_cascade = cv2.CascadeClassifier('./haarcascade_frontalface_default.xml')"
   ]
  },
  {
   "cell_type": "code",
   "execution_count": 3,
   "metadata": {},
   "outputs": [],
   "source": [
    "# Iniciando a captura de vídeo (pode ser de uma câmera ou de um vídeo)\n",
    "# cap = cv2.VideoCapture(0, cv2.CAP_DSHOW)\n",
    "\n",
    "# Substitua 'seu_video.mp4' pelo caminho do seu arquivo de vídeo\n",
    "video_path = './video.mp4'\n",
    "# Iniciando a captura de vídeo a partir do arquivo\n",
    "cap = cv2.VideoCapture(video_path)"
   ]
  },
  {
   "cell_type": "code",
   "execution_count": null,
   "metadata": {},
   "outputs": [],
   "source": [
    "while True:\n",
    "    # Lendo um frame da captura de vídeo\n",
    "    ret, frame = cap.read()\n",
    "\n",
    "    # Verificando se o frame foi lido corretamente\n",
    "    if not ret:\n",
    "        print(\"Fim do vídeo ou erro na captura.\")\n",
    "        break\n",
    "\n",
    "    # Convertendo o frame para escala de cinza\n",
    "    gray = cv2.cvtColor(frame, cv2.COLOR_BGR2GRAY)\n",
    "\n",
    "    # Detectando faces no frame em escala de cinza\n",
    "    faces = face_cascade.detectMultiScale(gray, 1.1, 4)\n",
    "\n",
    "    # Desenhando um retângulo em torno de cada face detectada\n",
    "    for (x, y, w, h) in faces:\n",
    "        cv2.rectangle(frame, (x, y), (x+w, y+h), (255, 0, 0), 2)\n",
    "\n",
    "    # Exibindo o resultado\n",
    "    cv2.imshow('Detecção de Rosto', frame)\n",
    "\n",
    "    # Saindo do loop se a tecla 'q' for pressionada\n",
    "    if cv2.waitKey(1) == ord('q'):\n",
    "        break\n",
    "\n",
    "# Liberando os recursos\n",
    "cap.release()\n",
    "cv2.destroyAllWindows()"
   ]
  }
 ],
 "metadata": {
  "kernelspec": {
   "display_name": "unsloth_env",
   "language": "python",
   "name": "python3"
  },
  "language_info": {
   "codemirror_mode": {
    "name": "ipython",
    "version": 3
   },
   "file_extension": ".py",
   "mimetype": "text/x-python",
   "name": "python",
   "nbconvert_exporter": "python",
   "pygments_lexer": "ipython3",
   "version": "3.10.14"
  }
 },
 "nbformat": 4,
 "nbformat_minor": 2
}
