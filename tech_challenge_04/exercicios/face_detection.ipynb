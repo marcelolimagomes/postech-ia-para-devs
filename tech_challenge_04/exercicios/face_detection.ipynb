{
 "cells": [
  {
   "cell_type": "code",
   "execution_count": 40,
   "metadata": {},
   "outputs": [],
   "source": [
    "import cv2\n",
    "import time"
   ]
  },
  {
   "cell_type": "code",
   "execution_count": 41,
   "metadata": {},
   "outputs": [],
   "source": [
    "# Carregando o classificador de Haar Cascades para detecção de faces\n",
    "face_cascade = cv2.CascadeClassifier('./haarcascade_frontalface_default.xml')\n",
    "# Trained XML file for detecting eyes\n",
    "#eye_cascade = cv2.CascadeClassifier('./haarcascade_eye.xml')\n",
    "eye_cascade = cv2.CascadeClassifier('./haarcascade_eye_tree_eyeglasses.xml')\n",
    "\n",
    "video_path = './video.mp4'\n",
    "cap = cv2.VideoCapture(0)#0)\n",
    "if not cap.isOpened():\n",
    "  print(\"Cannot open camera\")"
   ]
  },
  {
   "cell_type": "code",
   "execution_count": 42,
   "metadata": {},
   "outputs": [],
   "source": [
    "while True:\n",
    "  #time.sleep(0.5)\n",
    "  ret, frame = cap.read()\n",
    "\n",
    "  # if frame is read correctly ret is True\n",
    "  if not ret:\n",
    "    print(\"Can't receive frame (stream end?). Exiting ...\")\n",
    "  gray = cv2.cvtColor(frame, cv2.COLOR_BGR2GRAY)\n",
    "  # Detects faces of different sizes in the input image\n",
    "  faces = face_cascade.detectMultiScale(gray, 1.3, 5)\n",
    "  for (x, y, w, h) in faces:\n",
    "    # To draw a rectangle in a face\n",
    "    cv2.rectangle(frame, (x, y), (x + w, y + h), (255, 255, 0), 2)\n",
    "    roi_gray = gray[y:y + h, x:x + w]\n",
    "    roi_color = frame[y:y + h, x:x + w]\n",
    "\n",
    "    # Detects eyes of different sizes in the input image\n",
    "    eyes = eye_cascade.detectMultiScale(roi_gray)\n",
    "\n",
    "    # To draw a rectangle in eyes\n",
    "    for (ex, ey, ew, eh) in eyes:\n",
    "      cv2.rectangle(roi_color, (ex, ey), (ex + ew, ey + eh), (0, 127, 255), 2)\n",
    "  cv2.imshow('Face Detection', frame)\n",
    "  # Wait for Esc key to stop\n",
    "  k = cv2.waitKey(30) & 0xff\n",
    "  if k == 27:\n",
    "    break\n",
    "\n",
    "# Close the window\n",
    "cap.release()\n",
    "# De-allocate any associated memory usage\n",
    "cv2.destroyAllWindows()"
   ]
  }
 ],
 "metadata": {
  "kernelspec": {
   "display_name": "unsloth_env",
   "language": "python",
   "name": "python3"
  },
  "language_info": {
   "codemirror_mode": {
    "name": "ipython",
    "version": 3
   },
   "file_extension": ".py",
   "mimetype": "text/x-python",
   "name": "python",
   "nbconvert_exporter": "python",
   "pygments_lexer": "ipython3",
   "version": "undefined.undefined.undefined"
  }
 },
 "nbformat": 4,
 "nbformat_minor": 2
}
