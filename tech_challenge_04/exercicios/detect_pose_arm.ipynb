{
 "cells": [
  {
   "cell_type": "code",
   "execution_count": 1,
   "metadata": {},
   "outputs": [
    {
     "name": "stderr",
     "output_type": "stream",
     "text": [
      "2024-11-03 17:26:36.903285: I tensorflow/core/util/port.cc:153] oneDNN custom operations are on. You may see slightly different numerical results due to floating-point round-off errors from different computation orders. To turn them off, set the environment variable `TF_ENABLE_ONEDNN_OPTS=0`.\n",
      "2024-11-03 17:26:36.911478: E external/local_xla/xla/stream_executor/cuda/cuda_fft.cc:477] Unable to register cuFFT factory: Attempting to register factory for plugin cuFFT when one has already been registered\n",
      "WARNING: All log messages before absl::InitializeLog() is called are written to STDERR\n",
      "E0000 00:00:1730665596.921192   73004 cuda_dnn.cc:8310] Unable to register cuDNN factory: Attempting to register factory for plugin cuDNN when one has already been registered\n",
      "E0000 00:00:1730665596.924033   73004 cuda_blas.cc:1418] Unable to register cuBLAS factory: Attempting to register factory for plugin cuBLAS when one has already been registered\n",
      "2024-11-03 17:26:36.933930: I tensorflow/core/platform/cpu_feature_guard.cc:210] This TensorFlow binary is optimized to use available CPU instructions in performance-critical operations.\n",
      "To enable the following instructions: AVX2 AVX_VNNI FMA, in other operations, rebuild TensorFlow with the appropriate compiler flags.\n"
     ]
    }
   ],
   "source": [
    "import tensorflow as tf"
   ]
  },
  {
   "cell_type": "code",
   "execution_count": 2,
   "metadata": {},
   "outputs": [
    {
     "name": "stdout",
     "output_type": "stream",
     "text": [
      "[PhysicalDevice(name='/physical_device:GPU:0', device_type='GPU')]\n"
     ]
    }
   ],
   "source": [
    "print(tf.config.list_physical_devices('GPU'))"
   ]
  },
  {
   "cell_type": "code",
   "execution_count": 3,
   "metadata": {},
   "outputs": [
    {
     "ename": "ModuleNotFoundError",
     "evalue": "No module named 'cv2'",
     "output_type": "error",
     "traceback": [
      "\u001b[0;31m---------------------------------------------------------------------------\u001b[0m",
      "\u001b[0;31mModuleNotFoundError\u001b[0m                       Traceback (most recent call last)",
      "Cell \u001b[0;32mIn[3], line 1\u001b[0m\n\u001b[0;32m----> 1\u001b[0m \u001b[38;5;28;01mimport\u001b[39;00m \u001b[38;5;21;01mcv2\u001b[39;00m\n\u001b[1;32m      2\u001b[0m \u001b[38;5;28;01mimport\u001b[39;00m \u001b[38;5;21;01mmediapipe\u001b[39;00m \u001b[38;5;28;01mas\u001b[39;00m \u001b[38;5;21;01mmp\u001b[39;00m\n\u001b[1;32m      3\u001b[0m \u001b[38;5;28;01mimport\u001b[39;00m \u001b[38;5;21;01mos\u001b[39;00m\n",
      "\u001b[0;31mModuleNotFoundError\u001b[0m: No module named 'cv2'"
     ]
    }
   ],
   "source": [
    "import cv2\n",
    "import mediapipe as mp\n",
    "import os\n",
    "from tqdm import tqdm"
   ]
  },
  {
   "cell_type": "code",
   "execution_count": null,
   "metadata": {},
   "outputs": [],
   "source": [
    "def detect_pose(video_path, output_path):\n",
    "    # Inicializar o MediaPipe Pose\n",
    "    mp_pose = mp.solutions.pose\n",
    "    pose = mp_pose.Pose()\n",
    "    mp_drawing = mp.solutions.drawing_utils\n",
    "\n",
    "    # Capturar vídeo do arquivo especificado\n",
    "    cap = cv2.VideoCapture(video_path)\n",
    "\n",
    "    # Verificar se o vídeo foi aberto corretamente\n",
    "    if not cap.isOpened():\n",
    "        print(\"Erro ao abrir o vídeo.\")\n",
    "        return\n",
    "\n",
    "    # Obter propriedades do vídeo\n",
    "    width = int(cap.get(cv2.CAP_PROP_FRAME_WIDTH))\n",
    "    height = int(cap.get(cv2.CAP_PROP_FRAME_HEIGHT))\n",
    "    fps = int(cap.get(cv2.CAP_PROP_FPS))\n",
    "    total_frames = int(cap.get(cv2.CAP_PROP_FRAME_COUNT))\n",
    "\n",
    "    # Definir o codec e criar o objeto VideoWriter\n",
    "    fourcc = cv2.VideoWriter_fourcc(*'mp4v')  # Codec para MP4\n",
    "    out = cv2.VideoWriter(output_path, fourcc, fps, (width, height))\n",
    "\n",
    "    # Loop para processar cada frame do vídeo com barra de progresso\n",
    "    for _ in tqdm(range(total_frames), desc=\"Processando vídeo\"):\n",
    "        # Ler um frame do vídeo\n",
    "        ret, frame = cap.read()\n",
    "\n",
    "        # Se não conseguiu ler o frame (final do vídeo), sair do loop\n",
    "        if not ret:\n",
    "            break\n",
    "\n",
    "        # Converter o frame para RGB\n",
    "        rgb_frame = cv2.cvtColor(frame, cv2.COLOR_BGR2RGB)\n",
    "\n",
    "        # Processar o frame para detectar a pose\n",
    "        results = pose.process(rgb_frame)\n",
    "\n",
    "        # Desenhar as anotações da pose no frame\n",
    "        if results.pose_landmarks:\n",
    "            mp_drawing.draw_landmarks(frame, results.pose_landmarks, mp_pose.POSE_CONNECTIONS)\n",
    "\n",
    "        # Escrever o frame processado no vídeo de saída\n",
    "        out.write(frame)\n",
    "\n",
    "        # Exibir o frame processado\n",
    "        cv2.imshow('Video', frame)\n",
    "        if cv2.waitKey(1) & 0xFF == ord('q'):\n",
    "            break\n",
    "\n",
    "    # Liberar a captura de vídeo e fechar todas as janelas\n",
    "    cap.release()\n",
    "    out.release()\n",
    "    #cv2.destroyAllWindows()\n",
    "\n",
    "# Caminho para o vídeo de entrada e saída\n",
    "input_video_path = './pose_arm.mp4'  # Nome do vídeo de entrada\n",
    "output_video_path = './output_video_pose.mp4'  # Nome do vídeo de saída\n",
    "\n",
    "# Processar o vídeo\n",
    "detect_pose(input_video_path, output_video_path)"
   ]
  },
  {
   "cell_type": "code",
   "execution_count": null,
   "metadata": {},
   "outputs": [],
   "source": [
    "def detect_pose_and_count_arm_movements(video_path, output_path):\n",
    "    # Inicializar o MediaPipe Pose\n",
    "    mp_pose = mp.solutions.pose\n",
    "    pose = mp_pose.Pose()\n",
    "    mp_drawing = mp.solutions.drawing_utils\n",
    "\n",
    "    # Capturar vídeo do arquivo especificado\n",
    "    cap = cv2.VideoCapture(video_path)\n",
    "\n",
    "    # Verificar se o vídeo foi aberto corretamente\n",
    "    if not cap.isOpened():\n",
    "        print(\"Erro ao abrir o vídeo.\")\n",
    "        return\n",
    "\n",
    "    # Obter propriedades do vídeo\n",
    "    width = int(cap.get(cv2.CAP_PROP_FRAME_WIDTH))\n",
    "    height = int(cap.get(cv2.CAP_PROP_FRAME_HEIGHT))\n",
    "    fps = int(cap.get(cv2.CAP_PROP_FPS))\n",
    "    total_frames = int(cap.get(cv2.CAP_PROP_FRAME_COUNT))\n",
    "\n",
    "    # Definir o codec e criar o objeto VideoWriter\n",
    "    fourcc = cv2.VideoWriter_fourcc(*'mp4v')  # Codec para MP4\n",
    "    out = cv2.VideoWriter(output_path, fourcc, fps, (width, height))\n",
    "\n",
    "    # Variáveis para contar movimentos dos braços\n",
    "    arm_up = False\n",
    "    arm_movements_count = 0\n",
    "\n",
    "    # Função para verificar se o braço está levantado\n",
    "    def is_arm_up(landmarks):\n",
    "        left_eye = landmarks[mp_pose.PoseLandmark.LEFT_EYE.value]\n",
    "        right_eye = landmarks[mp_pose.PoseLandmark.RIGHT_EYE.value]\n",
    "        left_elbow = landmarks[mp_pose.PoseLandmark.LEFT_ELBOW.value]\n",
    "        right_elbow = landmarks[mp_pose.PoseLandmark.RIGHT_ELBOW.value]\n",
    "\n",
    "        left_arm_up = left_elbow.y < left_eye.y\n",
    "        right_arm_up = right_elbow.y < right_eye.y\n",
    "\n",
    "        return left_arm_up or right_arm_up\n",
    "\n",
    "    # Loop para processar cada frame do vídeo com barra de progresso\n",
    "    for _ in tqdm(range(total_frames), desc=\"Processando vídeo\"):\n",
    "        # Ler um frame do vídeo\n",
    "        ret, frame = cap.read()\n",
    "\n",
    "        # Se não conseguiu ler o frame (final do vídeo), sair do loop\n",
    "        if not ret:\n",
    "            break\n",
    "\n",
    "        # Converter o frame para RGB\n",
    "        rgb_frame = cv2.cvtColor(frame, cv2.COLOR_BGR2RGB)\n",
    "\n",
    "        # Processar o frame para detectar a pose\n",
    "        results = pose.process(rgb_frame)\n",
    "\n",
    "        # Desenhar as anotações da pose no frame\n",
    "        if results.pose_landmarks:\n",
    "            mp_drawing.draw_landmarks(frame, results.pose_landmarks, mp_pose.POSE_CONNECTIONS)\n",
    "\n",
    "            # Verificar se o braço está levantado\n",
    "            if is_arm_up(results.pose_landmarks.landmark):\n",
    "                if not arm_up:\n",
    "                    arm_up = True\n",
    "                    arm_movements_count += 1\n",
    "            else:\n",
    "                arm_up = False\n",
    "\n",
    "            # Exibir a contagem de movimentos dos braços no frame\n",
    "            cv2.putText(frame, f'Movimentos dos bracos: {arm_movements_count}', (10, 30),\n",
    "                        cv2.FONT_HERSHEY_SIMPLEX, 0.7, (255, 255, 255), 2, cv2.LINE_AA)\n",
    "\n",
    "        # Escrever o frame processado no vídeo de saída\n",
    "        out.write(frame)\n",
    "\n",
    "        # Exibir o frame processado\n",
    "        cv2.imshow('Video', frame)\n",
    "        if cv2.waitKey(1) & 0xFF == ord('q'):\n",
    "            break\n",
    "\n",
    "    # Liberar a captura de vídeo e fechar todas as janelas\n",
    "    cap.release()\n",
    "    out.release()\n",
    "    #cv2.destroyAllWindows()\n",
    "\n",
    "# Caminho para o vídeo de entrada e saída\n",
    "input_video_path = './pose_arm.mp4'  # Nome do vídeo de entrada\n",
    "output_video_path = './output_video_count_arm_up.mp4'  # Nome do vídeo de saída\n",
    "\n",
    "# Processar o vídeo\n",
    "detect_pose_and_count_arm_movements(input_video_path, output_video_path)"
   ]
  }
 ],
 "metadata": {
  "kernelspec": {
   "display_name": "r1",
   "language": "python",
   "name": "python3"
  },
  "language_info": {
   "codemirror_mode": {
    "name": "ipython",
    "version": 3
   },
   "file_extension": ".py",
   "mimetype": "text/x-python",
   "name": "python",
   "nbconvert_exporter": "python",
   "pygments_lexer": "ipython3",
   "version": "3.11.10"
  }
 },
 "nbformat": 4,
 "nbformat_minor": 2
}
