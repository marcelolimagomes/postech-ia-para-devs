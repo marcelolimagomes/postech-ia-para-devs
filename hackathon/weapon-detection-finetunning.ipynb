{
 "cells": [
  {
   "cell_type": "code",
   "execution_count": null,
   "id": "e0191db3",
   "metadata": {
    "_cell_guid": "b1076dfc-b9ad-4769-8c92-a6c4dae69d19",
    "_uuid": "8f2839f25d086af736a60e9eeb907d3b93b6e0e5",
    "execution": {
     "iopub.execute_input": "2024-04-28T09:16:54.073373Z",
     "iopub.status.busy": "2024-04-28T09:16:54.073021Z",
     "iopub.status.idle": "2024-04-28T09:17:08.234499Z",
     "shell.execute_reply": "2024-04-28T09:17:08.233503Z"
    },
    "papermill": {
     "duration": 14.169514,
     "end_time": "2024-04-28T09:17:08.237040",
     "exception": false,
     "start_time": "2024-04-28T09:16:54.067526",
     "status": "completed"
    },
    "tags": []
   },
   "outputs": [],
   "source": [
    "#!pip install ultralytics"
   ]
  },
  {
   "cell_type": "code",
   "execution_count": null,
   "id": "6bcf8665",
   "metadata": {
    "execution": {
     "iopub.execute_input": "2024-04-28T09:17:08.249432Z",
     "iopub.status.busy": "2024-04-28T09:17:08.248593Z",
     "iopub.status.idle": "2024-04-28T09:18:16.634567Z",
     "shell.execute_reply": "2024-04-28T09:18:16.633410Z"
    },
    "papermill": {
     "duration": 68.394522,
     "end_time": "2024-04-28T09:18:16.637034",
     "exception": false,
     "start_time": "2024-04-28T09:17:08.242512",
     "status": "completed"
    },
    "tags": []
   },
   "outputs": [],
   "source": [
    "#!pip install tensorflow==2.13.1"
   ]
  },
  {
   "cell_type": "code",
   "execution_count": null,
   "id": "29065f05",
   "metadata": {
    "execution": {
     "iopub.execute_input": "2024-04-28T09:18:16.676861Z",
     "iopub.status.busy": "2024-04-28T09:18:16.675984Z",
     "iopub.status.idle": "2024-04-28T09:18:21.462120Z",
     "shell.execute_reply": "2024-04-28T09:18:21.461288Z"
    },
    "papermill": {
     "duration": 4.808345,
     "end_time": "2024-04-28T09:18:21.464439",
     "exception": false,
     "start_time": "2024-04-28T09:18:16.656094",
     "status": "completed"
    },
    "tags": []
   },
   "outputs": [],
   "source": [
    "import matplotlib.pyplot as plt\n",
    "import matplotlib.image as mpimg\n",
    "#import numpy as np\n",
    "#import wandb\n",
    "#from kaggle_secrets import UserSecretsClient\n",
    "from ultralytics import YOLO"
   ]
  },
  {
   "cell_type": "code",
   "execution_count": null,
   "id": "26a16bb7",
   "metadata": {
    "execution": {
     "iopub.execute_input": "2024-04-28T09:18:21.504838Z",
     "iopub.status.busy": "2024-04-28T09:18:21.504355Z",
     "iopub.status.idle": "2024-04-28T09:18:23.765458Z",
     "shell.execute_reply": "2024-04-28T09:18:23.764420Z"
    },
    "papermill": {
     "duration": 2.284471,
     "end_time": "2024-04-28T09:18:23.768233",
     "exception": false,
     "start_time": "2024-04-28T09:18:21.483762",
     "status": "completed"
    },
    "tags": []
   },
   "outputs": [],
   "source": [
    "#user_secrets = UserSecretsClient()\n",
    "\n",
    "#my_secret = user_secrets.get_secret(\"wandb_api_key\") \n",
    "\n",
    "#wandb.login(key=my_secret)"
   ]
  },
  {
   "cell_type": "code",
   "execution_count": null,
   "id": "65b03d6c",
   "metadata": {
    "execution": {
     "iopub.execute_input": "2024-04-28T09:18:23.823679Z",
     "iopub.status.busy": "2024-04-28T09:18:23.823337Z",
     "iopub.status.idle": "2024-04-28T09:18:25.699523Z",
     "shell.execute_reply": "2024-04-28T09:18:25.698595Z"
    },
    "papermill": {
     "duration": 1.908613,
     "end_time": "2024-04-28T09:18:25.703833",
     "exception": false,
     "start_time": "2024-04-28T09:18:23.795220",
     "status": "completed"
    },
    "tags": []
   },
   "outputs": [],
   "source": [
    "sample1 = mpimg.imread('./weapon-detection/train/images/ABbframe00274.jpg')\n",
    "sample2 = mpimg.imread('./weapon-detection/test/images/DefenseKnifeAttack0315.jpg')\n",
    "sample3 = mpimg.imread('./weapon-detection/val/images/HBsframe00094.jpg')\n",
    "plt.imshow(sample1)\n",
    "plt.show()\n",
    "plt.imshow(sample2)\n",
    "plt.show()\n",
    "plt.imshow(sample3)\n",
    "plt.show()"
   ]
  },
  {
   "cell_type": "code",
   "execution_count": null,
   "id": "7a7dc125",
   "metadata": {
    "execution": {
     "iopub.execute_input": "2024-04-28T09:18:25.760188Z",
     "iopub.status.busy": "2024-04-28T09:18:25.759856Z",
     "iopub.status.idle": "2024-04-28T09:48:44.005762Z",
     "shell.execute_reply": "2024-04-28T09:48:44.004748Z"
    },
    "papermill": {
     "duration": 1818.276905,
     "end_time": "2024-04-28T09:48:44.008458",
     "exception": false,
     "start_time": "2024-04-28T09:18:25.731553",
     "status": "completed"
    },
    "tags": []
   },
   "outputs": [],
   "source": [
    "# Load a model\n",
    "model = YOLO()\n",
    "# Train the model\n",
    "results = model.train(data='./datasets/data.yaml', epochs=20, imgsz=640)"
   ]
  },
  {
   "cell_type": "code",
   "execution_count": null,
   "id": "720c2ab1",
   "metadata": {
    "execution": {
     "iopub.execute_input": "2024-04-28T09:48:46.397653Z",
     "iopub.status.busy": "2024-04-28T09:48:46.396706Z",
     "iopub.status.idle": "2024-04-28T09:49:00.140341Z",
     "shell.execute_reply": "2024-04-28T09:49:00.139175Z"
    },
    "papermill": {
     "duration": 14.905207,
     "end_time": "2024-04-28T09:49:00.142724",
     "exception": false,
     "start_time": "2024-04-28T09:48:45.237517",
     "status": "completed"
    },
    "tags": []
   },
   "outputs": [],
   "source": [
    "# Load a model\n",
    "model = YOLO('./runs/detect/train8/weights/best.pt') \n",
    "\n",
    "# Validate the model\n",
    "metrics = model.val() "
   ]
  },
  {
   "cell_type": "code",
   "execution_count": null,
   "id": "ce1aaf1f",
   "metadata": {
    "execution": {
     "iopub.execute_input": "2024-04-28T09:49:02.615304Z",
     "iopub.status.busy": "2024-04-28T09:49:02.614873Z",
     "iopub.status.idle": "2024-04-28T09:49:02.848201Z",
     "shell.execute_reply": "2024-04-28T09:49:02.847355Z"
    },
    "papermill": {
     "duration": 1.411599,
     "end_time": "2024-04-28T09:49:02.850169",
     "exception": false,
     "start_time": "2024-04-28T09:49:01.438570",
     "status": "completed"
    },
    "tags": []
   },
   "outputs": [],
   "source": [
    "model.predict(\"./datasets/test/images/DSC_0069.jpg\",save=True)"
   ]
  },
  {
   "cell_type": "code",
   "execution_count": null,
   "id": "dbf5ba7f",
   "metadata": {
    "execution": {
     "iopub.execute_input": "2024-04-28T09:49:05.241732Z",
     "iopub.status.busy": "2024-04-28T09:49:05.241374Z",
     "iopub.status.idle": "2024-04-28T09:49:06.095911Z",
     "shell.execute_reply": "2024-04-28T09:49:06.094824Z"
    },
    "papermill": {
     "duration": 2.035024,
     "end_time": "2024-04-28T09:49:06.099587",
     "exception": false,
     "start_time": "2024-04-28T09:49:04.064563",
     "status": "completed"
    },
    "tags": []
   },
   "outputs": [],
   "source": [
    "import matplotlib.pyplot as plt\n",
    "import matplotlib.image as mpimg\n",
    "import numpy as np\n",
    "test = mpimg.imread('/kaggle/working/runs/detect/predict/DSC_0069.jpg')\n",
    "plt.imshow(test)"
   ]
  },
  {
   "cell_type": "code",
   "execution_count": null,
   "id": "43768e7b",
   "metadata": {
    "execution": {
     "iopub.execute_input": "2024-04-28T09:49:08.458690Z",
     "iopub.status.busy": "2024-04-28T09:49:08.457932Z",
     "iopub.status.idle": "2024-04-28T09:49:48.608255Z",
     "shell.execute_reply": "2024-04-28T09:49:48.607280Z"
    },
    "papermill": {
     "duration": 41.356627,
     "end_time": "2024-04-28T09:49:48.610234",
     "exception": false,
     "start_time": "2024-04-28T09:49:07.253607",
     "status": "completed"
    },
    "tags": []
   },
   "outputs": [],
   "source": [
    "# Export the model\n",
    "model.export(format='tflite')"
   ]
  }
 ],
 "metadata": {
  "kaggle": {
   "accelerator": "gpu",
   "dataSources": [
    {
     "datasetId": 4895326,
     "sourceId": 8250474,
     "sourceType": "datasetVersion"
    }
   ],
   "dockerImageVersionId": 30699,
   "isGpuEnabled": true,
   "isInternetEnabled": true,
   "language": "python",
   "sourceType": "notebook"
  },
  "kernelspec": {
   "display_name": "fiap",
   "language": "python",
   "name": "python3"
  },
  "language_info": {
   "codemirror_mode": {
    "name": "ipython",
    "version": 3
   },
   "file_extension": ".py",
   "mimetype": "text/x-python",
   "name": "python",
   "nbconvert_exporter": "python",
   "pygments_lexer": "ipython3",
   "version": "3.11.11"
  },
  "papermill": {
   "default_parameters": {},
   "duration": 1983.802802,
   "end_time": "2024-04-28T09:49:55.215356",
   "environment_variables": {},
   "exception": null,
   "input_path": "__notebook__.ipynb",
   "output_path": "__notebook__.ipynb",
   "parameters": {},
   "start_time": "2024-04-28T09:16:51.412554",
   "version": "2.5.0"
  }
 },
 "nbformat": 4,
 "nbformat_minor": 5
}
