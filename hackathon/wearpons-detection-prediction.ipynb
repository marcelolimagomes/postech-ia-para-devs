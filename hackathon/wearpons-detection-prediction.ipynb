{
 "cells": [
  {
   "cell_type": "code",
   "execution_count": 11,
   "metadata": {},
   "outputs": [
    {
     "name": "stdout",
     "output_type": "stream",
     "text": [
      "ultralistic version: 8.3.65\n",
      "torch version: 2.5.1+cpu\n"
     ]
    }
   ],
   "source": [
    "import cv2\n",
    "import ultralytics\n",
    "from ultralytics import YOLO\n",
    "import torch\n",
    "\n",
    "#message sender\n",
    "import smtplib, ssl\n",
    "import email.message\n",
    "\n",
    "print('ultralistic version:', ultralytics.__version__)\n",
    "print('torch version:', torch.__version__)"
   ]
  },
  {
   "cell_type": "code",
   "execution_count": 2,
   "metadata": {},
   "outputs": [],
   "source": [
    "def detect_objects_in_video(video_path, output_video):\n",
    "    yolo_model = YOLO('./runs/detect/train8/weights/best.pt') \n",
    "    video_capture = cv2.VideoCapture(video_path)\n",
    "    width = int(video_capture.get(3))\n",
    "    height = int(video_capture.get(4))\n",
    "    fourcc = cv2.VideoWriter_fourcc(*'XVID')\n",
    "    result_video_path = output_video + '.avi'\n",
    "    out = cv2.VideoWriter(result_video_path, fourcc, 20.0, (width, height))\n",
    "    wearpon = False\n",
    "    wearpon_list = {}\n",
    "\n",
    "    while True:\n",
    "        ret, frame = video_capture.read()\n",
    "        if not ret:\n",
    "            break\n",
    "        results = yolo_model(frame, verbose=False)\n",
    "\n",
    "        for result in results:\n",
    "            classes = result.names\n",
    "            cls = result.boxes.cls\n",
    "            conf = result.boxes.conf\n",
    "            detections = result.boxes.xyxy\n",
    "\n",
    "            for pos, detection in enumerate(detections):\n",
    "                if conf[pos] >= 0.5:\n",
    "                    xmin, ymin, xmax, ymax = detection\n",
    "                    label = f\"{classes[int(cls[pos])]}\" \n",
    "                    color = (0, int(cls[pos]), 255)\n",
    "                    cv2.rectangle(frame, (int(xmin), int(ymin)), (int(xmax), int(ymax)), color, 2)\n",
    "                    cv2.putText(frame, label, (int(xmin), int(ymin) - 10), cv2.FONT_HERSHEY_SIMPLEX, 0.5, color, 1, cv2.LINE_AA)\n",
    "                    wearpon = ('gun' in label) or ('knife' in label) or ('knives' in label)\n",
    "                    if wearpon:\n",
    "                        if label not in wearpon_list:\n",
    "                            wearpon_list[label] = 1\n",
    "                        else:\n",
    "                            wearpon_list[label] += 1                        \n",
    "\n",
    "        out.write(frame)\n",
    "    video_capture.release()\n",
    "    out.release()\n",
    "\n",
    "    return wearpon_list"
   ]
  },
  {
   "cell_type": "code",
   "execution_count": 21,
   "metadata": {},
   "outputs": [],
   "source": [
    "def enviar_email(fromMail, passcodeFromMail, toMail, mailMessage):\n",
    "  port = 465  # For SSL\n",
    "  smtp_server = \"smtp.gmail.com\" # email pessoal de texte\n",
    "  sender_email = fromMail\n",
    "  receiver_email = toMail \n",
    "\n",
    "  corpo_email = f\"\"\"\n",
    "      <h1><p>ATTENTION</p></h1>\n",
    "      <h1><p>WEAPON DETECTED IN SECURITY VIDEO</p></h1>\n",
    "      <h2><p>{mailMessage}</p></h2>\n",
    "      <h1><p>ATTENTION</p></h1>\n",
    "      \"\"\"\n",
    "\n",
    "  msg = email.message.Message()\n",
    "  msg['Subject'] = \"SECURITY ALERT\"\n",
    "  msg['From'] = sender_email\n",
    "  msg['To'] = receiver_email\n",
    "  password = passcodeFromMail\n",
    "  msg.add_header('Content-Type', 'text/html')\n",
    "  msg.set_payload(corpo_email)\n",
    "\n",
    "  context = ssl.create_default_context()\n",
    "  with smtplib.SMTP_SSL(smtp_server, port, context=context) as server:\n",
    "      server.login(sender_email, password)\n",
    "      server.sendmail(sender_email, receiver_email, msg.as_string().encode('utf-8'))"
   ]
  },
  {
   "cell_type": "code",
   "execution_count": 3,
   "metadata": {},
   "outputs": [],
   "source": [
    "wearpon_list = detect_objects_in_video('./input/video.mp4', './res_video_1')"
   ]
  },
  {
   "cell_type": "code",
   "execution_count": 23,
   "metadata": {},
   "outputs": [
    {
     "name": "stdout",
     "output_type": "stream",
     "text": [
      "Wearpon detected!!!\n",
      " - Wearpon knife: Times: 82<br>\n",
      " - Wearpon knife: Times: 82<br>\n"
     ]
    }
   ],
   "source": [
    "if len(wearpon_list) > 0:\n",
    "  alertMessage = ''\n",
    "  print('Wearpon detected!!!')\n",
    "  for key in wearpon_list.keys():\n",
    "    message = f' - Wearpon {key}: Times: {wearpon_list[key]}<br>'\n",
    "    print(message)\n",
    "    alertMessage += message\n",
    "    \n",
    "print(alertMessage)\n",
    "\n",
    "enviar_email(\"grupo44.hackatonfiap@gmail.com\", \"iqqh ljbs agma oadv\", 'betinti@hotmail.com', alertMessage)\n",
    "\n",
    "#result_video_path = detect_objects_in_video('./input/video2.mp4', './res_video_2')\n",
    "#print(f\"Detected objects video saved at: {result_video_path}\")"
   ]
  },
  {
   "cell_type": "code",
   "execution_count": null,
   "metadata": {},
   "outputs": [],
   "source": []
  }
 ],
 "metadata": {
  "kernelspec": {
   "display_name": "Python 3",
   "language": "python",
   "name": "python3"
  },
  "language_info": {
   "codemirror_mode": {
    "name": "ipython",
    "version": 3
   },
   "file_extension": ".py",
   "mimetype": "text/x-python",
   "name": "python",
   "nbconvert_exporter": "python",
   "pygments_lexer": "ipython3",
   "version": "3.12.8"
  }
 },
 "nbformat": 4,
 "nbformat_minor": 2
}
