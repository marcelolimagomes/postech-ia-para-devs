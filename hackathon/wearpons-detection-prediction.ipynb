{
 "cells": [
  {
   "cell_type": "code",
   "execution_count": 5,
   "metadata": {},
   "outputs": [
    {
     "name": "stdout",
     "output_type": "stream",
     "text": [
      "ultralistic version: 8.3.62\n",
      "torch version: 2.5.1\n"
     ]
    }
   ],
   "source": [
    "import cv2\n",
    "import ultralytics\n",
    "from ultralytics import YOLO\n",
    "import torch\n",
    "\n",
    "print('ultralistic version:', ultralytics.__version__)\n",
    "print('torch version:', torch.__version__)"
   ]
  },
  {
   "cell_type": "code",
   "execution_count": 6,
   "metadata": {},
   "outputs": [],
   "source": [
    "def detect_objects_in_video(video_path, output_video):\n",
    "    yolo_model = YOLO('./runs/detect/train8/weights/best.pt') \n",
    "    video_capture = cv2.VideoCapture(video_path)\n",
    "    width = int(video_capture.get(3))\n",
    "    height = int(video_capture.get(4))\n",
    "    fourcc = cv2.VideoWriter_fourcc(*'XVID')\n",
    "    result_video_path = output_video + '.avi'\n",
    "    out = cv2.VideoWriter(result_video_path, fourcc, 20.0, (width, height))\n",
    "    wearpon = False\n",
    "    wearpon_list = {}\n",
    "\n",
    "    while True:\n",
    "        ret, frame = video_capture.read()\n",
    "        if not ret:\n",
    "            break\n",
    "        results = yolo_model(frame, verbose=False)\n",
    "\n",
    "        for result in results:\n",
    "            classes = result.names\n",
    "            cls = result.boxes.cls\n",
    "            conf = result.boxes.conf\n",
    "            detections = result.boxes.xyxy\n",
    "\n",
    "            for pos, detection in enumerate(detections):\n",
    "                if conf[pos] >= 0.5:\n",
    "                    xmin, ymin, xmax, ymax = detection\n",
    "                    label = f\"{classes[int(cls[pos])]}\" \n",
    "                    color = (0, int(cls[pos]), 255)\n",
    "                    cv2.rectangle(frame, (int(xmin), int(ymin)), (int(xmax), int(ymax)), color, 2)\n",
    "                    cv2.putText(frame, label, (int(xmin), int(ymin) - 10), cv2.FONT_HERSHEY_SIMPLEX, 0.5, color, 1, cv2.LINE_AA)\n",
    "                    wearpon = ('gun' in label) or ('knife' in label) or ('knives' in label)\n",
    "                    if wearpon:\n",
    "                        if label not in wearpon_list:\n",
    "                            wearpon_list[label] = 1\n",
    "                        else:\n",
    "                            wearpon_list[label] += 1                        \n",
    "\n",
    "        out.write(frame)\n",
    "    video_capture.release()\n",
    "    out.release()\n",
    "\n",
    "    return wearpon_list"
   ]
  },
  {
   "cell_type": "code",
   "execution_count": 7,
   "metadata": {},
   "outputs": [],
   "source": [
    "wearpon_list = detect_objects_in_video('./input/video.mp4', './res_video_1')"
   ]
  },
  {
   "cell_type": "code",
   "execution_count": 8,
   "metadata": {},
   "outputs": [
    {
     "name": "stdout",
     "output_type": "stream",
     "text": [
      "Wearpon detected!!!\n",
      " - Wearpon knife: Times: 81\n"
     ]
    }
   ],
   "source": [
    "if len(wearpon_list) > 0:\n",
    "  print('Wearpon detected!!!')\n",
    "  for key in wearpon_list.keys():\n",
    "    print(f' - Wearpon {key}: Times: {wearpon_list[key]}')\n",
    "\n",
    "#result_video_path = detect_objects_in_video('./input/video2.mp4', './res_video_2')\n",
    "#print(f\"Detected objects video saved at: {result_video_path}\")"
   ]
  }
 ],
 "metadata": {
  "kernelspec": {
   "display_name": "fiap",
   "language": "python",
   "name": "python3"
  },
  "language_info": {
   "codemirror_mode": {
    "name": "ipython",
    "version": 3
   },
   "file_extension": ".py",
   "mimetype": "text/x-python",
   "name": "python",
   "nbconvert_exporter": "python",
   "pygments_lexer": "ipython3",
   "version": "3.11.11"
  }
 },
 "nbformat": 4,
 "nbformat_minor": 2
}
