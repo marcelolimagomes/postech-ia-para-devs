{
 "cells": [
  {
   "cell_type": "code",
   "execution_count": null,
   "metadata": {},
   "outputs": [],
   "source": [
    "# FIAP - Curso IA para Devs\n",
    "# Tech Challenge 03 \n",
    "# Problema: \n",
    "#  -- No Tech Challenge desta fase, você precisa executar o fine-tuning de um \n",
    "#  -- foundation model (Llama, BERT, MISTRAL etc.), utilizando o dataset \"The\n",
    "#  -- AmazonTitles-1.3MM\". O modelo treinado deverá:\n",
    "#\n",
    "# Grupo 44\n",
    "# Francisco Antonio Guilherme\n",
    "# fagn2013@gmail.com\n",
    "\n",
    "# Marcelo Lima Gomes\n",
    "# marcelolimagomes@gmail.com\n",
    "\n",
    "# FELIPE MORAES DOS SANTOS\n",
    "# felipe.moraes.santos2014@gmail.com"
   ]
  },
  {
   "cell_type": "code",
   "execution_count": 1,
   "metadata": {},
   "outputs": [],
   "source": [
    "# Esse notebook tem por objetivo tratar os dados do dataset disponibilizado no trabalho e gera um novo arquivo com os dados tratados.\n",
    "import pandas as pd\n",
    "import html\n",
    "\n",
    "pd.set_option('display.max_columns', None)\n",
    "pd.set_option('display.max_rows', None)\n",
    "\n",
    "# Caminho do dataset disponibilizado no exercício\n",
    "train_file = \"../data/trn.json\""
   ]
  },
  {
   "cell_type": "code",
   "execution_count": 2,
   "metadata": {},
   "outputs": [],
   "source": [
    "# Carrega na memória o dataset de treino informado no enunciado\n",
    "df = pd.read_json(train_file, lines=True)\n",
    "# Remove as colunas que não serão utilizadas no exercício\n",
    "df.drop(columns=['uid', 'target_ind', 'target_rel'], inplace=True)\n"
   ]
  },
  {
   "cell_type": "code",
   "execution_count": null,
   "metadata": {},
   "outputs": [],
   "source": [
    "# Remove do dataset registros que contém o campo 'title' com tamanho igual a 0\n",
    "df = df[df['title'].str.len() > 0]\n",
    "df.info()"
   ]
  },
  {
   "cell_type": "code",
   "execution_count": null,
   "metadata": {},
   "outputs": [],
   "source": [
    "# Remove do dataset registros que contém a palavra 'translation'\n",
    "df = df[~df['content'].str.contains('translation')]\n",
    "\n",
    "# Remove do dataset registros com critério diferente de: Campo 'content' menor que 400 e maior que 500, assim mantendo uma massa de treino \n",
    "# para favorecer a demonstração do trabalho\n",
    "df = df[(df['content'].str.len() > 400) & (df['content'].str.len() <= 500)]\n",
    "df.info()"
   ]
  },
  {
   "cell_type": "code",
   "execution_count": 5,
   "metadata": {},
   "outputs": [],
   "source": [
    "# Converte os caracteres especiais de HTML para Texto\n",
    "df['title'] = df['title'].apply(lambda x: html.unescape(x));\n",
    "df['content'] = df['content'].apply(lambda x: html.unescape(x));"
   ]
  },
  {
   "cell_type": "code",
   "execution_count": null,
   "metadata": {},
   "outputs": [],
   "source": [
    "# Exibe uma amostra do dataset com valores tratados\n",
    "df.head(70)"
   ]
  },
  {
   "cell_type": "code",
   "execution_count": 7,
   "metadata": {},
   "outputs": [],
   "source": [
    "# Substitui conjunto de dois ou mais espaços em branco em sequência por apenas um.\n",
    "df.replace(to_replace=r'\\s+', value=' ', regex=True, inplace=True)"
   ]
  },
  {
   "cell_type": "code",
   "execution_count": null,
   "metadata": {},
   "outputs": [],
   "source": [
    "# Exibe uma amostra do dataset com valores tratados\n",
    "df.head(70)"
   ]
  },
  {
   "cell_type": "code",
   "execution_count": 9,
   "metadata": {},
   "outputs": [],
   "source": [
    "# Salva novo dataset tratado no disco\n",
    "df.to_csv(train_file.replace('.json', '.csv'), index=False, sep=';')"
   ]
  },
  {
   "cell_type": "code",
   "execution_count": 10,
   "metadata": {},
   "outputs": [],
   "source": [
    "# Salva uma amostra com 10000 registros do novo dataset tratado no disco\n",
    "# Esse arquivo que será utilizado para treinamento\n",
    "df.head(10000).to_csv(train_file.replace('.json', '_sample.csv'), index=False, sep=';')"
   ]
  }
 ],
 "metadata": {
  "kernelspec": {
   "display_name": "Python 3",
   "language": "python",
   "name": "python3"
  },
  "language_info": {
   "codemirror_mode": {
    "name": "ipython",
    "version": 3
   },
   "file_extension": ".py",
   "mimetype": "text/x-python",
   "name": "python",
   "nbconvert_exporter": "python",
   "pygments_lexer": "ipython3",
   "version": "3.10.14"
  }
 },
 "nbformat": 4,
 "nbformat_minor": 2
}
