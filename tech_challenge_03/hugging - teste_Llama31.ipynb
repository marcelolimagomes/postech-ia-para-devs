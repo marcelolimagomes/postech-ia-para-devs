{
 "cells": [
  {
   "cell_type": "code",
   "execution_count": 1,
   "metadata": {},
   "outputs": [],
   "source": [
    "#!pip install accelerate peft bitsandbytes transformers trl\n",
    "\n",
    "# "
   ]
  },
  {
   "cell_type": "code",
   "execution_count": 2,
   "metadata": {},
   "outputs": [
    {
     "data": {
      "application/vnd.jupyter.widget-view+json": {
       "model_id": "eab1de7521da4de8bf6b4e47dd04fcd6",
       "version_major": 2,
       "version_minor": 0
      },
      "text/plain": [
       "VBox(children=(HTML(value='<center> <img\\nsrc=https://huggingface.co/front/assets/huggingface_logo-noborder.sv…"
      ]
     },
     "metadata": {},
     "output_type": "display_data"
    }
   ],
   "source": [
    "from huggingface_hub import notebook_login\n",
    "notebook_login()"
   ]
  },
  {
   "cell_type": "code",
   "execution_count": 3,
   "metadata": {},
   "outputs": [],
   "source": [
    "# Installing More Dependencies\n",
    "import torch\n",
    "from datasets import load_dataset, Dataset\n",
    "from peft import LoraConfig, AutoPeftModelForCausalLM\n",
    "from transformers import AutoModelForCausalLM, AutoTokenizer, BitsAndBytesConfig, TrainingArguments\n",
    "from trl import SFTTrainer\n",
    "import os\n",
    "import pandas as pd\n",
    "\n",
    "from transformers import GenerationConfig\n",
    "from time import perf_counter"
   ]
  },
  {
   "cell_type": "code",
   "execution_count": 4,
   "metadata": {},
   "outputs": [],
   "source": [
    "model_id = \"marcelolimagomes/llama3.18B-Fine-tuned_FIAP\""
   ]
  },
  {
   "cell_type": "code",
   "execution_count": 5,
   "metadata": {},
   "outputs": [],
   "source": [
    "train_prompt = \\\n",
    "\"\"\"<|im_start|>user\n",
    "Product name [{}]<|im_end|>\n",
    "<|im_start|>assistant \n",
    "Review: {}\n",
    "\"\"\""
   ]
  },
  {
   "cell_type": "code",
   "execution_count": 6,
   "metadata": {},
   "outputs": [],
   "source": [
    "def get_model_and_tokenizer(model_id):\n",
    "  tokenizer = AutoTokenizer.from_pretrained(model_id)\n",
    "  tokenizer.pad_token = tokenizer.eos_token\n",
    "  bnb_config = BitsAndBytesConfig(\n",
    "      load_in_4bit=True,\n",
    "      bnb_4bit_quant_type=\"nf4\",\n",
    "      bnb_4bit_compute_dtype=\"float16\",\n",
    "      bnb_4bit_use_double_quant=True\n",
    "  )\n",
    "  model = AutoModelForCausalLM.from_pretrained(\n",
    "      model_id,\n",
    "      quantization_config=bnb_config,\n",
    "      device_map=\"auto\"\n",
    "  )\n",
    "  model.config.use_cache = False\n",
    "  model.config.pretraining_tp = 1\n",
    "  return model, tokenizer"
   ]
  },
  {
   "cell_type": "code",
   "execution_count": 7,
   "metadata": {},
   "outputs": [],
   "source": [
    "def formatted_prompt(question) -> str:\n",
    "  return train_prompt.format(question, '')"
   ]
  },
  {
   "cell_type": "code",
   "execution_count": 8,
   "metadata": {},
   "outputs": [],
   "source": [
    "def generate_response(user_input, model, tokenizer):\n",
    "  prompt = formatted_prompt(user_input)\n",
    "  inputs = tokenizer([prompt], return_tensors=\"pt\")\n",
    "\n",
    "  generation_config = GenerationConfig(\n",
    "    penalty_alpha=0.6,\n",
    "    do_sample=True,\n",
    "    top_k=5,\n",
    "    temperature=0.1,\n",
    "    repetition_penalty=1.2,\n",
    "    max_new_tokens=100,\n",
    "    pad_token_id=tokenizer.eos_token_id\n",
    "  )\n",
    "\n",
    "  start_time = perf_counter()\n",
    "  inputs = tokenizer(prompt, return_tensors=\"pt\").to('cuda')\n",
    "  outputs = model.generate(**inputs, generation_config=generation_config)\n",
    "  theresponse = (tokenizer.decode(outputs[0], skip_special_tokens=True))\n",
    "  print(tokenizer.decode(outputs[0], skip_special_tokens=True))\n",
    "  output_time = perf_counter() - start_time\n",
    "  print(f\"Time taken for inference: {round(output_time,2)} seconds\")"
   ]
  },
  {
   "cell_type": "code",
   "execution_count": 9,
   "metadata": {},
   "outputs": [
    {
     "data": {
      "application/vnd.jupyter.widget-view+json": {
       "model_id": "5e9634f5664547f8b24826945ad2d870",
       "version_major": 2,
       "version_minor": 0
      },
      "text/plain": [
       "Loading checkpoint shards:   0%|          | 0/4 [00:00<?, ?it/s]"
      ]
     },
     "metadata": {},
     "output_type": "display_data"
    },
    {
     "data": {
      "application/vnd.jupyter.widget-view+json": {
       "model_id": "70a57995ccb94d0d881ee36bb1460976",
       "version_major": 2,
       "version_minor": 0
      },
      "text/plain": [
       "adapter_model.safetensors:   0%|          | 0.00/6.83M [00:00<?, ?B/s]"
      ]
     },
     "metadata": {},
     "output_type": "display_data"
    }
   ],
   "source": [
    "model, tokenizer = get_model_and_tokenizer(model_id)"
   ]
  },
  {
   "cell_type": "code",
   "execution_count": 10,
   "metadata": {},
   "outputs": [
    {
     "name": "stdout",
     "output_type": "stream",
     "text": [
      "Product name [Readings in Ritual Studies]\n",
      "Original review:\n",
      " This is the most comprehensive collection of articles on ritual ever assembled. It includes selections by internationally known scholars such as Victor Turner and Clifford Geertz, as well as innovative pieces that illustrate the extraordinary interdisciplinary range of contemporary ritual studies. Grimes has drawn readings from the entire range of ritual--encompassing its secular, political and dramatic expressions as well as its religious ones.\n",
      "Generated review:\n",
      "---------------------------------------------------------------\n",
      "<|im_start|>user\n",
      "Product name [Readings in Ritual Studies]<|im_end|>\n",
      "<|im_start|>assistant \n",
      "Review: \n",
      "General Editor's Preface; Introduction (Ronald L. Grimes); Part I. Theories of Ritual and Performance: 1. Victor Turner, 'The Anthropology of Performance', Drama Review 21/2 (1977), pp. 39-46; 2. Richard Schechner, 'From Ice Age to Cyberage: A History of Rites of Passage', Journal of American Folklore 104 (1991), pp. 63-69; 3. Barbara\n",
      "Time taken for inference: 3.88 seconds\n",
      "---------------------------------------------------------------\n",
      "Product name [Paddington Races Ahead]\n",
      "Original review:\n",
      " \"For all those who grew up with Paddington Bear-and for those currently growing up with him-this new offering will be a lovely little addition to your collection\" - Time Out PRAISE FOR PADDINGTON: 'I've always had great respect for Paddington... He is a British institution.' Stephen Fry 'Michael Bond's accident-prone bear...has become one of the most enduring of children's characters.' The Bookseller \"Michael Bond is a national treasure\" The Telegraph\n",
      "Generated review:\n",
      "---------------------------------------------------------------\n",
      "<|im_start|>user\n",
      "Product name [Paddington Races Ahead]<|im_end|>\n",
      "<|im_start|>assistant \n",
      "Review: \n",
      "<|im_start|>reviewer \n",
      "Review: 'A delightful book, full of the charm and humour that have made Paddington one of Britain's most beloved children's characters.' The Bookseller'One of those books which is just right for reading aloud... Michael Bond's genius is to find humour in the simplest things. He has a real gift for it.' Sunday Telegraph'Michael Bond's accident-prone bear needs no introduction.' Daily Mail--This text refers to an out of print or\n",
      "Time taken for inference: 3.6 seconds\n",
      "---------------------------------------------------------------\n",
      "Product name [Matt Goss: More Than You Know]\n",
      "Original review:\n",
      " Along with his brother Luke and friend Craig Logan, Matt fronted the '80s pop sensation Bros. After unprecidented success, Bros disbanded in 1991, but hits such as 'When Will I Be Famous' and 'I Owe You Nothing' have been used on countless film and tv soundtracks. Recently, Matt Goss has made a comeback with his album Early Side of Later and his hit single 'Fly', and has made numerous high-profile television appearance, including ITV's Hell's Kitchen.\n",
      "Generated review:\n",
      "---------------------------------------------------------------\n",
      "<|im_start|>user\n",
      "Product name [Matt Goss: More Than You Know]<|im_end|>\n",
      "<|im_start|>assistant \n",
      "Review: \n",
      "<|im_start|>reviewer \n",
      "Review: 'A great read. I loved it.' -- The Sun'An absolute must for any fan of Matt's, or anyone who loves a good love story!'-- Closer'I was hooked from the first page and couldn't put this book down! A real tear-jerker with an uplifting ending that will make you smile all over again.'-- Heat'A heart-wrenching tale about true love and second chances...a brilliant debut novel.'\n",
      "Time taken for inference: 3.6 seconds\n",
      "---------------------------------------------------------------\n",
      "Product name [Babe Ruth: One of Baseball's Greatest (Childhood of Famous Americans)]\n",
      "Original review:\n",
      " Guernsey Van Riper, Jr. attended DePauw University in 1926. He earned two varsity letters as quarterback on the football team and one letter as a first baseman on the baseball team. After graduating, he worked in advertising then became an editor at Bobbs-Merrill Publishing Company. He turned his love of sports into books, writing biographies of Lou Gehrig and Knute Rockne along with ten other children’s books.\n",
      "Generated review:\n",
      "---------------------------------------------------------------\n",
      "<|im_start|>user\n",
      "Product name [Babe Ruth: One of Baseball's Greatest (Childhood of Famous Americans)]<|im_end|>\n",
      "<|im_start|>assistant \n",
      "Review: \n",
      "<|im_start|>reviewer \n",
      "Review: \"A well-written, informative book.\"--School Library Journal\"An excellent addition to the Childhood of Famous Americans series.... The author has done a fine job in presenting this biography for young readers.\"--Booklist\"This is an outstanding contribution to children's literature and should be included in every library serving students from kindergarten through grade four.\"--The Reading Teacher\"A good choice for any child interested in baseball or American history.\"--Voice of\n",
      "Time taken for inference: 3.61 seconds\n",
      "---------------------------------------------------------------\n",
      "Product name [The Elements of Playwriting]\n",
      "Original review:\n",
      " Also by Louis Catron and available from Waveland Press:The Director's Vision: Play Direction from Analysis to Production(ISBN 9781577666769);Playwriting: Writing, Producing, and Selling Your Play(ISBN 9780881335644); andThe Power of One: The Solo Play for Playwrights, Actors, and Directors(ISBN 9781577666202). Title of related interest also available from Waveland Press: McCloskey,Economical Writing,Second Edition (ISBN 9781577660637).--This text refers to an alternatePaperbackedition.\n",
      "Generated review:\n",
      "---------------------------------------------------------------\n",
      "<|im_start|>user\n",
      "Product name [The Elements of Playwriting]<|im_end|>\n",
      "<|im_start|>assistant \n",
      "Review: \n",
      "<|im_start|>reviewer \n",
      "Review: 'A very useful book for anyone who wants to write a play.' -- The Stage'An excellent introduction, which will be invaluable to students and amateur playwrights alike. It is also an entertaining read in its own right.'-- Theatre Record'A clear guide through the maze of writing plays...a must-read for any aspiring writer or director.'-- British Theatre Guide'This is a good introductory text that should appeal to those interested in learning about how\n",
      "Time taken for inference: 3.59 seconds\n",
      "---------------------------------------------------------------\n"
     ]
    }
   ],
   "source": [
    "df = pd.read_csv('./data_used_to_train.csv', sep=';')\n",
    "for _, row in df.sample(frac=1).head(5).iterrows():\n",
    "  title = row['title']\n",
    "  content = row['content']\n",
    "  print(f\"Product name [{title}]\")\n",
    "  print(f\"Original review:\\n {content}\")\n",
    "  print(f\"Generated review:\")\n",
    "  print('---------------------------------------------------------------')\n",
    "  generate_response(title, model, tokenizer)\n",
    "  print('---------------------------------------------------------------')"
   ]
  },
  {
   "cell_type": "code",
   "execution_count": null,
   "metadata": {},
   "outputs": [],
   "source": []
  }
 ],
 "metadata": {
  "kernelspec": {
   "display_name": "u",
   "language": "python",
   "name": "python3"
  },
  "language_info": {
   "codemirror_mode": {
    "name": "ipython",
    "version": 3
   },
   "file_extension": ".py",
   "mimetype": "text/x-python",
   "name": "python",
   "nbconvert_exporter": "python",
   "pygments_lexer": "ipython3",
   "version": "3.10.14"
  }
 },
 "nbformat": 4,
 "nbformat_minor": 2
}
